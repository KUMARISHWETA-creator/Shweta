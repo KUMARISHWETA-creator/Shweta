{
 "cells": [
  {
   "cell_type": "code",
   "execution_count": 1,
   "id": "3524e2b0-c261-42cd-825d-2a1497391a59",
   "metadata": {},
   "outputs": [
    {
     "name": "stdout",
     "output_type": "stream",
     "text": [
      "1\n",
      "2\n",
      "3\n",
      "4\n",
      "5\n",
      "6\n",
      "7\n",
      "8\n",
      "9\n",
      "10\n"
     ]
    }
   ],
   "source": [
    "## Print Natural number 1 to 10\n",
    "\n",
    "for i in range(1,11):\n",
    "    print(i)"
   ]
  },
  {
   "cell_type": "code",
   "execution_count": 2,
   "id": "bc4f7489-2960-4b8a-bf03-610441439a55",
   "metadata": {},
   "outputs": [
    {
     "name": "stdin",
     "output_type": "stream",
     "text": [
      "Enter value of n:  5\n"
     ]
    },
    {
     "name": "stdout",
     "output_type": "stream",
     "text": [
      "Total sum is:  15\n"
     ]
    }
   ],
   "source": [
    "\n",
    "## Sum of number\n",
    "\n",
    "n = input(\"Enter value of n: \")\n",
    "n = int(n)\n",
    "total_sum = 0\n",
    "for i in range(1, n+1):\n",
    "    total_sum = total_sum + i\n",
    "print(\"Total sum is: \", total_sum)"
   ]
  },
  {
   "cell_type": "code",
   "execution_count": 3,
   "id": "522e7f25-b9c6-4615-856a-c5196745d86c",
   "metadata": {},
   "outputs": [
    {
     "name": "stdout",
     "output_type": "stream",
     "text": [
      "avatsavirhS atewhS\n"
     ]
    }
   ],
   "source": [
    "## Reverse of String\n",
    "\n",
    "str = \"Shweta Shrivastava\"\n",
    "reverseString=\"\"\n",
    "for i in str:\n",
    "\treverseString = i+ reverseString\n",
    "print(reverseString)"
   ]
  },
  {
   "cell_type": "code",
   "execution_count": 4,
   "id": "eab860ef-21b3-4dc2-9fed-ef9f69a0ad81",
   "metadata": {},
   "outputs": [
    {
     "name": "stdout",
     "output_type": "stream",
     "text": [
      "1\n",
      "2\n",
      "6\n",
      "24\n",
      "120\n"
     ]
    }
   ],
   "source": [
    "## Factorial of number\n",
    "\n",
    "n=5\n",
    "fact=1\n",
    "for i in range(1,n+1):\n",
    "    fact=fact*i\n",
    "    print(fact)"
   ]
  },
  {
   "cell_type": "code",
   "execution_count": 5,
   "id": "ec2b5b8c-5276-474c-b7f2-3c3edd5d8519",
   "metadata": {},
   "outputs": [
    {
     "name": "stdout",
     "output_type": "stream",
     "text": [
      "10 * 1 = 10\n",
      "10 * 2 = 20\n",
      "10 * 3 = 30\n",
      "10 * 4 = 40\n",
      "10 * 5 = 50\n",
      "10 * 6 = 60\n",
      "10 * 7 = 70\n",
      "10 * 8 = 80\n",
      "10 * 9 = 90\n",
      "10 * 10 = 100\n"
     ]
    }
   ],
   "source": [
    "## Print the multiplication table of a given number\n",
    "\n",
    "n=10\n",
    "for i in range(1,11):\n",
    "    print(n,\"*\",i,\"=\",n*i)"
   ]
  },
  {
   "cell_type": "code",
   "execution_count": 6,
   "id": "c2f40c76-3019-4587-ab78-be88f3b4001c",
   "metadata": {},
   "outputs": [
    {
     "name": "stdout",
     "output_type": "stream",
     "text": [
      "Even numbers in the list:  3\n",
      "Odd numbers in the list:  3\n"
     ]
    }
   ],
   "source": [
    "## Counts the number of even and odd numbers in a list\n",
    "\n",
    "a=[3,4,6,7,8,9]\n",
    "Even_Count=0\n",
    "Odd_Count=0\n",
    "for i in a:\n",
    "    if i%2==0:\n",
    "        Even_Count=Even_Count+1\n",
    "    else:\n",
    "        Odd_Count=Odd_Count+1\n",
    "print(\"Even numbers in the list: \", Even_Count)\n",
    "print(\"Odd numbers in the list: \", Odd_Count)"
   ]
  },
  {
   "cell_type": "code",
   "execution_count": 7,
   "id": "a3eec4d9-9b5d-4011-9521-70933dd1bc90",
   "metadata": {},
   "outputs": [
    {
     "name": "stdout",
     "output_type": "stream",
     "text": [
      "Square of number is: 1\n",
      "Square of number is: 4\n",
      "Square of number is: 9\n",
      "Square of number is: 16\n"
     ]
    }
   ],
   "source": [
    "## squares of numbers from 1 to 5\n",
    "\n",
    "for i in range(1,5):\n",
    "    Square=i*i\n",
    "    print(\"Square of number is:\",Square)"
   ]
  },
  {
   "cell_type": "code",
   "execution_count": 8,
   "id": "4e0e4d10-98fd-4661-a6f8-317992b87b81",
   "metadata": {},
   "outputs": [
    {
     "name": "stdout",
     "output_type": "stream",
     "text": [
      "11\n"
     ]
    }
   ],
   "source": [
    "## Count character in string\n",
    "\n",
    "a=\"Hello World\"\n",
    "count=0\n",
    "for i in a:\n",
    "    count=count+1\n",
    "print(count)"
   ]
  },
  {
   "cell_type": "code",
   "execution_count": 9,
   "id": "bf0eb5b9-1477-4370-9daa-367d13a45098",
   "metadata": {},
   "outputs": [
    {
     "name": "stdout",
     "output_type": "stream",
     "text": [
      "7.714285714285714\n"
     ]
    }
   ],
   "source": [
    "## Average of number in list\n",
    "\n",
    "l=[2,4,6,7,8,12,15]\n",
    "avg=0\n",
    "for i in l:\n",
    "    avg=avg+i\n",
    "    r=sum(l)/len(l)\n",
    "print(r)"
   ]
  },
  {
   "cell_type": "code",
   "execution_count": 10,
   "id": "38cbbf5d-7ba0-4b6d-b9ab-f3909a0041a5",
   "metadata": {},
   "outputs": [
    {
     "name": "stdin",
     "output_type": "stream",
     "text": [
      "Enter a number 5\n"
     ]
    },
    {
     "name": "stdout",
     "output_type": "stream",
     "text": [
      "0 1 1 2 3 "
     ]
    }
   ],
   "source": [
    "## Fibonaaci Series\n",
    "\n",
    "n=int(input(\"Enter a number\"))\n",
    "a=0\n",
    "b=1\n",
    "for i in range(1,n+1):\n",
    "    print(a,end=\" \")\n",
    "    c=a+b\n",
    "    a=b\n",
    "    b=c"
   ]
  },
  {
   "cell_type": "code",
   "execution_count": 11,
   "id": "4f9f5073-c526-4c2e-aef7-aa4f5c2ed718",
   "metadata": {},
   "outputs": [
    {
     "name": "stdout",
     "output_type": "stream",
     "text": [
      "2 3 4 5 "
     ]
    }
   ],
   "source": [
    "## Duplicate Elements in list\n",
    "\n",
    "l=[1,2,3,4,5,2,3,4,7,9,5]\n",
    "l1=[]\n",
    "for i in l:\n",
    "    if i not in l1:\n",
    "        l1.append(i)\n",
    "    else:\n",
    "        print(i,end=' ')"
   ]
  },
  {
   "cell_type": "code",
   "execution_count": 12,
   "id": "af261c2b-215e-4114-9528-6342d03c79bf",
   "metadata": {},
   "outputs": [
    {
     "name": "stdout",
     "output_type": "stream",
     "text": [
      "12 is not a prime number\n"
     ]
    }
   ],
   "source": [
    "## To check Number is prime or not\n",
    "\n",
    "num = 12\n",
    "if num > 1:\n",
    "    for i in range(2, int(num/2)+1):\n",
    "        if (num % i) == 0:\n",
    "            print(num, \"is not a prime number\")\n",
    "            break\n",
    "    else:\n",
    "        print(num, \"is a prime number\")\n",
    "else:\n",
    "    print(num, \"is not a prime number\")"
   ]
  },
  {
   "cell_type": "code",
   "execution_count": 17,
   "id": "22e1bdc9-7532-44fd-bfb1-2905448f59a1",
   "metadata": {},
   "outputs": [
    {
     "name": "stdin",
     "output_type": "stream",
     "text": [
      "Enter a string 4\n"
     ]
    },
    {
     "name": "stdout",
     "output_type": "stream",
     "text": [
      "No vowels found\n"
     ]
    }
   ],
   "source": [
    "## Counts the number os vowels in string\n",
    "String=input(\"Enter a string\")\n",
    "count=0\n",
    "for i in String:\n",
    "    if i == 'a' or i == 'e' or i == 'i' or i == 'o' or i == 'u':\n",
    "        #if True\n",
    "        count+=1\n",
    "#check if any vowel found\n",
    "if count == 0:\n",
    "    print('No vowels found')\n",
    "else:\n",
    "    print('Total vowels are :' + str(count))"
   ]
  },
  {
   "cell_type": "code",
   "execution_count": 18,
   "id": "629dcb65-c385-442b-8641-6f399e8949d1",
   "metadata": {},
   "outputs": [
    {
     "name": "stdout",
     "output_type": "stream",
     "text": [
      "For 1st rowt:\n",
      "   a = [[0, 0], [0, 0]]\n"
     ]
    }
   ],
   "source": [
    "## 2D List\n",
    "\n",
    "rows = 2\n",
    "cols = 2\n",
    "a = []\n",
    "for row in range(rows):\n",
    "    a += [[0]*cols]\n",
    "print(\"For 1st rowt:\")\n",
    "print(\"   a =\", a)"
   ]
  },
  {
   "cell_type": "code",
   "execution_count": 19,
   "id": "100cd479-8c77-4bab-8635-0a1c4f4cb14b",
   "metadata": {},
   "outputs": [
    {
     "name": "stdout",
     "output_type": "stream",
     "text": [
      "Original list:\n",
      "[10, 20, 10, 30, 10, 40, 10, 50]\n",
      "list after removing elements:\n",
      "[20, 30, 40, 50]\n"
     ]
    }
   ],
   "source": [
    "## Remove Occurences from List\n",
    "\n",
    "list = [10, 20, 10, 30, 10, 40, 10, 50]\n",
    "n = 10 \n",
    "print (\"Original list:\")\n",
    "print (list)\n",
    "for x in list:\n",
    "    if x == n:\n",
    "        list.remove(x)\n",
    "print (\"list after removing elements:\")\n",
    "print (list)"
   ]
  },
  {
   "cell_type": "code",
   "execution_count": 20,
   "id": "39ba2ec2-5413-443b-ad0f-3c22b2431ee7",
   "metadata": {},
   "outputs": [
    {
     "name": "stdout",
     "output_type": "stream",
     "text": [
      " 1  2  3  4  5 \n",
      "\n",
      " 2  4  6  8 10 \n",
      "\n",
      " 3  6  9 12 15 \n",
      "\n",
      " 4  8 12 16 20 \n",
      "\n",
      " 5 10 15 20 25 \n",
      "\n"
     ]
    }
   ],
   "source": [
    "## print 1 to 15 multiplication table\n",
    "\n",
    "rows=5\n",
    "columns=5\n",
    "for i in range(1,rows+1):\n",
    "    for j in range(1,columns+1):\n",
    "        c=i*j\n",
    "        print(\"{:2d} \".format(c),end='')\n",
    "    print(\"\\n\")"
   ]
  },
  {
   "cell_type": "code",
   "execution_count": 21,
   "id": "ae051ea1-e2ac-49a9-b950-63b56b97c653",
   "metadata": {},
   "outputs": [
    {
     "name": "stdout",
     "output_type": "stream",
     "text": [
      "{8, 9, 3}\n"
     ]
    }
   ],
   "source": [
    "## Comman Elements in 2 List\n",
    "\n",
    "a = [2,3,4,8,9]\n",
    "b = [7,6,8,9,3]\n",
    "c = [x for x in a for y in b if x == y]\n",
    "print (set(c))"
   ]
  },
  {
   "cell_type": "code",
   "execution_count": 22,
   "id": "facdee2a-93e0-48bb-86c6-e7ea76bd80b8",
   "metadata": {},
   "outputs": [
    {
     "name": "stdin",
     "output_type": "stream",
     "text": [
      "Enter a number 5\n"
     ]
    },
    {
     "name": "stdout",
     "output_type": "stream",
     "text": [
      "*  \n",
      "* *  \n",
      "* * *  \n",
      "* * * *  \n",
      "* * * * *  \n"
     ]
    }
   ],
   "source": [
    "## Print right angle triangle\n",
    "\n",
    "x=int(input(\"Enter a number\"))\n",
    "for i in range(x):\n",
    "    for j in range(i+1):\n",
    "        print(\"*\",end=\" \") \n",
    "    print(\" \")"
   ]
  },
  {
   "cell_type": "code",
   "execution_count": 23,
   "id": "1561d66a-1387-4fef-88ff-e649ce2cd3f8",
   "metadata": {},
   "outputs": [
    {
     "name": "stdout",
     "output_type": "stream",
     "text": [
      "GCD of num1 and num2 is: 12\n"
     ]
    }
   ],
   "source": [
    "## GCD of 2 numbers\n",
    "\n",
    "num1=36\n",
    "num2=60\n",
    "gcd=1\n",
    "for i in range(1,min(num1,num2)):\n",
    "    if num1%i==0 and num2%i==0:\n",
    "        gcd=i\n",
    "print(\"GCD of num1 and num2 is:\",gcd)"
   ]
  },
  {
   "cell_type": "code",
   "execution_count": 37,
   "id": "788203b6-9bb5-4f04-bea8-8910d87ee19a",
   "metadata": {},
   "outputs": [
    {
     "name": "stdin",
     "output_type": "stream",
     "text": [
      "Enter a number 65\n"
     ]
    },
    {
     "name": "stdout",
     "output_type": "stream",
     "text": [
      "Total =  11\n"
     ]
    }
   ],
   "source": [
    "## Sum of Digits of number\n",
    "num=int(input(\"Enter a number\"))\n",
    "tot = 0\n",
    "for i in range(num):\n",
    "    tot += num % 10\n",
    "    num //= 10\n",
    "print(\"Total = \", tot)"
   ]
  },
  {
   "cell_type": "code",
   "execution_count": 38,
   "id": "7b9f9c92-ee83-4abf-8a0f-2cb6a7bf4db2",
   "metadata": {},
   "outputs": [
    {
     "name": "stdin",
     "output_type": "stream",
     "text": [
      " Please Enter any Number:  121\n"
     ]
    },
    {
     "name": "stdout",
     "output_type": "stream",
     "text": [
      " 11 is a Prime Factor of a Given Number 121\n"
     ]
    }
   ],
   "source": [
    "# Python Program to find Prime Factors of a Number\n",
    " \n",
    "Number = int(input(\" Please Enter any Number: \"))\n",
    "for i in range(2, Number + 1):\n",
    "    if(Number % i == 0):\n",
    "        isprime = 1\n",
    "        for j in range(2, (i //2 + 1)):\n",
    "            if(i % j == 0):\n",
    "                isprime = 0\n",
    "                break  \n",
    "        if (isprime == 1):\n",
    "            print(\" %d is a Prime Factor of a Given Number %d\" %(i, Number))"
   ]
  },
  {
   "cell_type": "code",
   "execution_count": 39,
   "id": "f464a1dd-b85a-49ce-b355-167aa0b1b454",
   "metadata": {},
   "outputs": [
    {
     "name": "stdout",
     "output_type": "stream",
     "text": [
      "['h', 'u', 'm', 'a', 'n']\n"
     ]
    }
   ],
   "source": [
    "## that extracts unique elements from a list and stores them in a new list\n",
    "\n",
    "h_letters = []\n",
    "for letter in 'human':\n",
    "    h_letters.append(letter)\n",
    "print(h_letters)"
   ]
  },
  {
   "cell_type": "code",
   "execution_count": 52,
   "id": "b56daffc-563c-4328-b4ed-56afc04d0e4d",
   "metadata": {},
   "outputs": [
    {
     "name": "stdout",
     "output_type": "stream",
     "text": [
      "No\n",
      "No\n"
     ]
    }
   ],
   "source": [
    "## Number is palindrome or not\n",
    "\n",
    "def is_palindrome(input_list):\n",
    "    length = len(input_list)\n",
    "    for i in range(length // 2):\n",
    "        if input_list[i] != input_list[length - i - 1]:\n",
    "            return 'No'\n",
    "    return 'yes'\n",
    " \n",
    "test_list1 = [121,34,45]\n",
    "test_list2 = [4, 5, 5]\n",
    " \n",
    "print(is_palindrome(test_list1))\n",
    "print(is_palindrome(test_list2))"
   ]
  },
  {
   "cell_type": "code",
   "execution_count": 53,
   "id": "48e40c8e-ef07-4427-8dde-f6e85e925c7f",
   "metadata": {},
   "outputs": [
    {
     "name": "stdout",
     "output_type": "stream",
     "text": [
      "[1, 2, 3, 4, 5, 6, 7]\n"
     ]
    }
   ],
   "source": [
    "## to flatten a nested list using list comprehensio\n",
    "\n",
    "my_list = [[1], [2, 3], [4, 5, 6, 7]]\n",
    "flat_list = [num for sublist in my_list for num in sublist]\n",
    "print(flat_list)"
   ]
  },
  {
   "cell_type": "code",
   "execution_count": 54,
   "id": "1f2008fc-182a-4f6c-9210-4e6c36d01b53",
   "metadata": {},
   "outputs": [
    {
     "name": "stdin",
     "output_type": "stream",
     "text": [
      "Please enter the Total Number of List Elements:  5\n",
      "Please enter the Value of 1 Element :  23\n",
      "Please enter the Value of 2 Element :  21\n",
      "Please enter the Value of 3 Element :  22\n",
      "Please enter the Value of 4 Element :  34\n",
      "Please enter the Value of 5 Element :  56\n"
     ]
    },
    {
     "name": "stdout",
     "output_type": "stream",
     "text": [
      "\n",
      "The Sum of Even Numbers in this List =   112\n",
      "The Sum of Odd Numbers in this List =   44\n"
     ]
    }
   ],
   "source": [
    "# Python Program to find Sum of Even and Odd Numbers in a List\n",
    "\n",
    "NumList = []\n",
    "Even_Sum = 0\n",
    "Odd_Sum = 0\n",
    "Number = int(input(\"Please enter the Total Number of List Elements: \"))\n",
    "for i in range(1, Number + 1):\n",
    "    value = int(input(\"Please enter the Value of %d Element : \" %i))\n",
    "    NumList.append(value)\n",
    "for j in range(Number):\n",
    "    if(NumList[j] % 2 == 0):\n",
    "        Even_Sum = Even_Sum + NumList[j]\n",
    "    else:\n",
    "        Odd_Sum = Odd_Sum + NumList[j]\n",
    "print(\"\\nThe Sum of Even Numbers in this List =  \", Even_Sum)\n",
    "print(\"The Sum of Odd Numbers in this List =  \", Odd_Sum)"
   ]
  },
  {
   "cell_type": "code",
   "execution_count": 55,
   "id": "5ada90fb-116d-44f0-9f51-044ab74270dd",
   "metadata": {},
   "outputs": [
    {
     "name": "stdout",
     "output_type": "stream",
     "text": [
      "[1, 9, 25, 49]\n"
     ]
    }
   ],
   "source": [
    "# use list comprehension to get square\n",
    "\n",
    "data=[1,2,3,4,5,6,7]\n",
    "result = [i*i for i in data if i%2!=0]\n",
    "print(result)"
   ]
  },
  {
   "cell_type": "code",
   "execution_count": 56,
   "id": "da62c797-4289-4c2d-b994-3be84b3da686",
   "metadata": {},
   "outputs": [
    {
     "name": "stdout",
     "output_type": "stream",
     "text": [
      "Keys List: ['Name', 'Age', 'Gender', 'Country']\n",
      "Values List: ['James', 32, 'Male', 'United States']\n",
      "Dictionary: {'Name': 'James', 'Age': 32, 'Gender': 'Male', 'Country': 'United States'}\n"
     ]
    }
   ],
   "source": [
    "## Combine 2 list\n",
    "\n",
    "keys_list = ['Name', 'Age', 'Gender', 'Country']\n",
    "values_list = ['James', 32, 'Male', 'United States']\n",
    "info_dict = {}\n",
    "for i in range(len(keys_list)):\n",
    "    info_dict[keys_list[i]] = values_list[i]\n",
    "print('Keys List:', keys_list)\n",
    "print('Values List:', values_list)\n",
    "print('Dictionary:', info_dict)"
   ]
  },
  {
   "cell_type": "code",
   "execution_count": 59,
   "id": "04976f1c-aaa9-4395-b3c0-2cce458bad54",
   "metadata": {},
   "outputs": [
    {
     "name": "stdout",
     "output_type": "stream",
     "text": [
      "The original list is :  ['all', 'love', 'and', 'get', 'educated', 'by', 'gfg']\n",
      "The extracted words :  ['all', 'and', 'educated']\n"
     ]
    }
   ],
   "source": [
    "## Extract Vowels \n",
    "\n",
    "test_list = [\"all\", \"love\", \"and\", \"get\", \"educated\", \"by\", \"gfg\"]\n",
    "print(\"The original list is : \" ,test_list)\n",
    "res = []\n",
    "vow = \"aeiou\"\n",
    "for sub in test_list:\n",
    "    flag = False\n",
    "    for ele in vow:\n",
    "        if sub.startswith(ele):\n",
    "            flag = True\n",
    "            break\n",
    "    if flag:\n",
    "        res.append(sub)\n",
    "print(\"The extracted words : \" ,res)"
   ]
  },
  {
   "cell_type": "code",
   "execution_count": 60,
   "id": "8c1622bf-6819-4e41-9faa-7f84f6026bc2",
   "metadata": {},
   "outputs": [
    {
     "name": "stdout",
     "output_type": "stream",
     "text": [
      "['88', '91', '86', '87', '87']\n"
     ]
    }
   ],
   "source": [
    "## Extract Non-Numeric cjaracter from string\n",
    "\n",
    "import re\n",
    "list = ['Judy 88 5', 'animal 91 5', 'Mo 86 5', 'Geno 87 6', 'exhaled 87 6']\n",
    "res = []\n",
    "for i in list:\n",
    "    m = re.search(r\"\\b(\\d{2})\\b\", i)\n",
    "    if m:\n",
    "        res.append(m.group())\n",
    "print(res)"
   ]
  },
  {
   "cell_type": "code",
   "execution_count": 61,
   "id": "5bd92ce6-b87f-40a4-b6ff-54cfba2475d5",
   "metadata": {},
   "outputs": [
    {
     "name": "stdout",
     "output_type": "stream",
     "text": [
      "2\n",
      "3\n",
      "5\n",
      "7\n",
      "11\n",
      "13\n",
      "17\n",
      "19\n",
      "23\n",
      "29\n",
      "31\n",
      "37\n",
      "41\n",
      "43\n",
      "47\n",
      "None\n"
     ]
    }
   ],
   "source": [
    "## to generate a list of prime numbers using the Sieve of Eratosthenes algorithm\n",
    "\n",
    "def prime_eratosthenes(n):\n",
    "    prime_list = []\n",
    "    for i in range(2, n+1):\n",
    "        if i not in prime_list:\n",
    "            print (i)\n",
    "            for j in range(i*i, n+1, i):\n",
    "                prime_list.append(j)\n",
    "print(prime_eratosthenes(50));"
   ]
  },
  {
   "cell_type": "code",
   "execution_count": 62,
   "id": "3b6bd9ac-e634-475d-bd17-ba35c61fd018",
   "metadata": {},
   "outputs": [
    {
     "name": "stdout",
     "output_type": "stream",
     "text": [
      "[(3, 4, 5), (4, 3, 5)]\n"
     ]
    }
   ],
   "source": [
    "## that generates a list of all Pythagorean triplets up to a specified limit\n",
    "\n",
    "print([(a, b, c) for a in range(1, 11) for b in range(3, 15)\n",
    "       for c in range(b, n + 1) if a**2 + b**2 == c**2])"
   ]
  },
  {
   "cell_type": "code",
   "execution_count": 63,
   "id": "456b32e2-23ac-41b3-9508-34068dfca5f6",
   "metadata": {},
   "outputs": [
    {
     "name": "stdout",
     "output_type": "stream",
     "text": [
      "[2, 8, 4, 6, 24, 12, 7, 28, 14, 3, 12, 6]\n"
     ]
    }
   ],
   "source": [
    "## List Combination\n",
    "\n",
    "list_1 = [2, 6, 7, 3]\n",
    "list_2 = [1, 4, 2]\n",
    "list_3 = [ x * y for x in list_1 for y in list_2 ]\n",
    "print(list_3)"
   ]
  },
  {
   "cell_type": "code",
   "execution_count": 64,
   "id": "fb97dbc0-1cb6-4052-8fec-0896ee4ec11f",
   "metadata": {},
   "outputs": [
    {
     "name": "stdin",
     "output_type": "stream",
     "text": [
      "Enter the number of rows: 3\n"
     ]
    },
    {
     "name": "stdout",
     "output_type": "stream",
     "text": [
      "    1\n",
      "   1 1\n",
      "  1 1 1\n"
     ]
    }
   ],
   "source": [
    "## generates Pascal's triangle up to a specified number of rows\n",
    "\n",
    "n = int(input(\"Enter the number of rows:\"))  \n",
    "for i in range(1, n+1):  \n",
    "   for j in range(0, n-i+1):  \n",
    "      print(' ', end='')   \n",
    "   C = 1  \n",
    "   for j in range(1, i+1):  \n",
    "      print(' ', C, sep='', end='')  \n",
    "      CC = C * (i - j) // j  \n",
    "   print() "
   ]
  },
  {
   "cell_type": "code",
   "execution_count": 66,
   "id": "2b91185a-7c06-4d15-ab13-6c4befa40b88",
   "metadata": {},
   "outputs": [
    {
     "name": "stdout",
     "output_type": "stream",
     "text": [
      "The original list :  ['shweta', 'kumari', 'Shrivastava', 'Reema', 'Raghav']\n",
      "Maximum length string is : Shrivastava\n"
     ]
    }
   ],
   "source": [
    "## Find the Longest word in String\n",
    "\n",
    "test_list = ['shweta', 'kumari', 'Shrivastava', 'Reema', 'Raghav']\n",
    "print(\"The original list : \" ,test_list)\n",
    "max_len = -1\n",
    "for ele in test_list:\n",
    "    if len(ele) > max_len:\n",
    "        max_len = len(ele)\n",
    "        res = ele\n",
    "print(\"Maximum length string is : \" + res)"
   ]
  },
  {
   "cell_type": "code",
   "execution_count": 69,
   "id": "1dc8c6d5-c107-4624-880f-82cd82be6558",
   "metadata": {},
   "outputs": [
    {
     "name": "stdout",
     "output_type": "stream",
     "text": [
      "The original list is :  ['SKs', 'salman', 'Shahrukh', 'Shrivastava']\n",
      "Maximum vowels word :  Shrivastava\n"
     ]
    }
   ],
   "source": [
    "## Maximum Vowels word\n",
    "\n",
    "test_list = [\"SKs\", \"salman\", \"Shahrukh\", \"Shrivastava\"]\n",
    "print(\"The original list is : \" ,test_list)\n",
    "res = \"\"\n",
    "max_len = 0\n",
    "for ele in test_list:\n",
    "    vow_len = len([el for el in ele if el in ['a', 'e', 'o', 'u', 'i']])  \n",
    "    if vow_len > max_len:\n",
    "        max_len = vow_len\n",
    "        res = ele\n",
    "print(\"Maximum vowels word : \" ,res)"
   ]
  },
  {
   "cell_type": "code",
   "execution_count": 86,
   "id": "4d3ad8f5-814a-42c8-bf17-804719c62b2e",
   "metadata": {},
   "outputs": [],
   "source": [
    "## Total Palindroms numbers are in List\n",
    "\n",
    "\n",
    "def count_pal(n):  \n",
    "   count = 0  \n",
    "   for i in range(n):  \n",
    "       if i == str(n) == str(n)[::-1]:\n",
    "           return \n",
    "           count =+ i   \n",
    "   else:\n",
    "       pass"
   ]
  },
  {
   "cell_type": "code",
   "execution_count": null,
   "id": "858bed3e-7241-446a-b0ef-09ebdd5cf236",
   "metadata": {},
   "outputs": [],
   "source": []
  }
 ],
 "metadata": {
  "kernelspec": {
   "display_name": "Python 3 (ipykernel)",
   "language": "python",
   "name": "python3"
  },
  "language_info": {
   "codemirror_mode": {
    "name": "ipython",
    "version": 3
   },
   "file_extension": ".py",
   "mimetype": "text/x-python",
   "name": "python",
   "nbconvert_exporter": "python",
   "pygments_lexer": "ipython3",
   "version": "3.10.8"
  }
 },
 "nbformat": 4,
 "nbformat_minor": 5
}
