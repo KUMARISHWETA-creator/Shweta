{
 "cells": [
  {
   "cell_type": "code",
   "execution_count": 1,
   "id": "ff73a5a0-d063-403e-a7ee-0bae67a1d5e9",
   "metadata": {},
   "outputs": [
    {
     "name": "stdout",
     "output_type": "stream",
     "text": [
      "1\n",
      "2\n",
      "3\n",
      "4\n",
      "5\n",
      "6\n",
      "7\n",
      "8\n",
      "9\n",
      "10\n"
     ]
    }
   ],
   "source": [
    "## print numbers from 1 to 10 using a for loop\n",
    "for i in range(1,11):\n",
    "    print(i)"
   ]
  },
  {
   "cell_type": "code",
   "execution_count": 2,
   "id": "b43c0a25-fc2f-4719-824f-6bfa1e9fed57",
   "metadata": {},
   "outputs": [],
   "source": [
    "##difference between a for loop and a while loop in Python.\n",
    "##For loop we use to iterate over the sequence and is only used when condition is true otherwise it comes out from loop\n",
    "##While loop is used when condition is true, it iterate over the sequence and check condition until condition is false. Once get false. It comes out from loop."
   ]
  },
  {
   "cell_type": "code",
   "execution_count": 3,
   "id": "f2d68f6e-fc12-413e-beec-dc30a494d8b3",
   "metadata": {},
   "outputs": [
    {
     "name": "stdout",
     "output_type": "stream",
     "text": [
      "5050\n"
     ]
    }
   ],
   "source": [
    "\n",
    "## calculate the sum of all numbers from 1 to 100 using a for loop\n",
    "sum=0\n",
    "for i in range(1,101):\n",
    "    sum=sum+i\n",
    "print(sum)"
   ]
  },
  {
   "cell_type": "code",
   "execution_count": 4,
   "id": "da8f1264-05ae-4b6a-b638-a46db5658182",
   "metadata": {},
   "outputs": [
    {
     "name": "stdout",
     "output_type": "stream",
     "text": [
      "apple\n",
      "banana\n",
      "cherry\n"
     ]
    }
   ],
   "source": [
    "## iterate through a list using a for loop in Python?\n",
    "list = [\"apple\", \"banana\", \"cherry\"]\n",
    "for i in range(len(list)):\n",
    "    print(list[i])"
   ]
  },
  {
   "cell_type": "code",
   "execution_count": 5,
   "id": "0e7f92a4-8283-41d5-ad84-a17599527e09",
   "metadata": {},
   "outputs": [
    {
     "name": "stdout",
     "output_type": "stream",
     "text": [
      "5040\n"
     ]
    }
   ],
   "source": [
    "##product of all elements in a list using a for loop.\n",
    "list=[2,3,4,5,6,7,1]\n",
    "prod=1\n",
    "for i in list:\n",
    "    prod=prod*i\n",
    "print(prod)"
   ]
  },
  {
   "cell_type": "code",
   "execution_count": 7,
   "id": "520a5f06-f30a-4f9d-999e-753c8067e2dc",
   "metadata": {},
   "outputs": [
    {
     "name": "stdout",
     "output_type": "stream",
     "text": [
      "120\n"
     ]
    }
   ],
   "source": [
    "## calculates the factorial of a number using a for loop\n",
    "fact=1\n",
    "for i in range(1,6):\n",
    "    fact=fact*i\n",
    "print(fact)"
   ]
  },
  {
   "cell_type": "code",
   "execution_count": 8,
   "id": "7a21a2e6-fb18-4c91-bda7-33c7648f89c7",
   "metadata": {},
   "outputs": [
    {
     "name": "stdout",
     "output_type": "stream",
     "text": [
      "Kumari\n",
      "shweta\n",
      "shrivastava\n"
     ]
    }
   ],
   "source": [
    "## iterate through the characters of a string using a for loop in Python\n",
    "list=[\"Kumari\", \"shweta\", \"shrivastava\"]\n",
    "for i in range(len(list)):\n",
    "    print(list[i])"
   ]
  },
  {
   "cell_type": "code",
   "execution_count": 9,
   "id": "41f3514a-26d6-427b-a86d-a303b9815bcb",
   "metadata": {},
   "outputs": [
    {
     "name": "stdout",
     "output_type": "stream",
     "text": [
      "111\n"
     ]
    }
   ],
   "source": [
    "##find the largest number in a list using a for loop\n",
    "list=[3,2,12,43,23,111]\n",
    "m=[]\n",
    "for i in list:\n",
    "    m.append(list)\n",
    "print(max(list))"
   ]
  },
  {
   "cell_type": "code",
   "execution_count": 10,
   "id": "cdc4d4c7-54d5-45b7-b009-036e99369257",
   "metadata": {},
   "outputs": [
    {
     "name": "stdout",
     "output_type": "stream",
     "text": [
      "1\n",
      "2\n",
      "3\n",
      "5\n",
      "8\n"
     ]
    }
   ],
   "source": [
    "##  Fibonacci sequence up to a specified limit\n",
    "a=0\n",
    "b=1\n",
    "for i in range(5):\n",
    "    c=a+b\n",
    "    a=b\n",
    "    b=c\n",
    "    print(b)"
   ]
  },
  {
   "cell_type": "code",
   "execution_count": 11,
   "id": "0a803089-2fc9-4f8d-84e2-76eb85796138",
   "metadata": {},
   "outputs": [
    {
     "name": "stdout",
     "output_type": "stream",
     "text": [
      "9\n"
     ]
    }
   ],
   "source": [
    "##  count the number of vowels in a given string \n",
    "s=\"Kumari Shweta Shrivastava\"\n",
    "count=0\n",
    "for i in s:\n",
    "    if i=='a' or i=='e' or i=='i' or i=='o' or i=='u':\n",
    "        count+=1\n",
    "print(count)"
   ]
  },
  {
   "cell_type": "code",
   "execution_count": 12,
   "id": "7b58c318-78c7-4140-8b67-44f933287706",
   "metadata": {},
   "outputs": [
    {
     "name": "stdin",
     "output_type": "stream",
     "text": [
      "Enter a number 10\n"
     ]
    },
    {
     "name": "stdout",
     "output_type": "stream",
     "text": [
      "10\n",
      "20\n",
      "30\n",
      "40\n",
      "50\n",
      "60\n",
      "70\n",
      "80\n",
      "90\n",
      "100\n"
     ]
    }
   ],
   "source": [
    "##  generates a multiplication table for a given number using a for loop\n",
    "n=int(input(\"Enter a number\"))\n",
    "for i in range(1,11):\n",
    "    mul=n*i\n",
    "    print(mul) "
   ]
  },
  {
   "cell_type": "code",
   "execution_count": 13,
   "id": "b61601fd-785d-4856-af96-4f51a9fbf756",
   "metadata": {},
   "outputs": [
    {
     "name": "stdout",
     "output_type": "stream",
     "text": [
      "[10, 9, 8, 3, 6, 5, 4]\n"
     ]
    }
   ],
   "source": [
    "## Python program to reverse a list using a for loop.\n",
    "list=[4,5,6,3,8,9,10]\n",
    "for i in list:\n",
    "    c=list[::-1]\n",
    "print(c)"
   ]
  },
  {
   "cell_type": "code",
   "execution_count": 15,
   "id": "41c5c0c6-ece9-435c-b2b8-191aa178112d",
   "metadata": {},
   "outputs": [
    {
     "name": "stdout",
     "output_type": "stream",
     "text": [
      "1\n",
      "2\n",
      "3\n",
      "4\n",
      "5\n"
     ]
    }
   ],
   "source": [
    "## find the common elements between two lists using a for loop\n",
    "list1=[1,2,3,4,5]\n",
    "list2=[5,6,7,8,4,3,2,1,1]\n",
    "for i in list1:\n",
    "    if i in list2:\n",
    "        print(i)"
   ]
  },
  {
   "cell_type": "code",
   "execution_count": 16,
   "id": "d7afd5df-5345-4863-a4b9-bc0ea32b3e31",
   "metadata": {},
   "outputs": [
    {
     "name": "stdout",
     "output_type": "stream",
     "text": [
      "intial_dictionary {'a': 'akshat', 'b': 'bhuvan', 'c': 'chandan'}\n",
      "keys :  ['a', 'b', 'c']\n",
      "values :  ['akshat', 'bhuvan', 'chandan']\n"
     ]
    }
   ],
   "source": [
    "## iterate through the keys and values of a dictionary in Python\n",
    "ini_dict = {'a': 'akshat', 'b': 'bhuvan', 'c': 'chandan'}\n",
    "print(\"intial_dictionary\", str(ini_dict))\n",
    "keys = []\n",
    "values = []\n",
    "items = ini_dict.items()\n",
    "for item in items:\n",
    "    keys.append(item[0]), values.append(item[1])\n",
    "print(\"keys : \", str(keys))\n",
    "print(\"values : \", str(values))"
   ]
  },
  {
   "cell_type": "code",
   "execution_count": 17,
   "id": "3f7f76b7-fb43-409d-b5ec-e8d75857715c",
   "metadata": {},
   "outputs": [
    {
     "name": "stdin",
     "output_type": "stream",
     "text": [
      "Enter 1st number 20\n",
      "Enter 2nd number 30\n"
     ]
    },
    {
     "name": "stdout",
     "output_type": "stream",
     "text": [
      "Greatest Number is: 1\n",
      "Greatest Number is: 2\n",
      "Greatest Number is: 5\n",
      "Greatest Number is: 10\n"
     ]
    }
   ],
   "source": [
    "\n",
    "##  GCD (Greatest Common Divisor) of two numbers using a for loop\n",
    "a=int(input(\"Enter 1st number\"))\n",
    "b=int(input(\"Enter 2nd number\"))\n",
    "for i in range(1,50):\n",
    "    if ((a%i==0) and (b%i==0)) :\n",
    "        print(\"Greatest Number is:\",i)"
   ]
  },
  {
   "cell_type": "code",
   "execution_count": 18,
   "id": "b9fd123b-cab6-4061-8a0b-252cb121a577",
   "metadata": {},
   "outputs": [
    {
     "name": "stdout",
     "output_type": "stream",
     "text": [
      "[1, 2, 3, 4, 5, 6]\n"
     ]
    }
   ],
   "source": [
    "##  remove duplicates from a list using a for loop.\n",
    "list=[1,1,2,2,3,3,4,4,5,5,6,6]\n",
    "m=[]\n",
    "for i in list:\n",
    "    if i not in m:\n",
    "        m.append(i)\n",
    "print(m)"
   ]
  },
  {
   "cell_type": "code",
   "execution_count": 19,
   "id": "2b397a79-f537-4181-96f4-4b6b616c05c1",
   "metadata": {},
   "outputs": [
    {
     "name": "stdout",
     "output_type": "stream",
     "text": [
      "Number of words: 4\n"
     ]
    }
   ],
   "source": [
    "##  counts the number of words in a sentence using a for loop\n",
    "sentence = \"my name is Shweta\"\n",
    "words = 0\n",
    "for i in sentence:\n",
    "    if i == \" \" or i == \"\\t\" or i == \"\\n\":\n",
    "        words += 1\n",
    "if len(sentence) > 0:\n",
    "    print(\"Number of words:\", words + 1)\n",
    "else:\n",
    "    print(\"Number of words: 0\")"
   ]
  },
  {
   "cell_type": "code",
   "execution_count": 20,
   "id": "17d12a9b-9d0e-4e49-90e3-07e5b7c28a1c",
   "metadata": {},
   "outputs": [
    {
     "name": "stdout",
     "output_type": "stream",
     "text": [
      "625\n"
     ]
    }
   ],
   "source": [
    "###  sum of all odd numbers from 1 to 50 using a for loop\n",
    "sum=0\n",
    "for i in range(1,51):\n",
    "    if i%2!=0:\n",
    "        sum=sum+i\n",
    "print(sum)"
   ]
  },
  {
   "cell_type": "code",
   "execution_count": 21,
   "id": "b779a1eb-0f85-412b-8d34-9bf9720566e6",
   "metadata": {},
   "outputs": [
    {
     "name": "stdin",
     "output_type": "stream",
     "text": [
      " Please Enter the Maximum Value :  5\n"
     ]
    },
    {
     "name": "stdout",
     "output_type": "stream",
     "text": [
      "1\n",
      "3\n",
      "5\n",
      "The Sum of Odd Numbers from 1 to 5 = 9\n"
     ]
    }
   ],
   "source": [
    "###  sum of all odd numbers from 1 to 50 using a for loop\n",
    "maximum = int(input(\" Please Enter the Maximum Value : \"))\n",
    "Oddtotal = 0\n",
    "for number in range(1, maximum+1):\n",
    "    if(number % 2 != 0):\n",
    "        print(\"{0}\".format(number))\n",
    "        Oddtotal = Oddtotal + number\n",
    "print(\"The Sum of Odd Numbers from 1 to {0} = {1}\".format(number, Oddtotal)) "
   ]
  },
  {
   "cell_type": "code",
   "execution_count": 22,
   "id": "d1c0e426-01c6-4492-916a-94bd70a5c824",
   "metadata": {},
   "outputs": [
    {
     "name": "stdout",
     "output_type": "stream",
     "text": [
      "Number is Leap Year 0\n",
      "Number is not Leap Year 1\n",
      "Number is not Leap Year 2\n",
      "Number is not Leap Year 3\n",
      "Number is Leap Year 4\n",
      "Number is not Leap Year 5\n",
      "Number is not Leap Year 6\n",
      "Number is not Leap Year 7\n",
      "Number is Leap Year 8\n",
      "Number is not Leap Year 9\n",
      "Number is not Leap Year 10\n",
      "Number is not Leap Year 11\n",
      "Number is Leap Year 12\n",
      "Number is not Leap Year 13\n",
      "Number is not Leap Year 14\n",
      "Number is not Leap Year 15\n",
      "Number is Leap Year 16\n",
      "Number is not Leap Year 17\n",
      "Number is not Leap Year 18\n",
      "Number is not Leap Year 19\n"
     ]
    }
   ],
   "source": [
    "## checks if a given year is a leap year using a for loop\n",
    "for i in range(20):\n",
    "    if i%4==0:\n",
    "        print(\"Number is Leap Year\",i)\n",
    "    else:\n",
    "        print(\"Number is not Leap Year\",i)"
   ]
  },
  {
   "cell_type": "code",
   "execution_count": 23,
   "id": "39036c19-35d6-41c7-9af6-efeb00c96ea5",
   "metadata": {},
   "outputs": [
    {
     "name": "stdout",
     "output_type": "stream",
     "text": [
      "1\n",
      "4\n",
      "9\n",
      "16\n",
      "25\n"
     ]
    }
   ],
   "source": [
    "##  calculates the square root of a number using a for loop\n",
    "list=[1,2,3,4,5]\n",
    "for i in list:\n",
    "    sqr=i*i\n",
    "    print(sqr)"
   ]
  },
  {
   "cell_type": "markdown",
   "id": "b6e530f0-fc1c-484d-a497-49b1a8a8149f",
   "metadata": {},
   "source": [
    "##### LCM (Least Common Multiple) of two numbers using a for loop.\n",
    "p, q, x, g = 0, 0, 0, 0\n",
    "print (\"-----Enter the two positive integer numbers-----\")\n",
    "p = int (input ())\n",
    "q = int (input ())\n",
    "for i in range (1, p + 1):\n",
    "\tif i <= q:\n",
    "\t\tif p % i == 0 and q % i == 0:\n",
    "\t\t\tg = i\n",
    "x = (p * q) / g\n",
    "print (\"\\nThe LCM of two positive numbers \", p, \" & \", q, \" is \", x, \".\")"
   ]
  },
  {
   "cell_type": "code",
   "execution_count": 25,
   "id": "5e08d339-dd19-43d5-9821-6a33c8825495",
   "metadata": {},
   "outputs": [
    {
     "name": "stdin",
     "output_type": "stream",
     "text": [
      "Enter a number 5\n"
     ]
    },
    {
     "name": "stdout",
     "output_type": "stream",
     "text": [
      "Number is Positive\n"
     ]
    }
   ],
   "source": [
    "##  if a number is positive, negative, or zero using an if-else statement\n",
    "n=int(input(\"Enter a number\"))\n",
    "if n>0:\n",
    "    print(\"Number is Positive\")\n",
    "elif n<0:\n",
    "    print(\"Number is Negative\")\n",
    "else:\n",
    "    print(\"Number is Zero\")"
   ]
  },
  {
   "cell_type": "code",
   "execution_count": 26,
   "id": "6b85b5b4-7f22-4ee3-8aad-45a47c1f8ff8",
   "metadata": {},
   "outputs": [
    {
     "name": "stdin",
     "output_type": "stream",
     "text": [
      "Enter a number 11\n"
     ]
    },
    {
     "name": "stdout",
     "output_type": "stream",
     "text": [
      "Number is odd\n"
     ]
    }
   ],
   "source": [
    "## checks if a given number is even or odd using an if-else statement\n",
    "n=int(input(\"Enter a number\"))\n",
    "if n%2==0:\n",
    "    print(\"Number is Even\")\n",
    "else:\n",
    "    print(\"Number is odd\")"
   ]
  },
  {
   "cell_type": "code",
   "execution_count": 27,
   "id": "b20b7155-1310-4a60-af0c-3b4538d4fc31",
   "metadata": {},
   "outputs": [
    {
     "name": "stdout",
     "output_type": "stream",
     "text": [
      "Positive number\n"
     ]
    }
   ],
   "source": [
    "##  if-else statements in Python, and provide an example\n",
    "num = 15\n",
    "if num >= 0:\n",
    "    if num == 0:\n",
    "        print(\"Zero\")\n",
    "    else:\n",
    "        print(\"Positive number\")\n",
    "else:\n",
    "    print(\"Negative number\")"
   ]
  },
  {
   "cell_type": "code",
   "execution_count": 28,
   "id": "a05f88dd-7b9d-4e0f-8a0d-3f61b8f04f49",
   "metadata": {},
   "outputs": [
    {
     "name": "stdin",
     "output_type": "stream",
     "text": [
      "Enter 1st number 10\n",
      "Enter 2nd number 20\n",
      "Enter 3rd number 30\n"
     ]
    },
    {
     "name": "stdout",
     "output_type": "stream",
     "text": [
      "Largest Number is: 30\n"
     ]
    }
   ],
   "source": [
    "### largest of three numbers using if-else\n",
    "a=int(input(\"Enter 1st number\"))\n",
    "b=int(input(\"Enter 2nd number\"))\n",
    "c=int(input(\"Enter 3rd number\"))\n",
    "if ((a>=b) and (a>=c)):\n",
    "    print(\"Number is largest number\",a)\n",
    "elif ((b>=a) and (b>=c)):\n",
    "    print(\"Largest Number is:\",b)\n",
    "else:\n",
    "    print(\"Largest Number is:\",c)"
   ]
  },
  {
   "cell_type": "code",
   "execution_count": 29,
   "id": "79635f17-6a6e-462e-82d1-df47db2586ef",
   "metadata": {},
   "outputs": [
    {
     "name": "stdin",
     "output_type": "stream",
     "text": [
      "Enter a number -5\n"
     ]
    },
    {
     "name": "stdout",
     "output_type": "stream",
     "text": [
      "Absolute value 5\n"
     ]
    }
   ],
   "source": [
    "##  calculates the absolute value of a number using if-else.\n",
    "value=int(input(\"Enter a number\"))\n",
    "if ( value < 0 ):\n",
    "    abs = -value\n",
    "else:\n",
    "    abs = value\n",
    "print(\"Absolute value\",abs)"
   ]
  },
  {
   "cell_type": "code",
   "execution_count": 30,
   "id": "e51ab456-a21b-4965-ba62-c59e5aa62f56",
   "metadata": {},
   "outputs": [
    {
     "name": "stdin",
     "output_type": "stream",
     "text": [
      "Enter a Character i\n"
     ]
    },
    {
     "name": "stdout",
     "output_type": "stream",
     "text": [
      "Character is vowel i\n"
     ]
    }
   ],
   "source": [
    "##  checks if a given character is a vowel or consonant using if-else\n",
    "s=input(\"Enter a Character\")\n",
    "if s=='a' or s=='e' or s=='i' or s=='o' or s=='u':\n",
    "    print(\"Character is vowel\",s)\n",
    "else:\n",
    "    print(\"Character is not vowel:\",s)"
   ]
  },
  {
   "cell_type": "code",
   "execution_count": 31,
   "id": "8c244a14-fe99-4cdf-8fae-6db5f921e024",
   "metadata": {},
   "outputs": [
    {
     "name": "stdin",
     "output_type": "stream",
     "text": [
      "Enter age 51\n"
     ]
    },
    {
     "name": "stdout",
     "output_type": "stream",
     "text": [
      "User is eligible for vote\n"
     ]
    }
   ],
   "source": [
    "##  if a user is eligible to vote based on their age using if-else\n",
    "user=int(input(\"Enter age\"))\n",
    "if user>=18:\n",
    "    print(\"User is eligible for vote\")\n",
    "else:\n",
    "    print(\"User is not eligible for vote\")"
   ]
  },
  {
   "cell_type": "code",
   "execution_count": 33,
   "id": "8300de5f-c93b-4741-b380-bdd99d1a0f1a",
   "metadata": {},
   "outputs": [
    {
     "name": "stdin",
     "output_type": "stream",
     "text": [
      "Enter purchase amount 19000\n"
     ]
    },
    {
     "name": "stdout",
     "output_type": "stream",
     "text": [
      "Discount is 20%\n"
     ]
    }
   ],
   "source": [
    "##  calculates the discount amount based on the purchase amount using if-else.\n",
    "purchase_amount=int(input(\"Enter purchase amount\"))\n",
    "if purchase_amount >= 5000 and purchase_amount <= 10000:\n",
    "    print(\"Discount is 10%\")\n",
    "elif purchase_amount >= 10000 and purchase_amount <= 20000:\n",
    "    print(\"Discount is 20%\")\n",
    "else:\n",
    "    print(\"No Discount\")"
   ]
  },
  {
   "cell_type": "code",
   "execution_count": 34,
   "id": "7dcf442d-67eb-4c98-8d54-f2e6b6ada63d",
   "metadata": {},
   "outputs": [
    {
     "name": "stdin",
     "output_type": "stream",
     "text": [
      "Enter a number:  15\n"
     ]
    },
    {
     "name": "stdout",
     "output_type": "stream",
     "text": [
      "The number is within the specified range.\n"
     ]
    }
   ],
   "source": [
    "##  check if a number is within a specified range using if-else\n",
    "lower_bound = 10.\n",
    "upper_bound = 20.\n",
    "number = int(input(\"Enter a number: \"))\n",
    "if lower_bound <= number <= upper_bound:\n",
    "    print(\"The number is within the specified range.\")\n",
    "else:\n",
    "    print(\"The number is outside the specified range.\")"
   ]
  },
  {
   "cell_type": "code",
   "execution_count": 35,
   "id": "10b3e843-6e73-43d0-84ed-43cd2b54b3c8",
   "metadata": {},
   "outputs": [
    {
     "name": "stdin",
     "output_type": "stream",
     "text": [
      "Enter marks of student in particular subject 79\n"
     ]
    },
    {
     "name": "stdout",
     "output_type": "stream",
     "text": [
      "Candidate get marks in Chemestry\n"
     ]
    }
   ],
   "source": [
    "##  grade of a student based on their score using if-else\n",
    "marks=int(input(\"Enter marks of student in particular subject\"))\n",
    "if marks>=90:\n",
    "    print(\"Candidate got in Math Subject\")\n",
    "elif marks>=75 and marks<=90:\n",
    "    print(\"Candidate get marks in Chemestry\")\n",
    "elif marks>=65 and marks<=75:\n",
    "    print(\"Candidate get marks in Physics\")\n",
    "elif marks==60:\n",
    "    print(\"Candidate got passing marks\")\n",
    "else:\n",
    "    print(\"Candidate got fail\")"
   ]
  },
  {
   "cell_type": "code",
   "execution_count": 36,
   "id": "a59dc0b9-a73a-424c-a4b9-ee85a6602d51",
   "metadata": {},
   "outputs": [
    {
     "name": "stdin",
     "output_type": "stream",
     "text": [
      "Enter a string Kumari Shweta\n"
     ]
    },
    {
     "name": "stdout",
     "output_type": "stream",
     "text": [
      "Not empty\n"
     ]
    }
   ],
   "source": [
    "##  check if a string is empty or not using if-else\n",
    "s=input(\"Enter a string\")\n",
    "if s==\"\" or s== \"\\n\" or s==\"\\t\":\n",
    "    print(\"String is empty\")\n",
    "else:\n",
    "    print(\"Not empty\")"
   ]
  },
  {
   "cell_type": "code",
   "execution_count": 37,
   "id": "95d9ba59-aace-4c8b-a8dd-bfec3463876e",
   "metadata": {},
   "outputs": [
    {
     "name": "stdout",
     "output_type": "stream",
     "text": [
      "Input lengths of the triangle sides: \n"
     ]
    },
    {
     "name": "stdin",
     "output_type": "stream",
     "text": [
      "x:  5\n",
      "y:  7\n",
      "z:  9\n"
     ]
    },
    {
     "name": "stdout",
     "output_type": "stream",
     "text": [
      "Scalene triangle\n"
     ]
    }
   ],
   "source": [
    "\n",
    "## type of a triangle (e.g., equilateral, isosceles, or scalene) based on input values using if-else.\n",
    "print(\"Input lengths of the triangle sides: \")\n",
    "x = int(input(\"x: \"))\n",
    "y = int(input(\"y: \"))\n",
    "z = int(input(\"z: \"))\n",
    "if x == y == z:\n",
    "\tprint(\"Equilateral triangle\")\n",
    "elif x==y or y==z or z==x:\n",
    "\tprint(\"isosceles triangle\")\n",
    "else:\n",
    "\tprint(\"Scalene triangle\")"
   ]
  },
  {
   "cell_type": "code",
   "execution_count": 38,
   "id": "393e02fc-7dc6-4053-a413-57bd03f98d7e",
   "metadata": {},
   "outputs": [
    {
     "name": "stdin",
     "output_type": "stream",
     "text": [
      "Enter a number from 1 to 7:  6\n"
     ]
    },
    {
     "name": "stdout",
     "output_type": "stream",
     "text": [
      "6 is Friday\n"
     ]
    }
   ],
   "source": [
    "## determine the day of the week based on a user-provided number using if-else\n",
    "day = int(input(\"Enter a number from 1 to 7: \"))\n",
    "\n",
    "if day == 1:\n",
    "    print(day, \"is Sunday\")\n",
    "elif day == 2:\n",
    "    print(day, \"is Monday\")\n",
    "elif day == 3:\n",
    "    print(day, \"is Tuesday\")\n",
    "elif day == 4:\n",
    "    print(day, \"is Wednesday\")\n",
    "elif day == 5:\n",
    "    print(day, \"is Thursday\")\n",
    "elif day == 6:\n",
    "    print(day, \"is Friday\")\n",
    "elif day == 7:\n",
    "    print(day, \"is Saturday\")\n",
    "else:\n",
    "    print(\"Wrong input! Please enter a number from 1 to 7.\")"
   ]
  },
  {
   "cell_type": "code",
   "execution_count": 39,
   "id": "9e5402ad-367f-45d5-882b-718cd71fc01f",
   "metadata": {},
   "outputs": [
    {
     "name": "stdin",
     "output_type": "stream",
     "text": [
      "Enter a number 101\n"
     ]
    },
    {
     "name": "stdout",
     "output_type": "stream",
     "text": [
      "Number is not a Leap Year\n"
     ]
    }
   ],
   "source": [
    "## checks if a given year is a leap year using both if-else and a function\n",
    "num=int(input(\"Enter a number\"))\n",
    "if num%4==0 or num%400==0:\n",
    "    print(\"Number is Leap Year\")\n",
    "else:\n",
    "    print(\"Number is not a Leap Year\")"
   ]
  },
  {
   "cell_type": "code",
   "execution_count": 40,
   "id": "d2929be5-4a53-4e6c-8dfd-a051e5fa7022",
   "metadata": {},
   "outputs": [
    {
     "name": "stdin",
     "output_type": "stream",
     "text": [
      "Enter a number 58\n"
     ]
    },
    {
     "name": "stdout",
     "output_type": "stream",
     "text": [
      "Not getting any discount\n"
     ]
    }
   ],
   "source": [
    "## determines the eligibility of a person for a senior citizen discount based on age using if-else.\n",
    "senior_citizen=int(input(\"Enter a number\"))\n",
    "if senior_citizen>=60:\n",
    "    print(\"Person is senior citizen and get discount of 5% in Railway Train as well as metro\")\n",
    "else:\n",
    "    print(\"Not getting any discount\")"
   ]
  },
  {
   "cell_type": "code",
   "execution_count": 41,
   "id": "55507321-b19e-4504-8cbb-00e47769d0fe",
   "metadata": {},
   "outputs": [
    {
     "name": "stdout",
     "output_type": "stream",
     "text": [
      "The input is 'hello'.\n"
     ]
    }
   ],
   "source": [
    "## Write a Python program to categorize a given character as uppercase, lowercase, or neither using if-else.\n",
    "input = \"Hello\"\n",
    "if input.lower() == \"hello\":\n",
    "   print(\"The input is 'hello'.\")\n",
    "elif input.upper() == \"HELLO\":\n",
    "   print(\"The input is 'HELLO'.\")\n",
    "else:\n",
    "   print(\"The input is not 'hello' or 'HELLO'.\")"
   ]
  },
  {
   "cell_type": "code",
   "execution_count": 42,
   "id": "1ddfe7a5-bd17-4147-b22e-2994294b7d4a",
   "metadata": {},
   "outputs": [
    {
     "name": "stdout",
     "output_type": "stream",
     "text": [
      "The first root:  -0.16\n",
      "The second root:  -99.84\n"
     ]
    }
   ],
   "source": [
    "## the roots of a quadratic equation using if-else.\n",
    "a=2\n",
    "b=50\n",
    "c=2\n",
    "d=b**2-4*a*c\n",
    "d1=d**0.5\n",
    "if(d<0):\n",
    "    print(\"The roots are imaginary. \")\n",
    "else:\n",
    "    r1=(-b+d1)/2*a\n",
    "    r2=(-b-d1)/2*a\n",
    "    print(\"The first root: \",round(r1,2))\n",
    "    print(\"The second root: \",round(r2,2))"
   ]
  },
  {
   "cell_type": "code",
   "execution_count": 43,
   "id": "1a755eea-31d4-4d56-a964-7937ef7f8611",
   "metadata": {},
   "outputs": [
    {
     "name": "stdout",
     "output_type": "stream",
     "text": [
      "Number is Leap year\n"
     ]
    }
   ],
   "source": [
    "## checks if a given year is a century year or not using if-else.\n",
    "num=2024\n",
    "if num%4==0 or num%100==0 or num%400==0:\n",
    "    print(\"Number is Leap year\")\n",
    "else:\n",
    "    print(\"Number is not a Leap year\")"
   ]
  },
  {
   "cell_type": "code",
   "execution_count": 44,
   "id": "d7411de2-9b27-49fc-82de-445144ae8a3d",
   "metadata": {},
   "outputs": [
    {
     "name": "stdout",
     "output_type": "stream",
     "text": [
      "The provided number is a perfect square\n"
     ]
    }
   ],
   "source": [
    "##  if a given number is a perfect square using if-else\n",
    "num = 16 \n",
    "sqrt_num = num ** 0.5  \n",
    "if sqrt_num.is_integer():  \n",
    "    print(\"The provided number is a perfect square\")  \n",
    "else:  \n",
    "    print(\"The provided number is not a perfect square\") "
   ]
  },
  {
   "cell_type": "code",
   "execution_count": 48,
   "id": "c7c232ce-b510-45f9-be26-85c87b46c99c",
   "metadata": {},
   "outputs": [
    {
     "name": "stdout",
     "output_type": "stream",
     "text": [
      "Underweight\n"
     ]
    }
   ],
   "source": [
    "## calculates the BMI (Body Mass Index) of a person based on their weight and height using if-else\n",
    "weight = 20\n",
    "height = 5\n",
    "x = weight/float(height*height)\n",
    "if x < 18.5:\n",
    "    print('Underweight')\n",
    "if x>=18.5 and x<25:\n",
    "    print(\"Normal\")\n",
    "if x >= 25 and x < 30:\n",
    "   print('Overweight')\n",
    "if x >= 30:\n",
    "   print('Obesity')"
   ]
  },
  {
   "cell_type": "code",
   "execution_count": 50,
   "id": "9fd0c50b-0f94-435f-8eba-ae93b581b4b5",
   "metadata": {},
   "outputs": [
    {
     "name": "stdout",
     "output_type": "stream",
     "text": [
      "40 is not a prime number\n"
     ]
    }
   ],
   "source": [
    "## if a given number is prime or not using if-else\n",
    "number = 40\n",
    "if number > 1:\n",
    "    for i in range(2, number):\n",
    "        if (number % i) == 0:\n",
    "            print(number, \"is not a prime number\")\n",
    "            break\n",
    "    else:\n",
    "        print(number, \"is a prime number\")\n",
    "else:\n",
    "    print(number, \"is not a prime number\")"
   ]
  },
  {
   "cell_type": "code",
   "execution_count": 52,
   "id": "b081f248-5593-4c3e-abc4-2d3ba12f4646",
   "metadata": {},
   "outputs": [
    {
     "name": "stdout",
     "output_type": "stream",
     "text": [
      "<map object at 0x7fd6b4157a00>\n"
     ]
    }
   ],
   "source": [
    "## purpose of the `map()` function in Python and provide an example of how it can be used to apply a function to each element of an iterable.\n",
    "##Map() function is used to applies each element of sequence and returns a new sequence with transformed elements.\n",
    "l=[1,2,3,4,5]\n",
    "c=map(lambda a:a+2,l)\n",
    "print(c)"
   ]
  },
  {
   "cell_type": "code",
   "execution_count": 54,
   "id": "1f43775f-3c1b-4dae-b3a8-8cf2b8b248a3",
   "metadata": {},
   "outputs": [
    {
     "name": "stdout",
     "output_type": "stream",
     "text": [
      "<map object at 0x7fd6b415faf0>\n"
     ]
    }
   ],
   "source": [
    "## `map()` function to square each element of a list of numbers\n",
    "l=[1,2,3,4,5]\n",
    "c=map(lambda n:n*n,l)\n",
    "print(c)"
   ]
  },
  {
   "cell_type": "code",
   "execution_count": 55,
   "id": "6c42a9a7-5eb0-4de8-aefd-cfdee23f0a85",
   "metadata": {},
   "outputs": [
    {
     "name": "stdout",
     "output_type": "stream",
     "text": [
      "[4, 88, 11.0, 12, -14]\n"
     ]
    }
   ],
   "source": [
    "## `map()` function differ from a list comprehension in Python, and when would you choose one over the other?\n",
    "## List comprehension is easy and compact way of creating list object and iterate over the sequence based on some condition\n",
    "lst = [2, 44, 5.5, 6, -7]\n",
    "x = [i * 2 for i in lst ] \n",
    "print(x)"
   ]
  },
  {
   "cell_type": "code",
   "execution_count": 57,
   "id": "6927dc70-1773-4881-bf0a-0cb55c23550c",
   "metadata": {},
   "outputs": [
    {
     "name": "stdout",
     "output_type": "stream",
     "text": [
      "<map object at 0x7fd6b415e620>\n"
     ]
    }
   ],
   "source": [
    "##  uses the `map()` function to convert a list of names to uppercase\n",
    "def myMapFunc(n):\n",
    "    return n.upper()\n",
    "my_tuple = ('php','java','python','c++','c')\n",
    "updated_list = map(myMapFunc, my_tuple)\n",
    "print(updated_list)"
   ]
  },
  {
   "cell_type": "code",
   "execution_count": 58,
   "id": "35f20520-6005-4412-8f23-a84d0661c270",
   "metadata": {},
   "outputs": [
    {
     "name": "stdout",
     "output_type": "stream",
     "text": [
      "25\n"
     ]
    }
   ],
   "source": [
    "## `map()` function to calculate the length of each word in a list of strings.\n",
    "list=\"Kumari Shwrta Shrivastava\"\n",
    "c=map(lambda a:a,list)\n",
    "print(len(list))"
   ]
  },
  {
   "cell_type": "code",
   "execution_count": 59,
   "id": "0d8128f6-1c1e-42f6-80bb-1208aaeca54f",
   "metadata": {},
   "outputs": [
    {
     "name": "stdout",
     "output_type": "stream",
     "text": [
      "<map object at 0x7fd6b415fdf0>\n"
     ]
    }
   ],
   "source": [
    "## `map()` to convert a list of temperatures from Celsius to Fahrenheit.\n",
    "Celsius = [26.2, 33.2, 29.3, 32.4]\n",
    "Fahrenheit = map(lambda x: (float(9)/5)*x + 32, Celsius)\n",
    "print(Fahrenheit)"
   ]
  },
  {
   "cell_type": "code",
   "execution_count": 60,
   "id": "362d834e-dbfa-47a1-88cb-5eeb2688de8b",
   "metadata": {},
   "outputs": [
    {
     "name": "stdout",
     "output_type": "stream",
     "text": [
      "The sum of the list elements is : 17\n",
      "The maximum element of the list is : 6\n"
     ]
    }
   ],
   "source": [
    "##What is the `reduce()` function in Python, and what module should you import to use it? Provide an example of its basic usage.\n",
    "##Reduce function is a higher order function. It applies in every element of sequence and return single value. It contains 2 arguments, 1st argument is function and 2nd argument is iterable. It consists functools module and return value in form of Tuple.\n",
    "import functools\n",
    "lis = [1, 3, 5, 6, 2]\n",
    "print(\"The sum of the list elements is : \", end=\"\")\n",
    "print(functools.reduce(lambda a, b: a+b, lis))\n",
    "print(\"The maximum element of the list is : \", end=\"\")\n",
    "print(functools.reduce(lambda a, b: a if a > b else b, lis))"
   ]
  },
  {
   "cell_type": "code",
   "execution_count": 61,
   "id": "009ed85a-b0bb-4053-898e-1c0577e4afd6",
   "metadata": {},
   "outputs": [
    {
     "name": "stdout",
     "output_type": "stream",
     "text": [
      "720\n"
     ]
    }
   ],
   "source": [
    "##  `reduce()` function to find the product of all elements in a list.\n",
    "import functools\n",
    "list=[2,3,4,5,6]\n",
    "print(functools.reduce(lambda a,b:a*b,list))"
   ]
  },
  {
   "cell_type": "code",
   "execution_count": 62,
   "id": "67eb0a81-89ea-43c0-906c-698c5d8cb7e3",
   "metadata": {},
   "outputs": [
    {
     "name": "stdout",
     "output_type": "stream",
     "text": [
      "Maximum element in a list of numbers:\n",
      "898\n"
     ]
    }
   ],
   "source": [
    "##  `reduce()` to find the maximum element in a list of numbers.\n",
    "import functools\n",
    "print(\"Maximum element in a list of numbers:\")\n",
    "list=[90,110,30,40,70,898,123]\n",
    "print(functools.reduce(lambda a,b:a if a>b else b,list))"
   ]
  },
  {
   "cell_type": "code",
   "execution_count": 63,
   "id": "496fff07-cefe-46db-b5c2-7abccfa80d18",
   "metadata": {},
   "outputs": [
    {
     "name": "stdout",
     "output_type": "stream",
     "text": [
      "apple, banana, orange, grape\n"
     ]
    }
   ],
   "source": [
    "##  `reduce()` function to concatenate a list of strings into a single string?\n",
    "from functools import reduce\n",
    "fruits = ['apple', 'banana', 'orange', 'grape']\n",
    "def concatenate_strings(str1, str2):\n",
    "    return str1 + ', ' + str2\n",
    "result = reduce(concatenate_strings, fruits)\n",
    "print(result)"
   ]
  },
  {
   "cell_type": "code",
   "execution_count": 64,
   "id": "56e16ef9-68cf-4624-a2ce-9422262b81ea",
   "metadata": {},
   "outputs": [
    {
     "name": "stdout",
     "output_type": "stream",
     "text": [
      "120\n"
     ]
    }
   ],
   "source": [
    "##  calculates the factorial of a number using the `reduce()` function\n",
    "import functools\n",
    "n=5\n",
    "print(functools.reduce(lambda a,b:a*b,range(1,n+1)))"
   ]
  },
  {
   "cell_type": "code",
   "execution_count": 65,
   "id": "31f01777-77a4-4e87-b788-4577b7550261",
   "metadata": {},
   "outputs": [
    {
     "name": "stdout",
     "output_type": "stream",
     "text": [
      "10\n"
     ]
    }
   ],
   "source": [
    "## `reduce()` to find the GCD (Greatest Common Divisor) of a list of numbers.\n",
    "import numpy as ab\n",
    "A = [20,30]\n",
    "print(ab.gcd.reduce(A))"
   ]
  },
  {
   "cell_type": "code",
   "execution_count": 66,
   "id": "4fd18d7f-38a7-403f-b7e8-7168feb8eef9",
   "metadata": {},
   "outputs": [
    {
     "name": "stdout",
     "output_type": "stream",
     "text": [
      "30\n"
     ]
    }
   ],
   "source": [
    "##  `reduce()` function to find the sum of the digits of a given number.\n",
    "import functools\n",
    "l=[2,3,4,5,6,5,5]\n",
    "sum=0\n",
    "print(functools.reduce(lambda a,b:a+b,l))"
   ]
  },
  {
   "cell_type": "code",
   "execution_count": 68,
   "id": "a454f4e9-91c5-4d59-b866-bee56eb169ef",
   "metadata": {},
   "outputs": [
    {
     "name": "stdout",
     "output_type": "stream",
     "text": [
      "The list of odd numbers is:  <filter object at 0x7fd6a44837f0>\n",
      "The list of even numbers is:  <filter object at 0x7fd6a44822f0>\n"
     ]
    }
   ],
   "source": [
    "## Filter() is a built-in function in Python. The filter function can be applied to an iterable such as a list or a dictionary and create a new iterator. This new iterator can filter out certain specific elements based on the condition that you\n",
    "nums = [5, 10, 23, 64, 42, 53, 93, 2, 0, -14, 6, -22, -13]\n",
    "odd = filter(lambda p : p%2 != 0, nums)\n",
    "even = filter(lambda p: p%2 == 0, nums)\n",
    "print(\"The list of odd numbers is: \", odd)\n",
    "print(\"The list of even numbers is: \", even)"
   ]
  },
  {
   "cell_type": "code",
   "execution_count": 70,
   "id": "e0e0b5d3-e49d-4e5c-9e88-d492be567fa4",
   "metadata": {},
   "outputs": [
    {
     "name": "stdout",
     "output_type": "stream",
     "text": [
      "The list of even numbers is:  <filter object at 0x7fd6a4481360>\n"
     ]
    }
   ],
   "source": [
    "## `filter()` function to select even numbers from a list of integers\n",
    "nums = [5, 10, 23, 64, 42, 53, 93, 2, 0, -14, 6, -22, -13]\n",
    "even = filter(lambda p: p%2 == 0, nums)\n",
    "print(\"The list of even numbers is: \", even)"
   ]
  },
  {
   "cell_type": "code",
   "execution_count": 72,
   "id": "0c692b76-0d12-4d14-b039-36209655aa5f",
   "metadata": {},
   "outputs": [
    {
     "name": "stdout",
     "output_type": "stream",
     "text": [
      "The original list : ['Akash', 'Nikhil', 'Manjeet', 'akshat']\n",
      "The list of matching first letter : <filter object at 0x7fd6a4483610>\n"
     ]
    }
   ],
   "source": [
    "##  `filter()` function to select names that start with a specific letter from a list of strings\n",
    "test_list = ['Akash', 'Nikhil', 'Manjeet', 'akshat']\n",
    "check = 'A'\n",
    "print(\"The original list : \" + str(test_list))\n",
    "res = filter(lambda x: x[0].lower() == check.lower(), test_list)\n",
    "print(\"The list of matching first letter : \" + str(res))"
   ]
  },
  {
   "cell_type": "code",
   "execution_count": 74,
   "id": "cac7c1b6-9077-42f6-ba08-16d3b6101db5",
   "metadata": {},
   "outputs": [
    {
     "name": "stdout",
     "output_type": "stream",
     "text": [
      "<filter object at 0x7fd6a4482770>\n"
     ]
    }
   ],
   "source": [
    "\n",
    "# function to select prime numbers from a list of integers.\n",
    "import math\n",
    "def main(x):\n",
    "   if x <= 1:\n",
    "       return False\n",
    "   for i in range(2, int(math.sqrt(x)) + 1):\n",
    "       if x % i == 0:\n",
    "           return False\n",
    "   return True\n",
    "print(filter(main, range(30)))"
   ]
  },
  {
   "cell_type": "code",
   "execution_count": 76,
   "id": "8ba68c02-3386-4c40-a424-3f4c5cb12394",
   "metadata": {},
   "outputs": [
    {
     "name": "stdout",
     "output_type": "stream",
     "text": [
      "<filter object at 0x7fd6a406ebf0>\n"
     ]
    }
   ],
   "source": [
    "##  `filter()` function to remove None values from a list in Python?\n",
    "my_list = [1, None, 3, None, 8, None]\n",
    "new_list = filter(lambda x: x is not None, my_list)\n",
    "print(new_list)"
   ]
  },
  {
   "cell_type": "code",
   "execution_count": 77,
   "id": "c114e54b-0b4c-4157-8d51-b9f3b75d1ff9",
   "metadata": {},
   "outputs": [
    {
     "name": "stdout",
     "output_type": "stream",
     "text": [
      "<filter object at 0x7fd6a4482680>\n"
     ]
    }
   ],
   "source": [
    "## filter()` to select words longer than a certain length from a list of strings.\n",
    "data = ['hello', 'communication', 'be', 'dog', 'test']\n",
    "filtered_list = filter(lambda x: len(x) > 4 and len(x) < 8, data)\n",
    "print(filtered_list)"
   ]
  },
  {
   "cell_type": "code",
   "execution_count": 78,
   "id": "1f8407e3-d5bc-4bbb-a5cc-37cc2902c632",
   "metadata": {},
   "outputs": [
    {
     "name": "stdout",
     "output_type": "stream",
     "text": [
      "The original list : ['gfg', 'is', 'best', 'for', 'geeks']\n",
      "The above Threshold size strings are : <filter object at 0x7fd6a406ee60>\n"
     ]
    }
   ],
   "source": [
    "##  `filter()` function to select elements greater than a specified threshold from a list of values.\n",
    "test_list = ['gfg', 'is', 'best', 'for', 'geeks']\n",
    "print(\"The original list : \" + str(test_list))\n",
    "thres = 4\n",
    "res = filter(lambda ele: len(ele) >= thres, test_list)\n",
    "print(\"The above Threshold size strings are : \" + str(res))"
   ]
  },
  {
   "cell_type": "code",
   "execution_count": 79,
   "id": "8e48382a-1e3c-4206-af9b-70a028b19299",
   "metadata": {},
   "outputs": [
    {
     "name": "stdout",
     "output_type": "stream",
     "text": [
      "The factorial of 5 is 120\n"
     ]
    }
   ],
   "source": [
    "## Explain the concept of recursion in Python. How does it differ from iteration\n",
    "## Calling a same function again and again and again\n",
    "def factorial(x):\n",
    "    if x == 1:\n",
    "        return 1\n",
    "    else:\n",
    "        return (x * factorial(x-1))\n",
    "num = 5\n",
    "print(\"The factorial of\", num, \"is\", factorial(num))"
   ]
  },
  {
   "cell_type": "code",
   "execution_count": 80,
   "id": "b8758696-6fe0-490f-963c-cf93450f04a3",
   "metadata": {},
   "outputs": [
    {
     "name": "stdout",
     "output_type": "stream",
     "text": [
      "5\n"
     ]
    }
   ],
   "source": [
    "## recursive Python function to find the nth Fibonacci number.\n",
    "def Fibonacci(n): \n",
    "    if n<0: \n",
    "        print(\"Incorrect input\") \n",
    "    elif n==0: \n",
    "        return (0) \n",
    "    elif n==1: \n",
    "        return (1)\n",
    "    else: \n",
    "        return (Fibonacci(n-1)+Fibonacci(n-2)) \n",
    "print(Fibonacci(5)) "
   ]
  },
  {
   "cell_type": "code",
   "execution_count": 81,
   "id": "2248446f-a167-484a-a817-b9f3075eca94",
   "metadata": {},
   "outputs": [
    {
     "name": "stdout",
     "output_type": "stream",
     "text": [
      "15\n"
     ]
    }
   ],
   "source": [
    "## calculate the sum of all elements in a list.\n",
    "def getSum(piece):\n",
    "    if len(piece)==0:\n",
    "        return 0\n",
    "    else:\n",
    "        return piece[0] + getSum(piece[1:]) \n",
    "print(getSum([1, 3, 4, 2, 5]))"
   ]
  },
  {
   "cell_type": "code",
   "execution_count": 82,
   "id": "91718fe9-55c5-4938-a02e-3bc26002e345",
   "metadata": {},
   "outputs": [],
   "source": [
    "\n",
    "## How can you prevent a recursive function from running indefinitely, causing a stack overflow erro\n",
    "## Due to this, the recursion limit of python is usually set to a small value (approx, 10^4). This means that when you provide a large input to the recursive function, you will get an error. This is done to avoid a stack overflow. The Python interpreter limits the recursion limit so that infinite recursions are avoided.\n"
   ]
  },
  {
   "cell_type": "code",
   "execution_count": 83,
   "id": "3afabe17-ab9e-4e0d-a8b6-9dd37c2d3182",
   "metadata": {},
   "outputs": [
    {
     "name": "stdout",
     "output_type": "stream",
     "text": [
      "The gcd of 60 and 48 is : 12\n"
     ]
    }
   ],
   "source": [
    "## Python function to find the greatest common divisor (GCD) of two numbers using the Euclidean algorithm.\n",
    "def hcf(a, b):\n",
    "    if(b == 0):\n",
    "        return a\n",
    "    else:\n",
    "        return hcf(b, a % b)\n",
    "a = 60\n",
    "b = 48\n",
    "print(\"The gcd of 60 and 48 is : \", end=\"\")\n",
    "print(hcf(60, 48))"
   ]
  },
  {
   "cell_type": "code",
   "execution_count": 85,
   "id": "36aca319-ec97-4c6e-b46f-9941719f682e",
   "metadata": {},
   "outputs": [
    {
     "name": "stdout",
     "output_type": "stream",
     "text": [
      "Given String: Shweta\n",
      "reversed String: atewhS\n"
     ]
    }
   ],
   "source": [
    "## Reverse a string\n",
    "def reverse_str(my_str):\n",
    "   if len(my_str) == 0:\n",
    "      return my_str\n",
    "   else:\n",
    "      return reverse_str(my_str[1:]) + my_str[0]\n",
    "my_string = \"Shweta\"\n",
    "print(f\"Given String: {my_string}\")\n",
    "print(f\"reversed String: {reverse_str(my_string)}\")"
   ]
  },
  {
   "cell_type": "code",
   "execution_count": 86,
   "id": "ad8f7c41-1675-4592-a863-553b5337204e",
   "metadata": {},
   "outputs": [
    {
     "name": "stdout",
     "output_type": "stream",
     "text": [
      "2 to the power 4 is 16\n"
     ]
    }
   ],
   "source": [
    "## recursive Python function to calculate the power of a number (x^n)\n",
    "def power(a, b):\n",
    "    if b != 0:\n",
    "        return a * power(a, b - 1)\n",
    "    else:\n",
    "        return 1\n",
    "a = 2\n",
    "b = 4\n",
    "print(a, \"to the power\", b, \"is\", power(a, b))"
   ]
  },
  {
   "cell_type": "code",
   "execution_count": 88,
   "id": "f024743e-0ea8-486b-966f-91f63f6e5c7a",
   "metadata": {},
   "outputs": [
    {
     "name": "stdout",
     "output_type": "stream",
     "text": [
      "['Abc', 'Acb', 'bAc', 'bcA', 'cAb', 'cbA']\n"
     ]
    }
   ],
   "source": [
    "## recursive Python function to find all permutations of a given string\n",
    "import itertools\n",
    "a_string = 'Abc'\n",
    "string_permutations = itertools.permutations(a_string)\n",
    "string_permutations = string_permutations\n",
    "string_permutations = [''.join(permutation) for permutation in string_permutations]\n",
    "print(string_permutations)"
   ]
  },
  {
   "cell_type": "code",
   "execution_count": 90,
   "id": "c6827c65-4535-4d89-9eca-e3e38ccce861",
   "metadata": {},
   "outputs": [
    {
     "name": "stdout",
     "output_type": "stream",
     "text": [
      "Shweta is not palindrome\n"
     ]
    }
   ],
   "source": [
    "##  recursive Python function to check if a string is a palindrome\n",
    "def is_palindrome(l,r,S):\n",
    "    if l>=r:\n",
    "        return True\n",
    "    if S[l] != S[r]:\n",
    "        return False\n",
    "    return is_palindrome(l+1,r-1,S)\n",
    "my_string = \"Shweta\"\n",
    "l = 0\n",
    "r = len(my_string)-1\n",
    "check = is_palindrome(l,r,my_string)\n",
    "if check:\n",
    "    print(f\"{my_string} is palindrome\")\n",
    "else:\n",
    "    print(f\"{my_string} is not palindrome\")"
   ]
  },
  {
   "cell_type": "code",
   "execution_count": 91,
   "id": "27ceb372-729c-45a2-8838-6a2963d2e357",
   "metadata": {},
   "outputs": [
    {
     "name": "stdout",
     "output_type": "stream",
     "text": [
      "The original list is : [4, 5, 6, 7, 3, 8]\n",
      "The combinations of elements till length N : [(4,), (5,), (6,), (7,), (3,), (8,), (4, 5), (4, 6), (4, 7), (4, 3), (4, 8), (5, 6), (5, 7), (5, 3), (5, 8), (6, 7), (6, 3), (6, 8), (7, 3), (7, 8), (3, 8), (4, 5, 6), (4, 5, 7), (4, 5, 3), (4, 5, 8), (4, 6, 7), (4, 6, 3), (4, 6, 8), (4, 7, 3), (4, 7, 8), (4, 3, 8), (5, 6, 7), (5, 6, 3), (5, 6, 8), (5, 7, 3), (5, 7, 8), (5, 3, 8), (6, 7, 3), (6, 7, 8), (6, 3, 8), (7, 3, 8)]\n"
     ]
    }
   ],
   "source": [
    "## recursive Python function to generate all possible combinations of a list of elements\n",
    "from itertools import combinations\n",
    "test_list = [4, 5, 6, 7, 3, 8]\n",
    "print(\"The original list is : \" +  str(test_list))\n",
    "res = [com for sub in range(3) for com in combinations(test_list, sub + 1)]\n",
    "print(\"The combinations of elements till length N : \" +  str(res))"
   ]
  },
  {
   "cell_type": "code",
   "execution_count": 92,
   "id": "6fa155e6-989b-46d5-a270-4647ff9b6025",
   "metadata": {},
   "outputs": [],
   "source": [
    "## What is a function in Python, and why is it used\n",
    "## Function is a block of code that perform a particular task based on some condition which iterates over the loop. Function is defined as def keyword. It is created when it is called and it destroys when it returns. We can pass many number of arguments in parameter.\n"
   ]
  },
  {
   "cell_type": "code",
   "execution_count": 93,
   "id": "7641f9b7-1bf8-4d73-a113-b70759236907",
   "metadata": {},
   "outputs": [
    {
     "data": {
      "text/plain": [
       "17"
      ]
     },
     "execution_count": 93,
     "metadata": {},
     "output_type": "execute_result"
    }
   ],
   "source": [
    "## How do you define a function in Python? Provide an example\n",
    "## Function is defined as def keyword\n",
    "def sum(a,b):\n",
    "    return a+b\n",
    "sum(3,14)"
   ]
  },
  {
   "cell_type": "code",
   "execution_count": 94,
   "id": "898c50e8-7d0c-43d9-8f09-b2d8a353dcd7",
   "metadata": {},
   "outputs": [],
   "source": [
    "##  difference between a function definition and a function call.\n",
    "## A function is a piece of code which enhanced the reusability and modularity of your program. It means that piece of code need not be written again. A function call means invoking or calling that function. Unless a function is called there is no use of that function\n"
   ]
  },
  {
   "cell_type": "code",
   "execution_count": 95,
   "id": "437bca8a-5538-4910-99d4-81a4546e92f1",
   "metadata": {},
   "outputs": [
    {
     "data": {
      "text/plain": [
       "65"
      ]
     },
     "execution_count": 95,
     "metadata": {},
     "output_type": "execute_result"
    }
   ],
   "source": [
    "\n",
    "## Write a Python program that defines a function to calculate the sum of two numbers and then calls the function\n",
    "def sum(a,b):\n",
    "    return a+b\n",
    "sum(30,35)"
   ]
  },
  {
   "cell_type": "code",
   "execution_count": 96,
   "id": "09329845-c715-487b-b55e-41d64ca0f799",
   "metadata": {},
   "outputs": [],
   "source": [
    "\n",
    "## What is a function signature, and what information does it typically include\n",
    "## generally the signature of a function refers to the names and types of the arguments the function accepts, along with the type of its return value.  It takes callable as a parameter and returns the annotation. It raises a value Error if no signature is provided\n"
   ]
  },
  {
   "cell_type": "code",
   "execution_count": 97,
   "id": "3edf060b-c2b3-4436-b644-40e43193ea43",
   "metadata": {},
   "outputs": [
    {
     "data": {
      "text/plain": [
       "20"
      ]
     },
     "execution_count": 97,
     "metadata": {},
     "output_type": "execute_result"
    }
   ],
   "source": [
    "## Create a Python function that takes two arguments and returns their product.\n",
    "def product(a,b):\n",
    "    return a*b\n",
    "product(5,4)"
   ]
  },
  {
   "cell_type": "code",
   "execution_count": 98,
   "id": "f538aa1a-839e-4636-832d-5fc45a8314e1",
   "metadata": {},
   "outputs": [],
   "source": [
    "## Explain the concepts of formal parameters and actual arguments in Python functions\n",
    "## Parameter is a variable that passed inside a parenthesis and return true and false condition.\n",
    "## Arguments is a value tha pass inside a function "
   ]
  },
  {
   "cell_type": "code",
   "execution_count": 99,
   "id": "5e6dbef4-ecc2-4503-bafd-fbd91ccf5e2a",
   "metadata": {},
   "outputs": [
    {
     "data": {
      "text/plain": [
       "70"
      ]
     },
     "execution_count": 99,
     "metadata": {},
     "output_type": "execute_result"
    }
   ],
   "source": [
    "## Write a Python program that defines a function with default argument values\n",
    "def diff(a=100,b=30):\n",
    "    return a-b\n",
    "diff()"
   ]
  },
  {
   "cell_type": "code",
   "execution_count": 100,
   "id": "39f79aa8-5458-419a-ad61-408ac00ab420",
   "metadata": {},
   "outputs": [
    {
     "name": "stdout",
     "output_type": "stream",
     "text": [
      "First Name: Kumari\n",
      "Last Name: Shweta\n"
     ]
    }
   ],
   "source": [
    "## How do you use keyword arguments in Python function calls? Provide an example\n",
    "## Keyword argument provides a argument with key value pair. So in this way, Interpreter recognize the function by parameter name, So it is known as keyword argument.\n",
    "def display_info(first_name, last_name):\n",
    "    print('First Name:', first_name)\n",
    "    print('Last Name:', last_name)\n",
    "\n",
    "display_info(last_name = 'Shweta', first_name = 'Kumari')"
   ]
  },
  {
   "cell_type": "code",
   "execution_count": 101,
   "id": "33c26510-cd86-4207-a934-53d23783284e",
   "metadata": {},
   "outputs": [
    {
     "name": "stdout",
     "output_type": "stream",
     "text": [
      "Sum is 6\n"
     ]
    }
   ],
   "source": [
    "## Create a Python function that accepts a variable number of arguments and calculates their sum\n",
    "## Variable number of arguments we used to pass n number of arguments than actuall arguments which we provided.\n",
    "def add_num(*args):\n",
    "   sum = 0\n",
    "   for num in args:\n",
    "      sum += num\n",
    "   return sum\n",
    "result = add_num(1, 2, 3)\n",
    "print('Sum is', result)"
   ]
  },
  {
   "cell_type": "code",
   "execution_count": 102,
   "id": "e2cd58ce-51aa-4d5b-a0dc-b0677f34a97f",
   "metadata": {},
   "outputs": [],
   "source": [
    "## What is the purpose of the `*args` and `**kwargs` syntax in function parameter lists?\n",
    "## Args in function is used to pass variable number of arguments to a function. The function access the arguments by processing them in the form of tuple.\n",
    "## kwargs is a keyword argument. The function access the arguments by processing them in the form of dictionary."
   ]
  },
  {
   "cell_type": "code",
   "execution_count": 103,
   "id": "8f75ad00-7e6d-4035-b0cc-684a136e37a7",
   "metadata": {},
   "outputs": [
    {
     "data": {
      "text/plain": [
       "6"
      ]
     },
     "execution_count": 103,
     "metadata": {},
     "output_type": "execute_result"
    }
   ],
   "source": [
    "## Describe the role of the `return` statement in Python functions and provide examples\n",
    "## Return statement is used to return value. When we use function and pass some parameter to function son the basis of the we get value in return as output\n",
    "def mul(a,b):\n",
    "    return a*b\n",
    "mul(2,3)"
   ]
  },
  {
   "cell_type": "code",
   "execution_count": 104,
   "id": "01fafc33-3762-4d8f-92ff-51ad7cbd4980",
   "metadata": {},
   "outputs": [],
   "source": [
    "## Explain the concept of variable scope in Python, including local and global variables.\n",
    "## Variable is a memory location where data is stored.There are 2 types of variable:\n",
    "## Local variable is a variable, which we can declare witing a function. It's accessable within that function. It's created when we call the function and it destroys when return.\n",
    "## Global variable is a variable that is declare outside of function and it is accessable within any code of function."
   ]
  },
  {
   "cell_type": "code",
   "execution_count": 105,
   "id": "40d1bc54-c852-4813-9341-bbe087c3a114",
   "metadata": {},
   "outputs": [
    {
     "name": "stdout",
     "output_type": "stream",
     "text": [
      "Python is awesome\n"
     ]
    }
   ],
   "source": [
    "## Write a Python program that demonstrates the use of global variables within functions.\n",
    "x = \"awesome\"\n",
    "def myfunc():\n",
    "  print(\"Python is \" + x)\n",
    "myfunc()"
   ]
  },
  {
   "cell_type": "code",
   "execution_count": 106,
   "id": "a0ce6160-9093-4bce-9dfe-5cec9f09c76a",
   "metadata": {},
   "outputs": [
    {
     "name": "stdout",
     "output_type": "stream",
     "text": [
      "720\n"
     ]
    }
   ],
   "source": [
    "## Create a Python function that calculates the factorial of a number and returns it.\n",
    "def fact_number(n):\n",
    "    if n==0:\n",
    "        return 1\n",
    "    else:\n",
    "        return n*fact_number(n-1)\n",
    "print(fact_number(6))"
   ]
  },
  {
   "cell_type": "code",
   "execution_count": 107,
   "id": "6a834eab-92a2-4774-ae88-c3132a4589ba",
   "metadata": {},
   "outputs": [],
   "source": [
    "## What are lambda functions in Python, and when are they typically used?\n",
    "## Lambda function is a small anonymous function without name. By using lambda function, we can create very concise code so that readability of the code will be improved. It is one line function."
   ]
  },
  {
   "cell_type": "code",
   "execution_count": 108,
   "id": "6d98b66a-b957-43d9-a511-21c432711125",
   "metadata": {},
   "outputs": [
    {
     "name": "stdout",
     "output_type": "stream",
     "text": [
      "Orignal Tuple List : [(200, 6), (100, 3), (400, 12), (300, 9)]\n",
      "Sorted Tuple List: [(100, 3), (200, 6), (300, 9), (400, 12)]\n"
     ]
    }
   ],
   "source": [
    "## Write a Python program that uses lambda functions to sort a list of tuples based on the second element.\n",
    "tuple = [(200, 6), (100, 3), (400, 12), (300, 9)]\n",
    "print(\"Orignal Tuple List :\" ,tuple)\n",
    "def Sort(tuple): \n",
    "    tuple.sort(key = lambda a: a[1]) \n",
    "    return tuple \n",
    "print(\"Sorted Tuple List:\" ,Sort(tuple))"
   ]
  },
  {
   "cell_type": "code",
   "execution_count": 109,
   "id": "cb958d92-8449-45f8-ac5b-edc33e1cea69",
   "metadata": {},
   "outputs": [],
   "source": [
    "## Explain the concept of higher-order functions in Python, and provide an example\n",
    "## Map, filter and reduce is a built in function, which is used to apply on every element of sequence and return transformed elements. It is also known as higher order functions."
   ]
  },
  {
   "cell_type": "code",
   "execution_count": 111,
   "id": "c80bf26e-c141-454d-a189-dc05130ea1dc",
   "metadata": {},
   "outputs": [
    {
     "name": "stdout",
     "output_type": "stream",
     "text": [
      "<map object at 0x7fd6a40de1a0>\n"
     ]
    }
   ],
   "source": [
    "\n",
    "## Create a Python function that takes a list of numbers and a function as arguments, applying the function to each element in the list\n",
    "def double(integer):\n",
    "    return integer*2\n",
    "integer_list = [1, 2, 3]\n",
    "output_list = map(double, integer_list)\n",
    "print(output_list)"
   ]
  },
  {
   "cell_type": "code",
   "execution_count": 112,
   "id": "b78af853-cc83-4a90-b407-0c6d93ac3375",
   "metadata": {},
   "outputs": [],
   "source": [
    "## Describe the role of built-in functions like `len()`, `max()`, and `min()` in Python.\n",
    "## Len() is used to return the lenghth os string.\n",
    "## max() is used to return the maximum element of list.\n",
    "## min() is used to get the minimum element of list."
   ]
  },
  {
   "cell_type": "code",
   "execution_count": null,
   "id": "6cabe92d-9775-4c6d-a971-5228c3262e7e",
   "metadata": {},
   "outputs": [],
   "source": []
  }
 ],
 "metadata": {
  "kernelspec": {
   "display_name": "Python 3 (ipykernel)",
   "language": "python",
   "name": "python3"
  },
  "language_info": {
   "codemirror_mode": {
    "name": "ipython",
    "version": 3
   },
   "file_extension": ".py",
   "mimetype": "text/x-python",
   "name": "python",
   "nbconvert_exporter": "python",
   "pygments_lexer": "ipython3",
   "version": "3.10.8"
  }
 },
 "nbformat": 4,
 "nbformat_minor": 5
}
