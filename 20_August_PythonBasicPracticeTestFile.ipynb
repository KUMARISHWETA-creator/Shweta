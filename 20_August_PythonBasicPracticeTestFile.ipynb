{
 "cells": [
  {
   "cell_type": "code",
   "execution_count": 1,
   "id": "53025f45-117b-466a-b4d1-0285a859ad8f",
   "metadata": {},
   "outputs": [
    {
     "name": "stdout",
     "output_type": "stream",
     "text": [
      "a\n",
      "t\n",
      "e\n",
      "w\n",
      "h\n",
      "S\n"
     ]
    }
   ],
   "source": [
    "## Write a program to reverse a string\n",
    "s=\"Shweta\"\n",
    "rev=0\n",
    "for i in s[::-1]:\n",
    "    print(i)"
   ]
  },
  {
   "cell_type": "code",
   "execution_count": 2,
   "id": "7fdd9a4b-b754-4b15-bf5d-3a2d90a9a115",
   "metadata": {},
   "outputs": [
    {
     "name": "stdout",
     "output_type": "stream",
     "text": [
      "SHWETA KUMARI SHRIVASTAVA\n"
     ]
    }
   ],
   "source": [
    "## Convert a string to uppercase.\n",
    "s='Shweta Kumari Shrivastava'\n",
    "print(s.upper())"
   ]
  },
  {
   "cell_type": "code",
   "execution_count": 3,
   "id": "8e6acd1c-17aa-45af-9da2-7ac0eaa7b5c8",
   "metadata": {},
   "outputs": [
    {
     "name": "stdin",
     "output_type": "stream",
     "text": [
      "Enter String Shweta\n"
     ]
    },
    {
     "name": "stdout",
     "output_type": "stream",
     "text": [
      "shweta\n"
     ]
    }
   ],
   "source": [
    "## Convert a string to lowercase.\n",
    "s=input(\"Enter String\")\n",
    "print(s.lower())"
   ]
  },
  {
   "cell_type": "code",
   "execution_count": 4,
   "id": "b0043249-ae6d-435a-9344-5f360bb6607a",
   "metadata": {},
   "outputs": [
    {
     "name": "stdout",
     "output_type": "stream",
     "text": [
      "Length os string of vowel is: 1\n",
      "Length os string of vowel is: 1\n",
      "Length os string of vowel is: 1\n",
      "Length os string of vowel is: 1\n",
      "Length os string of vowel is: 1\n",
      "Length os string of vowel is: 1\n"
     ]
    }
   ],
   "source": [
    "## Count the number of vowels in a string.\n",
    "s=\"Shweta Shrivastava\"\n",
    "for i in s:\n",
    "    if i=='a' or i=='e' or i=='i' or i=='o' or i=='u':\n",
    "        print(\"Length os string of vowel is:\",len(i))"
   ]
  },
  {
   "cell_type": "code",
   "execution_count": 5,
   "id": "37e98b0d-5b96-42fa-8678-02cb6c78280a",
   "metadata": {},
   "outputs": [
    {
     "name": "stdout",
     "output_type": "stream",
     "text": [
      "1\n",
      "1\n",
      "1\n",
      "1\n"
     ]
    }
   ],
   "source": [
    "## Count the number of consonants in a string.\n",
    "s=\"Shweta\"\n",
    "for i in s:\n",
    "    if i=='a' or i=='e' or i=='i' or i=='o' or i=='u':\n",
    "        pass\n",
    "    else:\n",
    "        print(len(i))"
   ]
  },
  {
   "cell_type": "code",
   "execution_count": 6,
   "id": "071d3491-980b-4160-8037-46f81dd387cf",
   "metadata": {},
   "outputs": [
    {
     "name": "stdout",
     "output_type": "stream",
     "text": [
      "KumariShwetaShrivastava\n"
     ]
    }
   ],
   "source": [
    "\n",
    "## Remove all whitespaces from a string.\n",
    "s=\"Kumari Shweta Shrivastava\"\n",
    "print(s.replace(\" \",\"\"))"
   ]
  },
  {
   "cell_type": "code",
   "execution_count": 7,
   "id": "024bb0ba-afe9-409f-97a8-2c8770d0f476",
   "metadata": {},
   "outputs": [
    {
     "name": "stdout",
     "output_type": "stream",
     "text": [
      "13\n"
     ]
    }
   ],
   "source": [
    "## Find the length of a string without using the `len()` function.\n",
    "s=\"Shweta Kumari\"\n",
    "count=0\n",
    "for i in s:\n",
    "    count+=1\n",
    "print(count)"
   ]
  },
  {
   "cell_type": "code",
   "execution_count": 8,
   "id": "11f17d0e-038c-4a87-bed9-7c01890c9e2f",
   "metadata": {},
   "outputs": [
    {
     "name": "stdout",
     "output_type": "stream",
     "text": [
      "False\n"
     ]
    }
   ],
   "source": [
    "## Check if a string contains a specific word\n",
    "s=\"Shweta Kumari Shrivastava\"\n",
    "if \"sk\" in s:\n",
    "    print(\"True\")\n",
    "else:\n",
    "    print(\"False\")"
   ]
  },
  {
   "cell_type": "code",
   "execution_count": 9,
   "id": "be57c4b0-7fe2-49b4-bb9e-4ab757faae06",
   "metadata": {},
   "outputs": [
    {
     "name": "stdout",
     "output_type": "stream",
     "text": [
      "Kumari Pooja Shrivastava\n"
     ]
    }
   ],
   "source": [
    "## Replace a word in a string with another word.\n",
    "s=\"Kumari Shweta Shrivastava\"\n",
    "print(s.replace(\"Shweta\",\"Pooja\"))"
   ]
  },
  {
   "cell_type": "code",
   "execution_count": 10,
   "id": "5c514952-6029-4f83-8b54-b6201c5e6c5a",
   "metadata": {},
   "outputs": [
    {
     "name": "stdout",
     "output_type": "stream",
     "text": [
      "5\n"
     ]
    }
   ],
   "source": [
    "## Count the occurrences of a word in a string.\n",
    "s=\"Kumari Shweta Shrivastava\"\n",
    "print(s.count(\"a\"))"
   ]
  },
  {
   "cell_type": "code",
   "execution_count": 11,
   "id": "d921dcbf-a807-4a1d-ba95-9f500a8424ad",
   "metadata": {},
   "outputs": [
    {
     "name": "stdout",
     "output_type": "stream",
     "text": [
      "-1\n"
     ]
    }
   ],
   "source": [
    "## Find the first occurrence of a word in a string.\n",
    "s=\"Kumari Shweta Shrivastava\"\n",
    "print(s.find(\"k\"))"
   ]
  },
  {
   "cell_type": "code",
   "execution_count": 12,
   "id": "17c8a3f0-2a00-4816-8d63-0b4d04926f79",
   "metadata": {},
   "outputs": [
    {
     "name": "stdout",
     "output_type": "stream",
     "text": [
      "Index of last occurrence of substring is :  24\n"
     ]
    }
   ],
   "source": [
    "## Find the last occurrence of a word in a string.\n",
    "s=\"Kumari Shweta Shrivastava\"\n",
    "print(\"Index of last occurrence of substring is : \",s.rindex(\"a\"))"
   ]
  },
  {
   "cell_type": "code",
   "execution_count": 13,
   "id": "ce7cbda7-a3f6-41e3-81f7-352a6f0c88f6",
   "metadata": {},
   "outputs": [
    {
     "name": "stdout",
     "output_type": "stream",
     "text": [
      "['Kumari', 'Shweta', 'Shrivastava']\n"
     ]
    }
   ],
   "source": [
    "## Split a string into a list of words.\n",
    "s=\"Kumari Shweta Shrivastava\"\n",
    "print(s.split())"
   ]
  },
  {
   "cell_type": "code",
   "execution_count": 14,
   "id": "54225674-7007-42c4-bd0e-0d9ddcdc796c",
   "metadata": {},
   "outputs": [
    {
     "name": "stdout",
     "output_type": "stream",
     "text": [
      "kumari\n"
     ]
    }
   ],
   "source": [
    "## Join a list of words into a string.\n",
    "list1 = ['k', 'u', 'm', 'a', 'r', 'i']\n",
    "print(\"\".join(list1))"
   ]
  },
  {
   "cell_type": "code",
   "execution_count": 15,
   "id": "e8552098-d0a8-437f-b2c2-8677b58e1cf7",
   "metadata": {},
   "outputs": [
    {
     "name": "stdout",
     "output_type": "stream",
     "text": [
      "S_h_w_e_t_a\n"
     ]
    }
   ],
   "source": [
    "## Convert a string where words are separated by spaces to one where words are separated by underscores\n",
    "s=['S','h','w','e','t','a']\n",
    "print(\"_\".join(s))"
   ]
  },
  {
   "cell_type": "code",
   "execution_count": 16,
   "id": "a6d9adab-7c62-45bb-bbab-0a2c7d5a8477",
   "metadata": {},
   "outputs": [
    {
     "name": "stdout",
     "output_type": "stream",
     "text": [
      "True\n"
     ]
    }
   ],
   "source": [
    "## Check if a string starts with a specific word or phrase.\n",
    "s=\"Shweta Shrivastava\"\n",
    "print(s.startswith(\"S\"))"
   ]
  },
  {
   "cell_type": "code",
   "execution_count": 17,
   "id": "2e5662e6-c072-4de9-a0a5-d903dd96bf28",
   "metadata": {},
   "outputs": [
    {
     "name": "stdout",
     "output_type": "stream",
     "text": [
      "True\n"
     ]
    }
   ],
   "source": [
    "## Check if a string ends with a specific word or phrase.\n",
    "s=\"Shweta Shrivastava\"\n",
    "print(s.endswith(\"a\"))"
   ]
  },
  {
   "cell_type": "code",
   "execution_count": 18,
   "id": "bd2f24e8-7409-4e2c-b4c0-f23f2bee525d",
   "metadata": {},
   "outputs": [
    {
     "name": "stdout",
     "output_type": "stream",
     "text": [
      "Shweta Shrivastava\n"
     ]
    }
   ],
   "source": [
    "## Convert a string to title case (e.g., \"hello world\" to \"Hello World\").\n",
    "s=\"shweta shrivastava\"\n",
    "print(s.title())"
   ]
  },
  {
   "cell_type": "code",
   "execution_count": 19,
   "id": "a2158e5e-b8a1-4c34-8dda-19900eb4aceb",
   "metadata": {},
   "outputs": [
    {
     "name": "stdin",
     "output_type": "stream",
     "text": [
      "Enter a String:  Shweta\n"
     ]
    },
    {
     "name": "stdout",
     "output_type": "stream",
     "text": [
      "Longest word:  Shweta\n",
      "Position of Longest word:  0\n"
     ]
    }
   ],
   "source": [
    "## Find the longest word in a string.\n",
    "str = input(\"Enter a String: \")\n",
    "word_list = str.split()\n",
    "longest_word = max(word_list, key = len)\n",
    "pos = str.index(longest_word)\n",
    "print(\"Longest word: \",longest_word)\n",
    "print(\"Position of Longest word: \", pos)"
   ]
  },
  {
   "cell_type": "code",
   "execution_count": 20,
   "id": "b36cfc51-7add-4166-9afd-c1b8ff128e69",
   "metadata": {},
   "outputs": [
    {
     "name": "stdin",
     "output_type": "stream",
     "text": [
      "Enter a String:  Shrivastava\n"
     ]
    },
    {
     "name": "stdout",
     "output_type": "stream",
     "text": [
      "Shortest word:  Shrivastava\n",
      "Position of shortest word:  0\n"
     ]
    }
   ],
   "source": [
    "## Find the Shortest word in a string.\n",
    "str = input(\"Enter a String: \")\n",
    "word_list = str.split()\n",
    "shortest_word = min(word_list, key = len)\n",
    "pos = str.index(shortest_word)\n",
    "print(\"Shortest word: \",shortest_word)\n",
    "print(\"Position of shortest word: \", pos)\n"
   ]
  },
  {
   "cell_type": "code",
   "execution_count": 21,
   "id": "221302f8-b2fe-4271-9372-e4e536b45c6f",
   "metadata": {},
   "outputs": [
    {
     "name": "stdout",
     "output_type": "stream",
     "text": [
      "atewhS\n"
     ]
    }
   ],
   "source": [
    "## Reverse the order of words in a string.\n",
    "s=\"Shweta\"\n",
    "print(s[::-1])\n"
   ]
  },
  {
   "cell_type": "code",
   "execution_count": 22,
   "id": "9f2dfe84-ec91-480c-b423-e0bc75e2a03a",
   "metadata": {},
   "outputs": [
    {
     "name": "stdin",
     "output_type": "stream",
     "text": [
      "Enter a string Shweta\n"
     ]
    },
    {
     "name": "stdout",
     "output_type": "stream",
     "text": [
      "True\n"
     ]
    }
   ],
   "source": [
    "## Check if a string is alphanumeric.\n",
    "s=input(\"Enter a string\")\n",
    "print(s.isalnum())\n"
   ]
  },
  {
   "cell_type": "code",
   "execution_count": 23,
   "id": "5348619a-2665-4fcf-8c17-403a2c377efa",
   "metadata": {},
   "outputs": [
    {
     "name": "stdout",
     "output_type": "stream",
     "text": [
      "Kumari567Shweta\n",
      "Extracted numbers from list is: 567\n"
     ]
    }
   ],
   "source": [
    "\n",
    "## Extract all digits from a string.\n",
    "s=\"Kumari567Shweta\"\n",
    "print(s)\n",
    "num=\"\"\n",
    "for i in s:\n",
    "    if i.isdigit():\n",
    "        num=num+i\n",
    "print(\"Extracted numbers from list is:\",num)"
   ]
  },
  {
   "cell_type": "code",
   "execution_count": 24,
   "id": "be003a23-60d6-4495-894a-53b3c2ccd124",
   "metadata": {},
   "outputs": [
    {
     "name": "stdout",
     "output_type": "stream",
     "text": [
      "Kumari567Shweta\n",
      "Extracted numbers from list is: KumariShweta\n"
     ]
    }
   ],
   "source": [
    "## Extract all alphabets from a string.\n",
    "s=\"Kumari567Shweta\"\n",
    "print(s)\n",
    "a=\"\"\n",
    "for i in s:\n",
    "    if i.isalpha():\n",
    "        a=a+i\n",
    "print(\"Extracted numbers from list is:\",a)"
   ]
  },
  {
   "cell_type": "code",
   "execution_count": 25,
   "id": "8bbb034f-ce55-4aa8-b2f5-972a6f0a3b0d",
   "metadata": {},
   "outputs": [
    {
     "name": "stdin",
     "output_type": "stream",
     "text": [
      "Enter string: SHWETA\n"
     ]
    },
    {
     "name": "stdout",
     "output_type": "stream",
     "text": [
      "The number of lowercase characters is:\n",
      "0\n",
      "The number of uppercase characters is:\n",
      "6\n"
     ]
    }
   ],
   "source": [
    "\n",
    "## Count the number of uppercase letters in a string.\n",
    "string=input(\"Enter string:\")\n",
    "count1=0\n",
    "count2=0\n",
    "for i in string:\n",
    "      if(i.islower()):\n",
    "            count1=count1+1\n",
    "      elif(i.isupper()):\n",
    "            count2=count2+1\n",
    "print(\"The number of lowercase characters is:\")\n",
    "print(count1)\n",
    "print(\"The number of uppercase characters is:\")\n",
    "print(count2)"
   ]
  },
  {
   "cell_type": "code",
   "execution_count": 26,
   "id": "e4bbaf3a-30aa-4e85-841f-e98f38f50471",
   "metadata": {},
   "outputs": [
    {
     "name": "stdout",
     "output_type": "stream",
     "text": [
      "ShwEtA\n"
     ]
    }
   ],
   "source": [
    "## Swap the case of each character in a string.\n",
    "s=\"sHWeTa\"\n",
    "print(s.swapcase())\n"
   ]
  },
  {
   "cell_type": "code",
   "execution_count": 27,
   "id": "ecdabab7-0666-4d64-826b-f9f3e8026d9c",
   "metadata": {},
   "outputs": [
    {
     "name": "stdout",
     "output_type": "stream",
     "text": [
      "True\n"
     ]
    }
   ],
   "source": [
    "## Validate email address is true or not\n",
    "import re\n",
    "def solve(s):\n",
    "   pat = \"^[a-zA-Z0-9-_]+@[a-zA-Z0-9]+\\.[a-z]{1,3}$\"\n",
    "   if re.match(pat,s):\n",
    "      return True\n",
    "   return False\n",
    "\n",
    "s = \"popular_website15@comPany.com\"\n",
    "print(solve(s))"
   ]
  },
  {
   "cell_type": "code",
   "execution_count": 28,
   "id": "b0e93aa7-6bf7-4770-9962-5e644ee70ffd",
   "metadata": {},
   "outputs": [
    {
     "name": "stdout",
     "output_type": "stream",
     "text": [
      "Shweta2997\n"
     ]
    }
   ],
   "source": [
    "## Extract the username from an email address string.\n",
    "s=\"Shweta2997@gmail.com\"\n",
    "s.split(\"@\",1)\n",
    "username=print(s.split(\"@\",1)[0])"
   ]
  },
  {
   "cell_type": "code",
   "execution_count": 29,
   "id": "26248b0b-6af0-498b-9eb1-0677d7217834",
   "metadata": {},
   "outputs": [
    {
     "name": "stdout",
     "output_type": "stream",
     "text": [
      "Domain name of Emeail address is:\n",
      " gmail.com\n"
     ]
    }
   ],
   "source": [
    "## Extract the domain name from an email address string.\n",
    "s=\"Kumarish2997@gmail.com\"\n",
    "s.split(\"@\",1)\n",
    "print(\"Domain name of Emeail address is:\"\"\\n\",s.split(\"@\",1)[1])"
   ]
  },
  {
   "cell_type": "code",
   "execution_count": 30,
   "id": "412988a4-ec69-4923-a2f1-7097b686813b",
   "metadata": {},
   "outputs": [
    {
     "name": "stdout",
     "output_type": "stream",
     "text": [
      "  K  u  m  a  r  i     S  h  w  e  t  a     S  h  r  i  v  a  s  t  a  v  a  \n"
     ]
    }
   ],
   "source": [
    "## Replace multiple spaces in a string with a single space.\n",
    "s=\"Kumari Shweta Shrivastava\"\n",
    "print(s.replace(\"\",\"  \"))"
   ]
  },
  {
   "cell_type": "code",
   "execution_count": 31,
   "id": "35ea0ea1-7b2d-41b3-a4aa-4c3cb65bdcff",
   "metadata": {},
   "outputs": [
    {
     "name": "stdout",
     "output_type": "stream",
     "text": [
      "Urls:  ['https://auth.geeksforgeeks.org/user/Chinmoy%20Lenka/articles', 'https://www.geeksforgeeks.org/']\n"
     ]
    }
   ],
   "source": [
    "## Check if a string is a valid URL.\n",
    "def Find(string):\n",
    "    x=string.split()\n",
    "    res=[]\n",
    "    for i in x:\n",
    "        if i.startswith(\"https:\") or i.startswith(\"http:\"):\n",
    "            res.append(i)\n",
    "    return res           \n",
    "# Driver Code\n",
    "string = 'My Profile: https://auth.geeksforgeeks.org/user/Chinmoy%20Lenka/articles in the portal of https://www.geeksforgeeks.org/'\n",
    "print(\"Urls: \", Find(string))\n"
   ]
  },
  {
   "cell_type": "code",
   "execution_count": 32,
   "id": "1e0d59aa-cb23-4c15-bc98-bcb0d26268eb",
   "metadata": {},
   "outputs": [
    {
     "name": "stdin",
     "output_type": "stream",
     "text": [
      "Enter the string:  Shweta\n"
     ]
    },
    {
     "name": "stdout",
     "output_type": "stream",
     "text": [
      "{'S': 1, 'h': 1, 'w': 1, 'e': 1, 't': 1, 'a': 1}\n"
     ]
    }
   ],
   "source": [
    "## Frequency of each character in string\n",
    "str1 = input (\"Enter the string: \")\n",
    "d = dict()\n",
    "for c in str1:\n",
    "    if c in d:\n",
    "        d[c] = d[c] + 1\n",
    "    else:\n",
    "        d[c] = 1\n",
    "print(d)"
   ]
  },
  {
   "cell_type": "code",
   "execution_count": 33,
   "id": "5d938d7d-58a5-4bc4-9c3a-7686ec625866",
   "metadata": {},
   "outputs": [
    {
     "name": "stdin",
     "output_type": "stream",
     "text": [
      "Enter string kumari\n"
     ]
    },
    {
     "name": "stdout",
     "output_type": "stream",
     "text": [
      "kumari\n"
     ]
    }
   ],
   "source": [
    "## Remove all punctuation from a string.\n",
    "s=input(\"Enter string\")\n",
    "punc = '''!()-[]{};:'\"\\,<>./?@#$%^&*_~'''\n",
    "for i in s:\n",
    "    if i in punc:\n",
    "        s=s.replace(i,\" \")  \n",
    "print(s)"
   ]
  },
  {
   "cell_type": "code",
   "execution_count": 34,
   "id": "c3863b5b-b798-4d27-8aff-2e6cc1e631bb",
   "metadata": {},
   "outputs": [
    {
     "name": "stdin",
     "output_type": "stream",
     "text": [
      "Enter string shweta123\n"
     ]
    },
    {
     "name": "stdout",
     "output_type": "stream",
     "text": [
      "String does not contain only number\n"
     ]
    }
   ],
   "source": [
    "## Check if a string contains only digits.\n",
    "s=input(\"Enter string\")\n",
    "if s.isdigit():\n",
    "    print(\"String contains only number\")\n",
    "else:\n",
    "    print(\"String does not contain only number\")\n"
   ]
  },
  {
   "cell_type": "code",
   "execution_count": 35,
   "id": "18a2dab2-0acc-4250-a2f4-912e3feef473",
   "metadata": {},
   "outputs": [
    {
     "name": "stdin",
     "output_type": "stream",
     "text": [
      "Enter string Ae\n"
     ]
    },
    {
     "name": "stdout",
     "output_type": "stream",
     "text": [
      "String contains only alphabets\n",
      "String contains only alphabets\n"
     ]
    }
   ],
   "source": [
    "## Check if a string contains only alphabets.\n",
    "s=input(\"Enter string\")\n",
    "al='''aeiouAEIOU'''\n",
    "for i in s:\n",
    "    if i in al:\n",
    "        print(\"String contains only alphabets\")\n",
    "    else:\n",
    "        print(\"String does not contain only alphabets\")"
   ]
  },
  {
   "cell_type": "code",
   "execution_count": 36,
   "id": "49570afe-4030-4340-af41-5a2d3061cd32",
   "metadata": {},
   "outputs": [
    {
     "name": "stdout",
     "output_type": "stream",
     "text": [
      "['S', 'h', 'w', 'e', 't', 'a']\n"
     ]
    }
   ],
   "source": [
    "## Convert a string to a list of characters.\n",
    "a=\"Shweta\"\n",
    "b=list(a)\n",
    "print(b)"
   ]
  },
  {
   "cell_type": "code",
   "execution_count": 37,
   "id": "ebd56d0c-ac57-4181-ac5e-776221589c90",
   "metadata": {},
   "outputs": [
    {
     "name": "stdout",
     "output_type": "stream",
     "text": [
      "Strings are anagram\n"
     ]
    }
   ],
   "source": [
    "## Check if two strings are anagrams.\n",
    "a=\"Shweta\"\n",
    "b=\"HSEWta\"\n",
    "a=a.lower()\n",
    "b=b.lower()\n",
    "if len(a)==len(b):\n",
    "    sorted_a=sorted(a)\n",
    "    sorted_b=sorted(b)\n",
    "    if sorted(a)==sorted(b):\n",
    "        print(\"Strings are anagram\")\n",
    "    else:\n",
    "        print(\"Two string are not anagram\")"
   ]
  },
  {
   "cell_type": "code",
   "execution_count": 38,
   "id": "c1ce533d-fe70-4a47-a64a-765bd01bd79b",
   "metadata": {},
   "outputs": [
    {
     "name": "stdout",
     "output_type": "stream",
     "text": [
      "{'sixteenth', '3', 'three', 'one', 'two', '16'}\n",
      "6\n"
     ]
    }
   ],
   "source": [
    "## Unique word of a string\n",
    "my_str = 'one one two two three 3 sixteenth 16'\n",
    "unique_words = set(my_str.split())\n",
    "print(unique_words)\n",
    "length = len(unique_words)\n",
    "print(length) "
   ]
  },
  {
   "cell_type": "code",
   "execution_count": 39,
   "id": "190ec8ee-7fdd-4d25-8c94-df22f310b999",
   "metadata": {},
   "outputs": [
    {
     "name": "stdin",
     "output_type": "stream",
     "text": [
      "Enter the word: Shweta\n"
     ]
    },
    {
     "name": "stdout",
     "output_type": "stream",
     "text": [
      "The number of syllables in the word is: \n",
      "2\n"
     ]
    }
   ],
   "source": [
    "## Count the number of syllables in a string.\n",
    "word=input(\"Enter the word:\")\n",
    "syllable_count=0\n",
    "for w in word:\n",
    "      if(w=='a' or w=='e' or w=='i' or w=='o' or w=='u' or w=='A' or w=='E' or w=='I' or w=='O' or w=='U'):\n",
    "            syllable_count=syllable_count+1\n",
    "print(\"The number of syllables in the word is: \")\n",
    "print(syllable_count)\n"
   ]
  },
  {
   "cell_type": "code",
   "execution_count": 40,
   "id": "4ff4aa43-0dd6-478b-8559-a1ea7a1f9770",
   "metadata": {},
   "outputs": [
    {
     "name": "stdin",
     "output_type": "stream",
     "text": [
      "Enter string shweta\n"
     ]
    },
    {
     "name": "stdout",
     "output_type": "stream",
     "text": [
      "No Special character found\n"
     ]
    }
   ],
   "source": [
    "## Check if a string contains any special characters.\n",
    "special_characters = '''!@#$%^&*()-+?_=,<>/'''\n",
    "s=input(\"Enter string\")\n",
    "if any(c in special_characters for c in s):\n",
    "    print(\"Yes special character found\")\n",
    "else:\n",
    "    print(\"No Special character found\")"
   ]
  },
  {
   "cell_type": "code",
   "execution_count": 41,
   "id": "04c0035a-0a91-4ed5-b8c5-d80981af8743",
   "metadata": {},
   "outputs": [
    {
     "name": "stdout",
     "output_type": "stream",
     "text": [
      "goodbye my friend\n"
     ]
    }
   ],
   "source": [
    "\n",
    "## Remove the nth word from a string.\n",
    "my_string = \"hello my friend\"\n",
    "nth = 0\n",
    "new_word = 'goodbye'\n",
    "print(' '.join(word if i != nth else new_word\n",
    "                for i, word in enumerate(my_string.split(' '))))\n"
   ]
  },
  {
   "cell_type": "code",
   "execution_count": 42,
   "id": "c8306072-fe39-449a-91b4-97d869d3a5d1",
   "metadata": {},
   "outputs": [
    {
     "name": "stdout",
     "output_type": "stream",
     "text": [
      "[1, 2, 3, 4, 5, 6, 7, 8, 9, 10]\n"
     ]
    }
   ],
   "source": [
    "## Create a list with integers from 1 to 10.\n",
    "num=list(range(1,11))\n",
    "print(num)"
   ]
  },
  {
   "cell_type": "code",
   "execution_count": 43,
   "id": "c49d05c0-ddda-4d91-8a22-2f6c227d3408",
   "metadata": {},
   "outputs": [
    {
     "name": "stdout",
     "output_type": "stream",
     "text": [
      "8\n"
     ]
    }
   ],
   "source": [
    "## Find the length of a list without using the `len()` function.\n",
    "list=[2,3,4,5,6,7,8,9]\n",
    "count=0\n",
    "for i in list:\n",
    "    count=count+1\n",
    "print(count)"
   ]
  },
  {
   "cell_type": "code",
   "execution_count": 44,
   "id": "8e83200c-76f2-4656-aa53-5b7f112c818e",
   "metadata": {},
   "outputs": [
    {
     "name": "stdin",
     "output_type": "stream",
     "text": [
      "Please enter a fruit name:\n",
      " Banana\n"
     ]
    },
    {
     "name": "stdout",
     "output_type": "stream",
     "text": [
      "Updated Fruits List ['Apple', 'Banana', 'Banana']\n"
     ]
    }
   ],
   "source": [
    "## Append an element to the end of a list.\n",
    "fruit_list = [\"Apple\", \"Banana\"]\n",
    "new_fruit = input(\"Please enter a fruit name:\\n\")\n",
    "fruit_list.append(new_fruit)\n",
    "print(f'Updated Fruits List {fruit_list}') "
   ]
  },
  {
   "cell_type": "code",
   "execution_count": 45,
   "id": "20121107-63a0-4f72-8672-ed1af7462bd2",
   "metadata": {},
   "outputs": [
    {
     "name": "stdin",
     "output_type": "stream",
     "text": [
      "Enter a number 20\n"
     ]
    },
    {
     "name": "stdout",
     "output_type": "stream",
     "text": [
      "[20, 10, 20, 30, 40, 50]\n"
     ]
    }
   ],
   "source": [
    "## Insert an element at a specific index in a list.\n",
    "l1=[10,20,30,40,50]\n",
    "insertitem=int(input(\"Enter a number\"))\n",
    "l1.insert(0,insertitem)\n",
    "print(l1)"
   ]
  },
  {
   "cell_type": "code",
   "execution_count": 46,
   "id": "30cc9e8b-f271-488a-8250-b8da7c37ba25",
   "metadata": {},
   "outputs": [
    {
     "name": "stdout",
     "output_type": "stream",
     "text": [
      "['Java', 'Python', 'C++', 'Big Data', 'Machine Learning']\n"
     ]
    }
   ],
   "source": [
    "## Remove an element from a list by its value.\n",
    "lst=[\"Java\",\"Python\",\"Java Script\",\"C++\",\"Big Data\",\"Machine Learning\"]\n",
    "lst.remove(\"Java Script\")\n",
    "print(lst)"
   ]
  },
  {
   "cell_type": "code",
   "execution_count": 47,
   "id": "07970a8b-308a-4934-94e1-73614e7ebc40",
   "metadata": {},
   "outputs": [
    {
     "name": "stdout",
     "output_type": "stream",
     "text": [
      "List after calling del:\n",
      "[1, 4, 6, 6, 1]\n"
     ]
    }
   ],
   "source": [
    "## Remove an element from a list by its index.\n",
    "l = [1, 4, 6, 2, 6, 1]\n",
    "del l[3]\n",
    "print(\"List after calling del:\")\n",
    "print(l)"
   ]
  },
  {
   "cell_type": "code",
   "execution_count": 48,
   "id": "b8a97025-a9b1-4843-a567-b6c20af43c50",
   "metadata": {},
   "outputs": [
    {
     "name": "stdout",
     "output_type": "stream",
     "text": [
      "Element does not exist in list\n"
     ]
    }
   ],
   "source": [
    "## Check if an element exists in a list.\n",
    "lst=[10,11,12,13,14,15]\n",
    "if 90 in lst:\n",
    "    print(\"Element exist in list\",i)\n",
    "else:\n",
    "    print(\"Element does not exist in list\")"
   ]
  },
  {
   "cell_type": "code",
   "execution_count": 49,
   "id": "e0814c83-0351-4ec4-86e1-a56eb1d17d9c",
   "metadata": {},
   "outputs": [
    {
     "name": "stdout",
     "output_type": "stream",
     "text": [
      "9\n",
      "8\n",
      "7\n",
      "6\n",
      "5\n",
      "4\n",
      "3\n",
      "2\n",
      "1\n"
     ]
    }
   ],
   "source": [
    "## Reverse the order of elements in a list.\n",
    "lst=[1,2,3,4,5,6,7,8,9]\n",
    "for i in lst[::-1]:\n",
    "    print(i)"
   ]
  },
  {
   "cell_type": "code",
   "execution_count": 50,
   "id": "74179eb8-c993-44f0-9abf-a033501c7a73",
   "metadata": {},
   "outputs": [
    {
     "name": "stdout",
     "output_type": "stream",
     "text": [
      "[1, 3, 4, 5, 6, 7, 8, 9, 10, 20]\n"
     ]
    }
   ],
   "source": [
    "## Sort a list in ascending order.\n",
    "lst=[10,1,20,3,4,5,6,7,8,9]\n",
    "lst_number=lst.sort()\n",
    "print(lst)"
   ]
  },
  {
   "cell_type": "code",
   "execution_count": 51,
   "id": "5a1ad2e8-8355-413f-9cd3-99b35e1344ab",
   "metadata": {},
   "outputs": [
    {
     "name": "stdout",
     "output_type": "stream",
     "text": [
      "[0, 2, 4, 6, 8, 10, 12, 14, 16, 18]\n"
     ]
    }
   ],
   "source": [
    "## Create a list of even numbers from 1 to 20.\n",
    "even_numbers = [x for x in range(20) if x%2==0]\n",
    "print(even_numbers)"
   ]
  },
  {
   "cell_type": "code",
   "execution_count": 53,
   "id": "823d4b18-9208-4cce-b247-d7bf149d5185",
   "metadata": {},
   "outputs": [
    {
     "name": "stdout",
     "output_type": "stream",
     "text": [
      "[1, 3, 5, 7, 9, 11, 13, 15, 17, 19]\n"
     ]
    }
   ],
   "source": [
    "## Create a list of odd numbers from 1 to 20.\n",
    "Odd_numbers = [x for x in range(20) if x%2!=0]\n",
    "print(Odd_numbers)"
   ]
  },
  {
   "cell_type": "code",
   "execution_count": 54,
   "id": "e9690ffc-04d0-4bde-b368-f502aaf6e923",
   "metadata": {},
   "outputs": [
    {
     "name": "stdout",
     "output_type": "stream",
     "text": [
      "55\n"
     ]
    }
   ],
   "source": [
    "## Find the sum of all elements in a list.\n",
    "list=[1,2,3,4,5,6,7,8,9,10]\n",
    "sum=0\n",
    "for i in list:\n",
    "    sum=sum+i\n",
    "print(sum)"
   ]
  },
  {
   "cell_type": "code",
   "execution_count": 55,
   "id": "8900d779-df46-4b70-801b-72404d4cb6a4",
   "metadata": {},
   "outputs": [
    {
     "name": "stdout",
     "output_type": "stream",
     "text": [
      "Maximum value is 10\n"
     ]
    }
   ],
   "source": [
    "## Find the maximum value in a list.\n",
    "list=[1,2,3,4,5,6,7,8,9,10]\n",
    "print(\"Maximum value is\",max(list))"
   ]
  },
  {
   "cell_type": "code",
   "execution_count": 56,
   "id": "9aea90ba-0de0-40c6-a9a1-b2b481caac91",
   "metadata": {},
   "outputs": [
    {
     "name": "stdout",
     "output_type": "stream",
     "text": [
      "Minimum value is 1\n"
     ]
    }
   ],
   "source": [
    "## Find the minimum value in a list.\n",
    "list=[1,2,3,4,5,6,7,8,9,10]\n",
    "print(\"Minimum value is\",min(list))"
   ]
  },
  {
   "cell_type": "code",
   "execution_count": 57,
   "id": "4f1f81c4-4233-4c3b-b722-9d6c50c2514b",
   "metadata": {},
   "outputs": [
    {
     "name": "stdout",
     "output_type": "stream",
     "text": [
      "1\n",
      "4\n",
      "9\n",
      "16\n",
      "25\n",
      "36\n",
      "49\n",
      "64\n",
      "81\n"
     ]
    }
   ],
   "source": [
    "## Create a list of squares of numbers from 1 to 10.\n",
    "list=[1,2,3,4,5,6,7,8,9]\n",
    "for i in list:\n",
    "    sqar=i*i\n",
    "    print(sqar)"
   ]
  },
  {
   "cell_type": "code",
   "execution_count": 58,
   "id": "73ac22af-3be1-4fde-a951-6e3b04a956bd",
   "metadata": {},
   "outputs": [
    {
     "name": "stdout",
     "output_type": "stream",
     "text": [
      "[7, 5, 8, 5, 6, 7, 5, 6, 4, 4]\n"
     ]
    }
   ],
   "source": [
    "\n",
    "## Create a list of random numbers.\n",
    "import random\n",
    "rand_list=[]\n",
    "n=10\n",
    "for i in range(n):\n",
    "    rand_list.append(random.randint(3,9))\n",
    "print(rand_list)\n"
   ]
  },
  {
   "cell_type": "code",
   "execution_count": 60,
   "id": "cb68f596-0a2e-416d-8598-e4991ddfe752",
   "metadata": {},
   "outputs": [
    {
     "name": "stdout",
     "output_type": "stream",
     "text": [
      "{'a': None, 'b': None, 'c': None}\n"
     ]
    }
   ],
   "source": [
    "## Remove duplicates from a list.\n",
    "mylist = [\"a\", \"b\", \"a\", \"c\", \"c\"]\n",
    "mylist = dict.fromkeys(mylist)\n",
    "print(mylist)"
   ]
  },
  {
   "cell_type": "code",
   "execution_count": 61,
   "id": "3270cfbd-71df-481e-959e-2f097071b58b",
   "metadata": {},
   "outputs": [
    {
     "name": "stdout",
     "output_type": "stream",
     "text": [
      "[2, 3, 5]\n"
     ]
    }
   ],
   "source": [
    "## Common element from a list.\n",
    "list1=[1,2,3,4,5]\n",
    "list2=[5,6,7,8,2,3]\n",
    "result=[x for x in list1 if x in list2]\n",
    "print(result)"
   ]
  },
  {
   "cell_type": "code",
   "execution_count": 62,
   "id": "694dab64-ca95-429f-a7d0-ebaea40a3d52",
   "metadata": {},
   "outputs": [
    {
     "name": "stdout",
     "output_type": "stream",
     "text": [
      "[9, 2, 3]\n"
     ]
    }
   ],
   "source": [
    "## Find the difference between two lists.\n",
    "first_list = [4, 9, 2, 3]\n",
    "second_list = [4, 0, 1]\n",
    "difference_result = []\n",
    "for item in first_list:\n",
    "    if item not in second_list:\n",
    "        difference_result.append(item)\n",
    "print(difference_result)"
   ]
  },
  {
   "cell_type": "code",
   "execution_count": 63,
   "id": "ed17f97e-5b31-4582-afce-d10cca6da7b7",
   "metadata": {},
   "outputs": [
    {
     "name": "stdout",
     "output_type": "stream",
     "text": [
      "['a', 'b', 'c', 1, 2, 3]\n"
     ]
    }
   ],
   "source": [
    "## Find the difference between two lists.\n",
    "list1 = [\"a\", \"b\" , \"c\"]\n",
    "list2 = [1, 2, 3]\n",
    "\n",
    "list3 = list1 + list2\n",
    "print(list3)"
   ]
  },
  {
   "cell_type": "code",
   "execution_count": 64,
   "id": "9fe04896-4173-4046-8de4-9d8d5e5d2044",
   "metadata": {},
   "outputs": [
    {
     "name": "stdout",
     "output_type": "stream",
     "text": [
      "4\n",
      "6\n",
      "8\n",
      "10\n",
      "12\n",
      "14\n",
      "16\n",
      "18\n"
     ]
    }
   ],
   "source": [
    "## Multiply all elements in a list by 2.\n",
    "list=[2,3,4,5,6,7,8,9]\n",
    "for i in list:\n",
    "    print(i*2)"
   ]
  },
  {
   "cell_type": "code",
   "execution_count": 65,
   "id": "447383e8-7fca-481a-8bad-ed74f698bccc",
   "metadata": {},
   "outputs": [
    {
     "name": "stdout",
     "output_type": "stream",
     "text": [
      "All even number is: 2\n",
      "All even number is: 4\n",
      "All even number is: 6\n",
      "All even number is: 8\n"
     ]
    }
   ],
   "source": [
    "## Multiply all elements in a list by 2.\n",
    "list=[2,3,4,5,6,7,8,9]\n",
    "for i in list:\n",
    "    if i%2==0:\n",
    "        print(\"All even number is:\",i)"
   ]
  },
  {
   "cell_type": "code",
   "execution_count": 67,
   "id": "aee9dc79-8218-4181-960e-a400a29b0999",
   "metadata": {},
   "outputs": [
    {
     "name": "stdout",
     "output_type": "stream",
     "text": [
      "<map object at 0x7f4a80439b70>\n"
     ]
    }
   ],
   "source": [
    "## Convert a list of strings to a list of integers\n",
    "l1=[\"1\",\"2\",\"3\",\"4\",\"5\"]\n",
    "c=map(int,l1)\n",
    "print(c)"
   ]
  },
  {
   "cell_type": "code",
   "execution_count": 68,
   "id": "8fc7b6b7-9761-466c-9210-d33efaf8c797",
   "metadata": {},
   "outputs": [
    {
     "name": "stdin",
     "output_type": "stream",
     "text": [
      "Enter the number terms:  5\n"
     ]
    },
    {
     "name": "stdout",
     "output_type": "stream",
     "text": [
      "0 1 1 2 3 "
     ]
    }
   ],
   "source": [
    "## Create a list of the first 10 Fibonacci numbers.\n",
    "n=int(input(\"Enter the number terms: \"))\n",
    "f=0                                         \n",
    "sum=1                                        \n",
    "if n<=0:\n",
    "    print(\"The fibonacci series is: \",f)\n",
    "else:\n",
    "    print(f,sum,end=\" \")\n",
    "    for x in range(2,n):\n",
    "        next=f+sum                          \n",
    "        print(next,end=\" \")\n",
    "        f=sum\n",
    "        sum=next"
   ]
  },
  {
   "cell_type": "code",
   "execution_count": 70,
   "id": "53de9610-37ba-468e-8979-dc2fe023f8a8",
   "metadata": {},
   "outputs": [
    {
     "name": "stdin",
     "output_type": "stream",
     "text": [
      "Enter the number:  3\n"
     ]
    },
    {
     "name": "stdout",
     "output_type": "stream",
     "text": [
      "Is a prime number\n"
     ]
    }
   ],
   "source": [
    "## Create a list of prime numbers up to 50.\n",
    "num = int(input(\"Enter the number: \"))\n",
    "for i in range(2,num):\n",
    "    if num%i==0:\n",
    "        print(\"Not a prime number\",i)\n",
    "    else:\n",
    "        print(\"Is a prime number\")"
   ]
  },
  {
   "cell_type": "code",
   "execution_count": 75,
   "id": "7faf0107-a054-4314-80aa-fc68fa0765aa",
   "metadata": {},
   "outputs": [
    {
     "name": "stdout",
     "output_type": "stream",
     "text": [
      "Second highest number is :  45\n"
     ]
    }
   ],
   "source": [
    "\n",
    "## Find the second largest number in a list.\n",
    "list1 = [10, 20, 4, 45, 99]\n",
    " \n",
    "mx = max(list1[0], list1[1])\n",
    "secondmax = min(list1[0], list1[1])\n",
    "n = len(list1)\n",
    "for i in range(2,n):\n",
    "    if list1[i] > mx:\n",
    "        secondmax = mx\n",
    "        mx = list1[i]\n",
    "    elif list1[i] > secondmax and \\\n",
    "        mx != list1[i]:\n",
    "        secondmax = list1[i]\n",
    "    elif mx == secondmax and \\\n",
    "        secondmax != list1[i]:\n",
    "          secondmax = list1[i]\n",
    "print(\"Second highest number is : \",secondmax)"
   ]
  },
  {
   "cell_type": "code",
   "execution_count": 76,
   "id": "7462914b-265e-4126-b77f-7490372c3776",
   "metadata": {},
   "outputs": [
    {
     "name": "stdin",
     "output_type": "stream",
     "text": [
      "Enter a number 5\n"
     ]
    },
    {
     "name": "stdout",
     "output_type": "stream",
     "text": [
      "120\n"
     ]
    }
   ],
   "source": [
    "## Create a list of the first 10 factorial numbers.\n",
    "num=int(input(\"Enter a number\"))\n",
    "fact=1\n",
    "for i in range(1,6):\n",
    "    fact=fact*i\n",
    "print(fact)"
   ]
  },
  {
   "cell_type": "code",
   "execution_count": 77,
   "id": "eac9a3b0-b121-4743-a9d9-272390e9fb65",
   "metadata": {},
   "outputs": [
    {
     "name": "stdout",
     "output_type": "stream",
     "text": [
      "None\n"
     ]
    }
   ],
   "source": [
    "## Remove all elements from a list.\n",
    "lst=[1,2,3,4,5,6]\n",
    "c=lst.clear()\n",
    "print(c)"
   ]
  },
  {
   "cell_type": "code",
   "execution_count": 78,
   "id": "264b92b3-7325-41c8-8440-5e0a5e98d0c7",
   "metadata": {},
   "outputs": [
    {
     "name": "stdout",
     "output_type": "stream",
     "text": [
      "[0, 1, 2, 3, 9, 0]\n"
     ]
    }
   ],
   "source": [
    "## Replace negative numbers in a list with 0.\n",
    "list1 = [-10,1,2,3,9,-1]\n",
    "list2 = [0 if i < 0 else i for i in list1]\n",
    "print(list2)"
   ]
  },
  {
   "cell_type": "code",
   "execution_count": 79,
   "id": "b7f45ee5-1780-4a27-9f65-c2552240539c",
   "metadata": {},
   "outputs": [
    {
     "name": "stdout",
     "output_type": "stream",
     "text": [
      "['I', 'am', 'software', 'Developer', 'working', 'in', 'HCL', 'technology', 'for', 'last', 'two', 'years']\n"
     ]
    }
   ],
   "source": [
    "## Convert a string into a list of words.\n",
    "s=\"I am software Developer working in HCL technology for last two years\"\n",
    "print(s.split())"
   ]
  },
  {
   "cell_type": "code",
   "execution_count": 80,
   "id": "fc66a401-ad80-441c-abc7-988a3634bfaf",
   "metadata": {},
   "outputs": [
    {
     "name": "stdout",
     "output_type": "stream",
     "text": [
      "My Name is Kumari Shweta\n"
     ]
    }
   ],
   "source": [
    "## Convert a list of words into a string.\n",
    "s=[\"My\",\"Name\",\"is\",\"Kumari\",\"Shweta\"]\n",
    "print(\" \".join(s))"
   ]
  },
  {
   "cell_type": "code",
   "execution_count": 81,
   "id": "0552bb35-e5b2-4e49-a2d6-afd01e1c1b59",
   "metadata": {},
   "outputs": [
    {
     "name": "stdout",
     "output_type": "stream",
     "text": [
      "Enter the Total Number of Terms: \n"
     ]
    },
    {
     "name": "stdin",
     "output_type": "stream",
     "text": [
      " 5\n"
     ]
    },
    {
     "name": "stdout",
     "output_type": "stream",
     "text": [
      "2 raised to the power  0  is  1\n",
      "2 raised to the power  1  is  2\n",
      "2 raised to the power  2  is  4\n",
      "2 raised to the power  3  is  8\n",
      "2 raised to the power  4  is  16\n"
     ]
    }
   ],
   "source": [
    "## Create a list of the first `n` powers of 2.\n",
    "print(\"Enter the Total Number of Terms: \")\n",
    "tot = int(input())\n",
    "for i in range(tot):\n",
    "    print(\"2 raised to the power \", i, \" is \", 2 ** i)"
   ]
  },
  {
   "cell_type": "code",
   "execution_count": 82,
   "id": "902bfeb6-e2fc-4553-8f27-7821e5590c79",
   "metadata": {},
   "outputs": [
    {
     "name": "stdout",
     "output_type": "stream",
     "text": [
      "banana\n"
     ]
    }
   ],
   "source": [
    "## Find the longest string in a list of strings.\n",
    "x = ['apple', 'banana', 'fig', 'mango']\n",
    "longest = max(x, key=len)\n",
    "print(longest)"
   ]
  },
  {
   "cell_type": "code",
   "execution_count": 83,
   "id": "4a60f76e-1f4d-4cb7-81e5-47a60b688ca1",
   "metadata": {},
   "outputs": [
    {
     "name": "stdout",
     "output_type": "stream",
     "text": [
      "fig\n"
     ]
    }
   ],
   "source": [
    "## Find the shortest string in a list of strings.\n",
    "x = ['apple', 'banana', 'fig', 'mango']\n",
    "longest = min(x, key=len)\n",
    "print(longest)"
   ]
  },
  {
   "cell_type": "code",
   "execution_count": 84,
   "id": "dea140b5-65d3-4a6f-b2be-d3f4b521cbf8",
   "metadata": {},
   "outputs": [
    {
     "name": "stdout",
     "output_type": "stream",
     "text": [
      "[1, 3, 6, 10, 15, 21, 28, 36, 45, 55]\n"
     ]
    }
   ],
   "source": [
    "## Create a list of the first `n` triangular numbers.\n",
    "limit = 10\n",
    "triangle_nums = []\n",
    "num = 0\n",
    "for i in range(1, limit + 1):\n",
    "    num += i\n",
    "    triangle_nums.append(num)\n",
    "print(triangle_nums)"
   ]
  },
  {
   "cell_type": "code",
   "execution_count": 85,
   "id": "3a8da361-34ab-4b2f-a604-30d6784229cb",
   "metadata": {},
   "outputs": [
    {
     "name": "stdout",
     "output_type": "stream",
     "text": [
      "a is: 20\n",
      "b is: 10\n"
     ]
    }
   ],
   "source": [
    "## Swap two elements in a list by their indices.\n",
    "a=10\n",
    "b=20\n",
    "print(\"a is:\",b)\n",
    "print(\"b is:\",a)"
   ]
  },
  {
   "cell_type": "code",
   "execution_count": 86,
   "id": "9fc97959-ea33-46cf-b368-6b977445577e",
   "metadata": {},
   "outputs": [
    {
     "name": "stdout",
     "output_type": "stream",
     "text": [
      "(1, 2, 3, 4, 5)\n"
     ]
    }
   ],
   "source": [
    "## Create a tuple with integers from 1 to 5.\n",
    "x=tuple(range(1,6))\n",
    "print(x)"
   ]
  },
  {
   "cell_type": "code",
   "execution_count": 87,
   "id": "f3a79a2f-df84-4729-938d-9b3c5e46a756",
   "metadata": {},
   "outputs": [
    {
     "name": "stdout",
     "output_type": "stream",
     "text": [
      "3\n"
     ]
    }
   ],
   "source": [
    "## Print 3rd element of a tuplex=(1,2,3,4,5)\n",
    "print(x[2])"
   ]
  },
  {
   "cell_type": "code",
   "execution_count": 88,
   "id": "296a58c0-b1e6-423e-b9dd-4921e082d743",
   "metadata": {},
   "outputs": [
    {
     "name": "stdout",
     "output_type": "stream",
     "text": [
      "9\n"
     ]
    }
   ],
   "source": [
    "## Find the length of a tuple without using the `len()` function.\n",
    "x=(1,2,3,4,5,6,7,8,9)\n",
    "count=0\n",
    "for i in x:\n",
    "    count+=1\n",
    "print(count)"
   ]
  },
  {
   "cell_type": "code",
   "execution_count": 89,
   "id": "153c85f7-2000-4c34-82cd-349b46c22f43",
   "metadata": {},
   "outputs": [
    {
     "name": "stdout",
     "output_type": "stream",
     "text": [
      "Count of number 2 is 5\n",
      "Count of number 5 is: 3\n"
     ]
    }
   ],
   "source": [
    "## Count the occurrences of an element in a tuple.\n",
    "x=(1,2,3,4,5,6,7,8,9,2,2,2,2,5,5)\n",
    "print(\"Count of number 2 is\",x.count(2))\n",
    "print(\"Count of number 5 is:\",x.count(5))"
   ]
  },
  {
   "cell_type": "code",
   "execution_count": 90,
   "id": "fd51f879-2a62-4904-a82c-83b060051981",
   "metadata": {},
   "outputs": [
    {
     "name": "stdout",
     "output_type": "stream",
     "text": [
      "1\n"
     ]
    }
   ],
   "source": [
    "## Find the index of the first occurrence of an element in a tuple.\n",
    "x=(1,2,3,4,5)\n",
    "print(x[0])"
   ]
  },
  {
   "cell_type": "code",
   "execution_count": 91,
   "id": "9b604b5f-7a55-4a5e-82d5-38e2f3b9089d",
   "metadata": {},
   "outputs": [
    {
     "name": "stdout",
     "output_type": "stream",
     "text": [
      "Element does not exist in a tuple\n"
     ]
    }
   ],
   "source": [
    "## Check if an element exists in a tuple.\n",
    "x=(1,2,3,4,5,6,7,8)\n",
    "if 9 in x:\n",
    "    print(\"Element exists in a tuple\")\n",
    "else:\n",
    "    print(\"Element does not exist in a tuple\")"
   ]
  },
  {
   "cell_type": "code",
   "execution_count": 93,
   "id": "d02f11f3-0311-42eb-ac5d-f008adfafeea",
   "metadata": {},
   "outputs": [
    {
     "name": "stdout",
     "output_type": "stream",
     "text": [
      "Python\n",
      "2\n",
      "Java\n"
     ]
    }
   ],
   "source": [
    "## Unpack the elements of a tuple into variables.\n",
    "x,y,z=(\"Python\",2,\"Java\")\n",
    "print(x)\n",
    "print(y)\n",
    "print(z)"
   ]
  },
  {
   "cell_type": "code",
   "execution_count": 94,
   "id": "6c679103-ce7f-4707-a8f5-ee4d91cac215",
   "metadata": {},
   "outputs": [
    {
     "name": "stdout",
     "output_type": "stream",
     "text": [
      "Odd number is: 1\n",
      "Even number is: 2\n",
      "Odd number is: 3\n",
      "Even number is: 4\n",
      "Odd number is: 5\n",
      "Even number is: 6\n",
      "Odd number is: 7\n",
      "Even number is: 8\n",
      "Odd number is: 9\n",
      "Even number is: 10\n",
      "Odd number is: 11\n",
      "Even number is: 12\n",
      "Odd number is: 13\n",
      "Even number is: 14\n",
      "Odd number is: 15\n"
     ]
    }
   ],
   "source": [
    "## Create a tuple of even numbers from 1 to 10.\n",
    "x=(1,2,3,4,5,6,7,8,9,10,11,12,13,14,15)\n",
    "for i in x:\n",
    "    if i%2==0:\n",
    "        print(\"Even number is:\",i)\n",
    "    else:\n",
    "        print(\"Odd number is:\",i)"
   ]
  },
  {
   "cell_type": "code",
   "execution_count": 95,
   "id": "cd8b7d2f-f222-4d7d-bb88-c81112f74b04",
   "metadata": {},
   "outputs": [
    {
     "name": "stdout",
     "output_type": "stream",
     "text": [
      "(1, 2, 3, 4, 5, 6, 7, 8, 9, 10)\n"
     ]
    }
   ],
   "source": [
    "## Concatenate two tuples.\n",
    "a=(1,2,3,4,5)\n",
    "b=(6,7,8,9,10)\n",
    "c=a+b\n",
    "print(c)"
   ]
  },
  {
   "cell_type": "code",
   "execution_count": 96,
   "id": "abc02317-cafc-4437-bc96-f9e372b8ccaf",
   "metadata": {},
   "outputs": [
    {
     "name": "stdout",
     "output_type": "stream",
     "text": [
      "(1, 2, 3, 1, 2, 3, 1, 2, 3)\n"
     ]
    }
   ],
   "source": [
    "## Repeat a tuple three times.\n",
    "x=(1,2,3)\n",
    "c=x*3\n",
    "print(c)"
   ]
  },
  {
   "cell_type": "code",
   "execution_count": 97,
   "id": "fe959731-7f14-465c-8111-34bb464cb6c1",
   "metadata": {},
   "outputs": [
    {
     "name": "stdout",
     "output_type": "stream",
     "text": [
      "tuple is not empty\n"
     ]
    }
   ],
   "source": [
    "## Check if a tuple is empty.\n",
    "x=(10,20,30,40,50)\n",
    "if len(x)==0:\n",
    "    print(\"tuple is empty\")\n",
    "else:\n",
    "    print(\"tuple is not empty\")"
   ]
  },
  {
   "cell_type": "code",
   "execution_count": 98,
   "id": "307c2779-2377-4c4f-a614-7763b91c306b",
   "metadata": {},
   "outputs": [
    {
     "name": "stdout",
     "output_type": "stream",
     "text": [
      "Dehradun\n"
     ]
    }
   ],
   "source": [
    "## Create a nested tuple.\n",
    "myTuple = (\"Dehradun\", 4, 29, 13)\n",
    "print(myTuple[0])\n"
   ]
  },
  {
   "cell_type": "code",
   "execution_count": 99,
   "id": "61983ddf-da20-4bf8-9342-db16c80a372e",
   "metadata": {},
   "outputs": [
    {
     "name": "stdout",
     "output_type": "stream",
     "text": [
      "(10,)\n"
     ]
    }
   ],
   "source": [
    "## Create a tuple with a single element.\n",
    "single_tuple = (10,)\n",
    "print(single_tuple)"
   ]
  },
  {
   "cell_type": "code",
   "execution_count": 100,
   "id": "c42bef5d-83b1-4ead-8a02-731d041eb4db",
   "metadata": {},
   "outputs": [
    {
     "name": "stdout",
     "output_type": "stream",
     "text": [
      "common element is: 4\n",
      "common element is: 5\n"
     ]
    }
   ],
   "source": [
    "\n",
    "## Common between two tuples.\n",
    "a=(1,2,3,4,5)\n",
    "b=(4,5,6,7,8)\n",
    "for i in a:\n",
    "    if i in b:\n",
    "        print(\"common element is:\",i)"
   ]
  },
  {
   "cell_type": "code",
   "execution_count": 101,
   "id": "db30fdfe-e72d-41d2-8afe-7775982eddbc",
   "metadata": {},
   "outputs": [
    {
     "name": "stdout",
     "output_type": "stream",
     "text": [
      "(2, 4, 6, 8, 10)\n"
     ]
    }
   ],
   "source": [
    "\n",
    "## Slice a tuple.\n",
    "a=(1,2,3,4,5,6,7,8,9,10)\n",
    "print(a[1:10:2])\n"
   ]
  },
  {
   "cell_type": "code",
   "execution_count": 102,
   "id": "c9445a65-c5f2-424d-a142-fe029673be72",
   "metadata": {},
   "outputs": [
    {
     "name": "stdout",
     "output_type": "stream",
     "text": [
      "10\n"
     ]
    }
   ],
   "source": [
    "## Find the maximum value in a tuple.\n",
    "a=(1,2,3,4,5,6,7,8,9,10)\n",
    "print(max(a))"
   ]
  },
  {
   "cell_type": "code",
   "execution_count": 103,
   "id": "4a9b607b-845b-42e5-8f4e-abf7c52142d1",
   "metadata": {},
   "outputs": [
    {
     "name": "stdout",
     "output_type": "stream",
     "text": [
      "1\n"
     ]
    }
   ],
   "source": [
    "## Find the minimum value in a tuple.\n",
    "a=(1,2,3,4,5,6,7,8,9,10)\n",
    "print(min(a))"
   ]
  },
  {
   "cell_type": "code",
   "execution_count": 104,
   "id": "27b23a29-83ea-4f9f-ac6c-94d4b210b4cf",
   "metadata": {},
   "outputs": [
    {
     "name": "stdout",
     "output_type": "stream",
     "text": [
      "<class 'str'>\n",
      "('K', 'u', 'm', 'a', 'r', 'i')\n"
     ]
    }
   ],
   "source": [
    "## Convert a string to a tuple of characters.\n",
    "s=\"Kumari\"\n",
    "print(type(s))\n",
    "c=tuple(s)\n",
    "print(c)"
   ]
  },
  {
   "cell_type": "code",
   "execution_count": 105,
   "id": "2240430d-d846-440e-9b8d-1b247f6eb8d7",
   "metadata": {},
   "outputs": [
    {
     "name": "stdout",
     "output_type": "stream",
     "text": [
      "Kumari\n"
     ]
    }
   ],
   "source": [
    "## Convert a tuple of characters to a string.\n",
    "s=(\"K\",\"u\",\"m\",\"a\",\"r\",\"i\")\n",
    "print(\"\".join(s))"
   ]
  },
  {
   "cell_type": "code",
   "execution_count": 106,
   "id": "87e665f2-3c6f-442b-88b4-e27a0d9747b7",
   "metadata": {},
   "outputs": [
    {
     "name": "stdout",
     "output_type": "stream",
     "text": [
      "('tuple', False, 3.2, 1)\n"
     ]
    }
   ],
   "source": [
    "## Create a tuple from multiple data types.\n",
    "tuplex = (\"tuple\", False, 3.2, 1)\n",
    "print(tuplex)"
   ]
  },
  {
   "cell_type": "code",
   "execution_count": 107,
   "id": "04c8e78c-f307-46c3-99bb-26428ae62390",
   "metadata": {},
   "outputs": [
    {
     "name": "stdout",
     "output_type": "stream",
     "text": [
      "two tuples are not identical\n"
     ]
    }
   ],
   "source": [
    "## Check if two tuples are identical.\n",
    "a=(1,2,3)\n",
    "b=(6,4,3)\n",
    "if a == b:\n",
    "    print(\"two tuples are identical\")\n",
    "else:\n",
    "    print(\"two tuples are not identical\")"
   ]
  },
  {
   "cell_type": "code",
   "execution_count": 108,
   "id": "46ef3efb-961f-4428-af39-d3eb82065a46",
   "metadata": {},
   "outputs": [
    {
     "name": "stdout",
     "output_type": "stream",
     "text": [
      "Sorted Tuple : (1, 2, 3, 5, 6, 7, 24)\n"
     ]
    }
   ],
   "source": [
    "## Sort the elements of a tuple.\n",
    "tuple_ = (5, 2, 24, 3, 1, 6, 7)  \n",
    "sorted_ = tuple(sorted(tuple_))  \n",
    "print('Sorted Tuple :', sorted_)"
   ]
  },
  {
   "cell_type": "code",
   "execution_count": 109,
   "id": "09070482-6773-4cc6-b771-4978b9663a74",
   "metadata": {},
   "outputs": [
    {
     "name": "stdout",
     "output_type": "stream",
     "text": [
      "The square of integers from 1 to 50 is: (1, 4, 9, 16, 25)\n"
     ]
    }
   ],
   "source": [
    "## Create a tuple of squares of numbers from 1 to 5.\n",
    "tup = ()\n",
    "for i in range(1,6):\n",
    "    tup = tup + (i**2,)\n",
    "print(\"The square of integers from 1 to 50 is:\" ,tup)"
   ]
  },
  {
   "cell_type": "code",
   "execution_count": 110,
   "id": "8d7f9adc-8cdb-414a-b4cc-c70b26cdf491",
   "metadata": {},
   "outputs": [
    {
     "name": "stdout",
     "output_type": "stream",
     "text": [
      "The generated random tuple item =  20\n"
     ]
    }
   ],
   "source": [
    "## Create a tuple of random numbers.\n",
    "import random\n",
    "inputTuple = (30, 10, \"TutorialsPoint\", 20, \"python\", \"code\")\n",
    "randomItem = random.choice(inputTuple)\n",
    "print(\"The generated random tuple item = \", randomItem)"
   ]
  },
  {
   "cell_type": "code",
   "execution_count": 111,
   "id": "00316609-4418-4feb-b0b8-da3fdd4a9d38",
   "metadata": {},
   "outputs": [
    {
     "name": "stdout",
     "output_type": "stream",
     "text": [
      "Sorted Tuple : (1, 2, 3, 5, 7, 8, 9)\n"
     ]
    }
   ],
   "source": [
    "## Check if a tuple is sorted.\n",
    "aTuple = (2, 5, 8, 1, 9, 3, 7)\n",
    "result = sorted(aTuple)\n",
    "result = tuple(result)\n",
    "print('Sorted Tuple :', result)"
   ]
  },
  {
   "cell_type": "code",
   "execution_count": 112,
   "id": "99b72b15-ff76-403a-8628-8def172c8d31",
   "metadata": {},
   "outputs": [
    {
     "name": "stdin",
     "output_type": "stream",
     "text": [
      "Enter Position to Left Rotate List Items =  3\n"
     ]
    },
    {
     "name": "stdout",
     "output_type": "stream",
     "text": [
      "Original List Items Before Left Rotating\n",
      "[11, 22, 33, 44, 55, 66, 77, 88]\n",
      "Final List Items After Left Rotating\n",
      "[44, 55, 66, 77, 88, 11, 22, 33]\n"
     ]
    }
   ],
   "source": [
    "\n",
    "## Rotate tuple by left to right\n",
    "ltList = [11, 22, 33, 44, 55, 66, 77, 88]\n",
    "\n",
    "ltRotate = int(input(\"Enter Position to Left Rotate List Items = \"))\n",
    "\n",
    "print('Original List Items Before Left Rotating')\n",
    "print(ltList)\n",
    "\n",
    "for i in range(ltRotate):\n",
    "    firstValue = ltList[0]\n",
    "    for j in range(len(ltList) - 1):\n",
    "        ltList[j] = ltList[j + 1]\n",
    "    ltList[len(ltList) - 1] = firstValue\n",
    "\n",
    "print('Final List Items After Left Rotating')\n",
    "print(ltList)\n"
   ]
  },
  {
   "cell_type": "code",
   "execution_count": 113,
   "id": "7e338977-7664-4f83-a5f8-f9c837ba51f6",
   "metadata": {},
   "outputs": [
    {
     "name": "stdout",
     "output_type": "stream",
     "text": [
      "9 terms of Fibonacci series are: (0, 1, 1, 2, 3, 5, 8, 13, 21)\n"
     ]
    }
   ],
   "source": [
    "\n",
    "## Create a tuple of the first 5 Fibonacci numbers.\n",
    "lst = [0,1]\n",
    "a = 0\n",
    "b = 1\n",
    "c = 0\n",
    "for i in range(7):\n",
    "    c = a + b\n",
    "    a = b\n",
    "    b = c\n",
    "    lst.append(c)\n",
    "tup = tuple(lst)\n",
    "print(\"9 terms of Fibonacci series are:\", tup)"
   ]
  },
  {
   "cell_type": "code",
   "execution_count": 114,
   "id": "967601cc-3121-45e4-a0ee-7554dd54f120",
   "metadata": {},
   "outputs": [
    {
     "name": "stdin",
     "output_type": "stream",
     "text": [
      "Enter space-separated words:  shweta\n"
     ]
    },
    {
     "name": "stdout",
     "output_type": "stream",
     "text": [
      "('shweta',)\n"
     ]
    }
   ],
   "source": [
    "## Create a tuple from user input.\n",
    "my_tuple = tuple(input('Enter space-separated words: ').split())\n",
    "print(my_tuple)"
   ]
  },
  {
   "cell_type": "code",
   "execution_count": 115,
   "id": "94d239e0-6c75-4d9e-af97-1c0b815c86ca",
   "metadata": {},
   "outputs": [
    {
     "name": "stdout",
     "output_type": "stream",
     "text": [
      "a is: (20,)\n",
      "b is: (10,)\n"
     ]
    }
   ],
   "source": [
    "## Swap two elements in a tuple.\n",
    "a=(10,)\n",
    "b=(20,)\n",
    "print(\"a is:\",b)\n",
    "print(\"b is:\",a)"
   ]
  },
  {
   "cell_type": "code",
   "execution_count": 116,
   "id": "22a7f554-2076-429c-bd06-8f2f0de4b1b1",
   "metadata": {},
   "outputs": [
    {
     "name": "stdout",
     "output_type": "stream",
     "text": [
      "(5, 4, 3, 2, 1)\n"
     ]
    }
   ],
   "source": [
    "## Reverse the elements of a tuple.\n",
    "a=(1,2,3,4,5)\n",
    "print(a[::-1])"
   ]
  },
  {
   "cell_type": "code",
   "execution_count": 117,
   "id": "39802279-8798-41b4-ab7b-8194f723853f",
   "metadata": {},
   "outputs": [
    {
     "name": "stdin",
     "output_type": "stream",
     "text": [
      "Enter a number 5\n"
     ]
    },
    {
     "name": "stdout",
     "output_type": "stream",
     "text": [
      "25\n"
     ]
    }
   ],
   "source": [
    "## n power of 2\n",
    "n=int(input(\"Enter a number\"))\n",
    "power=n**2\n",
    "print(power)"
   ]
  },
  {
   "cell_type": "code",
   "execution_count": 118,
   "id": "19a81a22-2789-45b6-8e24-6a2889b3a115",
   "metadata": {},
   "outputs": [
    {
     "name": "stdout",
     "output_type": "stream",
     "text": [
      "Longest String is :  watermelon\n"
     ]
    }
   ],
   "source": [
    "## Longest string in a tuple\n",
    "list1 = ('apple', 'banana', 'watermelon', 'orange')\n",
    "max_len = -1\n",
    "for ele in list1: \n",
    "    if(len(ele) > max_len): \n",
    "        max_len = len(ele) \n",
    "        res = ele       \n",
    "print(\"Longest String is : \", res) "
   ]
  },
  {
   "cell_type": "code",
   "execution_count": 119,
   "id": "a36f5546-c401-4337-aa99-6f1643f33f44",
   "metadata": {},
   "outputs": [
    {
     "name": "stdout",
     "output_type": "stream",
     "text": [
      "{1, 2, 3, 4, 5}\n"
     ]
    }
   ],
   "source": [
    "\n",
    "## Create a set with integers from 1 to 5.\n",
    "print(set(range(1,6)))"
   ]
  },
  {
   "cell_type": "code",
   "execution_count": 120,
   "id": "71c55740-b114-4929-a6e4-be111bbf6bea",
   "metadata": {},
   "outputs": [
    {
     "name": "stdout",
     "output_type": "stream",
     "text": [
      "{'orange', 'apple', 'banana', 'cherry'}\n"
     ]
    }
   ],
   "source": [
    "## Add an element to a set.\n",
    "thisset = {\"apple\", \"banana\", \"cherry\"}\n",
    "thisset.add(\"orange\")\n",
    "print(thisset)"
   ]
  },
  {
   "cell_type": "code",
   "execution_count": 121,
   "id": "67a8fc5b-1f15-4220-9f48-f9213552193c",
   "metadata": {},
   "outputs": [
    {
     "name": "stdout",
     "output_type": "stream",
     "text": [
      "{'banana', 'cherry'}\n"
     ]
    }
   ],
   "source": [
    "## Remove an element from a set.\n",
    "thisset = {\"apple\", \"banana\", \"cherry\"}\n",
    "thisset.remove(\"apple\")\n",
    "print(thisset)"
   ]
  },
  {
   "cell_type": "code",
   "execution_count": 122,
   "id": "d16592b9-31b2-4cab-bfcc-880d494b6ebd",
   "metadata": {},
   "outputs": [
    {
     "name": "stdout",
     "output_type": "stream",
     "text": [
      "It's not exist in set\n"
     ]
    }
   ],
   "source": [
    "\n",
    "## Check if an element exists in a set.\n",
    "thisset = {\"apple\", \"banana\", \"cherry\"}\n",
    "if \"Mango\" in thisset:\n",
    "    print(\"Yes it's exist in set\")\n",
    "else:\n",
    "    print(\"It's not exist in set\")"
   ]
  },
  {
   "cell_type": "code",
   "execution_count": 123,
   "id": "c35fe95f-30de-482c-978a-08e14d7455d1",
   "metadata": {},
   "outputs": [
    {
     "name": "stdout",
     "output_type": "stream",
     "text": [
      "5\n"
     ]
    }
   ],
   "source": [
    "## Find the length of a set without using the `len()` function.\n",
    "s={1,2,3,4,5}\n",
    "count=0\n",
    "for i in s:\n",
    "    count=count+1\n",
    "print(count)"
   ]
  },
  {
   "cell_type": "code",
   "execution_count": 124,
   "id": "281452e5-3962-49aa-95d5-19999524c9db",
   "metadata": {},
   "outputs": [
    {
     "name": "stdout",
     "output_type": "stream",
     "text": [
      "None\n"
     ]
    }
   ],
   "source": [
    "## Clear all elements from a set.\n",
    "s={1,2,3,4,5}\n",
    "c=s.clear()\n",
    "print(c)"
   ]
  },
  {
   "cell_type": "code",
   "execution_count": 125,
   "id": "4eb483d8-2533-43d9-8846-68ada2ed3dd8",
   "metadata": {},
   "outputs": [
    {
     "name": "stdout",
     "output_type": "stream",
     "text": [
      "Odd number is: 1\n",
      "Even Number: 2\n",
      "Odd number is: 3\n",
      "Even Number: 4\n",
      "Odd number is: 5\n",
      "Even Number: 6\n",
      "Odd number is: 7\n",
      "Even Number: 8\n",
      "Odd number is: 9\n",
      "Even Number: 10\n"
     ]
    }
   ],
   "source": [
    "## Create a set of even numbers from 1 to 10.\n",
    "s={1,2,3,4,5,6,7,8,9,10}\n",
    "for i in s:\n",
    "    if i%2==0:\n",
    "        print(\"Even Number:\",i)\n",
    "    else:\n",
    "        print(\"Odd number is:\",i)"
   ]
  },
  {
   "cell_type": "code",
   "execution_count": 126,
   "id": "562b767e-79d4-4778-bd32-6d0749419ba7",
   "metadata": {},
   "outputs": [
    {
     "name": "stdout",
     "output_type": "stream",
     "text": [
      "{'google', 'apple', 'banana', 'cherry', 'microsoft'}\n"
     ]
    }
   ],
   "source": [
    "## Find the union of two sets.\n",
    "x = {\"apple\", \"banana\", \"cherry\"}\n",
    "y = {\"google\", \"microsoft\", \"apple\"}\n",
    "z = x.union(y)\n",
    "print(z)"
   ]
  },
  {
   "cell_type": "code",
   "execution_count": 127,
   "id": "01a4e8d7-1007-4236-88ef-4534e538c127",
   "metadata": {},
   "outputs": [
    {
     "name": "stdout",
     "output_type": "stream",
     "text": [
      "{'apple'}\n"
     ]
    }
   ],
   "source": [
    "## Find the intersection of two sets.\n",
    "x = {\"apple\", \"banana\", \"cherry\"}\n",
    "y = {\"google\", \"microsoft\", \"apple\"}\n",
    "z = x.intersection(y)\n",
    "print(z)"
   ]
  },
  {
   "cell_type": "code",
   "execution_count": 128,
   "id": "7dec66a3-19db-4709-b0d7-5028367d3326",
   "metadata": {},
   "outputs": [
    {
     "name": "stdout",
     "output_type": "stream",
     "text": [
      "{'banana', 'cherry'}\n"
     ]
    }
   ],
   "source": [
    "## Find the difference between two sets.\n",
    "x = {\"apple\", \"banana\", \"cherry\"}\n",
    "y = {\"google\", \"microsoft\", \"apple\"}\n",
    "z = x.difference(y)\n",
    "print(z)"
   ]
  },
  {
   "cell_type": "code",
   "execution_count": 129,
   "id": "a66569a8-901c-4ffd-99eb-83cdcd8e23d8",
   "metadata": {},
   "outputs": [
    {
     "name": "stdout",
     "output_type": "stream",
     "text": [
      "False\n"
     ]
    }
   ],
   "source": [
    "## Check if a set is a subset of another set.\n",
    "x = {\"apple\", \"banana\", \"cherry\"}\n",
    "y = {\"google\", \"microsoft\", \"apple\"}\n",
    "z = x.issubset(y)\n",
    "print(z)"
   ]
  },
  {
   "cell_type": "code",
   "execution_count": 130,
   "id": "84885b72-974f-46db-a765-66166ccd3093",
   "metadata": {},
   "outputs": [
    {
     "name": "stdout",
     "output_type": "stream",
     "text": [
      "False\n"
     ]
    }
   ],
   "source": [
    "## Check if a set is a superset of another set.\n",
    "x = {\"apple\", \"banana\", \"cherry\"}\n",
    "y = {\"google\", \"microsoft\", \"apple\"}\n",
    "z = x.issuperset(y)\n",
    "print(z)"
   ]
  },
  {
   "cell_type": "code",
   "execution_count": 131,
   "id": "9847ee95-a759-43cf-ac63-66fb73e7d4c6",
   "metadata": {},
   "outputs": [
    {
     "name": "stdout",
     "output_type": "stream",
     "text": [
      "{1, 2, 3, 4, 5}\n"
     ]
    }
   ],
   "source": [
    "## Create a set from a list.\n",
    "l=[1,2,3,4,5]\n",
    "c=set(l)\n",
    "print(c)"
   ]
  },
  {
   "cell_type": "code",
   "execution_count": 132,
   "id": "91109f36-a9ec-4e2a-bf63-c467398c7dea",
   "metadata": {},
   "outputs": [
    {
     "name": "stdout",
     "output_type": "stream",
     "text": [
      "1\n"
     ]
    }
   ],
   "source": [
    "## Remove a random element from a set.\n",
    "l={1,2,3,4,5}\n",
    "c=l.pop()\n",
    "print(c)"
   ]
  },
  {
   "cell_type": "code",
   "execution_count": 133,
   "id": "0c25c19b-dc73-47ad-9e33-a6da9dbfe9aa",
   "metadata": {},
   "outputs": [
    {
     "name": "stdout",
     "output_type": "stream",
     "text": [
      "True\n"
     ]
    }
   ],
   "source": [
    "## Check if two sets have no elements in common.\n",
    "list1 = [1, 2, 3, 4, 55]\n",
    "list2 = [2, 3, 90, 22]\n",
    "common_elements = set(list1).intersection(list2)\n",
    "if common_elements:\n",
    "    print(\"True\")\n",
    "else:\n",
    "    print(\"False\")"
   ]
  },
  {
   "cell_type": "code",
   "execution_count": 135,
   "id": "ce5f7762-70fa-453a-918b-4f4620324c86",
   "metadata": {},
   "outputs": [
    {
     "name": "stdout",
     "output_type": "stream",
     "text": [
      "{1, 2, 3, 5, 6, 7}\n"
     ]
    }
   ],
   "source": [
    "## Find the symmetric difference between two sets.\n",
    "a={1,2,3,4}\n",
    "b={4,5,6,7}\n",
    "c=a.symmetric_difference(b)\n",
    "print(c)"
   ]
  },
  {
   "cell_type": "code",
   "execution_count": 136,
   "id": "6439f674-aad7-4779-858d-8c084d84aea8",
   "metadata": {},
   "outputs": [
    {
     "name": "stdout",
     "output_type": "stream",
     "text": [
      "None\n"
     ]
    }
   ],
   "source": [
    "## Update a set with elements from another set.\n",
    "a={1,2,3,4}\n",
    "b={4,5,6,7}\n",
    "c=a.update(b)\n",
    "print(c)"
   ]
  },
  {
   "cell_type": "code",
   "execution_count": 137,
   "id": "dbbb279c-69e2-40b2-8673-2cf547cabc4e",
   "metadata": {},
   "outputs": [
    {
     "name": "stdout",
     "output_type": "stream",
     "text": [
      "Two sets are identical\n"
     ]
    }
   ],
   "source": [
    "## Check if two sets are identical.\n",
    "a={1,2,3}\n",
    "b={1,2,3}\n",
    "if a == b:\n",
    "    print(\"Two sets are identical\")\n",
    "else:\n",
    "    print(\"Two sets are not identical\")"
   ]
  },
  {
   "cell_type": "code",
   "execution_count": 138,
   "id": "bbda7d4c-a265-4388-bd68-1874af327c1d",
   "metadata": {},
   "outputs": [
    {
     "name": "stdout",
     "output_type": "stream",
     "text": [
      "The frozen set is: frozenset({'e', 'u', 'i', 'o', 'a'})\n"
     ]
    }
   ],
   "source": [
    "## Create a frozenset\n",
    "vowels = ('a', 'e', 'i', 'o', 'u')\n",
    "fSet = frozenset(vowels)\n",
    "print('The frozen set is:', fSet)"
   ]
  },
  {
   "cell_type": "code",
   "execution_count": 139,
   "id": "85622150-21b1-47ce-b521-4f670346cb20",
   "metadata": {},
   "outputs": [
    {
     "name": "stdout",
     "output_type": "stream",
     "text": [
      "False\n"
     ]
    }
   ],
   "source": [
    "## Check if a set is disjoint with another set.\n",
    "a={1,2,3,4}\n",
    "b={4,5,6,7}\n",
    "c=a.isdisjoint(b)\n",
    "print(c)"
   ]
  },
  {
   "cell_type": "code",
   "execution_count": 140,
   "id": "a126419a-8bac-40ec-a66d-23ff8f70b065",
   "metadata": {},
   "outputs": [
    {
     "name": "stdout",
     "output_type": "stream",
     "text": [
      "2\n",
      "4\n",
      "6\n",
      "8\n",
      "10\n"
     ]
    }
   ],
   "source": [
    "## Create a set of squares of numbers from 1 to 5.\n",
    "s={1,2,3,4,5}\n",
    "for i in s:\n",
    "    square=i*2\n",
    "    print(square)"
   ]
  },
  {
   "cell_type": "code",
   "execution_count": 141,
   "id": "9bbe7aa6-8876-413c-8f17-b28d298ca1f7",
   "metadata": {},
   "outputs": [
    {
     "name": "stdout",
     "output_type": "stream",
     "text": [
      "All even number is 2\n",
      "All even number is 4\n"
     ]
    }
   ],
   "source": [
    "## Create a set of squares of numbers from 1 to 5.\n",
    "s={1,2,3,4,5}\n",
    "for i in s:\n",
    "    if i%2==0:\n",
    "        print(\"All even number is\",i)"
   ]
  },
  {
   "cell_type": "code",
   "execution_count": 142,
   "id": "6fbe7786-20f4-45e1-8a51-220b53aad6f2",
   "metadata": {},
   "outputs": [
    {
     "name": "stdout",
     "output_type": "stream",
     "text": [
      "2\n",
      "4\n",
      "6\n",
      "8\n",
      "10\n"
     ]
    }
   ],
   "source": [
    "## Multiply all elements in a set by 2.\n",
    "s={1,2,3,4,5}\n",
    "for i in s:\n",
    "    mul=i*2\n",
    "    print(mul)"
   ]
  },
  {
   "cell_type": "code",
   "execution_count": 143,
   "id": "6cf0d6b9-7ce3-4b76-9632-9dc8122c93cb",
   "metadata": {},
   "outputs": [
    {
     "name": "stdout",
     "output_type": "stream",
     "text": [
      "{41, 10, 20, 54, 26}\n"
     ]
    }
   ],
   "source": [
    "## Remove an element from a set using the discard method.\n",
    "def Remove(sets):\n",
    "    sets.discard(21)\n",
    "    print (sets)\n",
    "sets = set([10, 20, 26, 41, 54, 20])\n",
    "Remove(sets)"
   ]
  },
  {
   "cell_type": "code",
   "execution_count": 144,
   "id": "1c337729-8963-40c7-9756-a5437c4789d3",
   "metadata": {},
   "outputs": [
    {
     "name": "stdout",
     "output_type": "stream",
     "text": [
      "{'e', 't', 'w', 'h', 'S', 'a'}\n"
     ]
    }
   ],
   "source": [
    "## Create a set from string\n",
    "s=\"Shweta\"\n",
    "c=set(s)\n",
    "print(c)"
   ]
  },
  {
   "cell_type": "code",
   "execution_count": 145,
   "id": "a66c1ce8-f7e6-4db0-969b-45c0db65d5c0",
   "metadata": {},
   "outputs": [
    {
     "name": "stdout",
     "output_type": "stream",
     "text": [
      "898\n"
     ]
    }
   ],
   "source": [
    "## Find the maximum value in a set.\n",
    "s={101,99,898,23,45,67}\n",
    "c=max(s)\n",
    "print(c)"
   ]
  },
  {
   "cell_type": "code",
   "execution_count": 146,
   "id": "86180b14-229f-485d-b2e3-76c0a221b091",
   "metadata": {},
   "outputs": [
    {
     "name": "stdout",
     "output_type": "stream",
     "text": [
      "23\n"
     ]
    }
   ],
   "source": [
    "## Find the minimum value in a set.\n",
    "s={101,99,898,23,45,67}\n",
    "c=min(s)\n",
    "print(c)"
   ]
  },
  {
   "cell_type": "code",
   "execution_count": 147,
   "id": "e3baf214-1f7b-41a5-b9ed-ec3a700fd183",
   "metadata": {},
   "outputs": [
    {
     "name": "stdout",
     "output_type": "stream",
     "text": [
      "There is an Intersection\n"
     ]
    }
   ],
   "source": [
    "## Check if the intersection of two sets is empty.\n",
    "l1={1,2,3,4}\n",
    "l2={5,6,7,8}\n",
    "if l1 and l2:\n",
    "    print(\"There is an Intersection\")\n",
    "else:\n",
    "    print(\"NO Intersection\")"
   ]
  },
  {
   "cell_type": "code",
   "execution_count": 148,
   "id": "483ca1ae-d39c-463a-b547-cff4cf8e2f11",
   "metadata": {},
   "outputs": [
    {
     "name": "stdout",
     "output_type": "stream",
     "text": [
      "1\n",
      "2\n",
      "3\n",
      "5\n",
      "8\n"
     ]
    }
   ],
   "source": [
    "\n",
    "## Create a set of the first 5 Fibonacci numbers.\n",
    "a=0\n",
    "b=1\n",
    "for i in range(1,6):\n",
    "    c=a+b\n",
    "    a=b\n",
    "    b=c\n",
    "    print(b)"
   ]
  },
  {
   "cell_type": "code",
   "execution_count": 149,
   "id": "f92a2970-ba52-4f84-93ba-18d51937fa5a",
   "metadata": {},
   "outputs": [
    {
     "name": "stdout",
     "output_type": "stream",
     "text": [
      "{1, 2, 3, 4, 5}\n"
     ]
    }
   ],
   "source": [
    "## Remove duplicates from a list using sets.\n",
    "s={1,1,2,2,3,3,4,4,5,5}\n",
    "print(set(s))"
   ]
  },
  {
   "cell_type": "code",
   "execution_count": null,
   "id": "8d4f9722-2eff-4efa-bcb3-29afaa751c8f",
   "metadata": {},
   "outputs": [],
   "source": []
  }
 ],
 "metadata": {
  "kernelspec": {
   "display_name": "Python 3 (ipykernel)",
   "language": "python",
   "name": "python3"
  },
  "language_info": {
   "codemirror_mode": {
    "name": "ipython",
    "version": 3
   },
   "file_extension": ".py",
   "mimetype": "text/x-python",
   "name": "python",
   "nbconvert_exporter": "python",
   "pygments_lexer": "ipython3",
   "version": "3.10.8"
  }
 },
 "nbformat": 4,
 "nbformat_minor": 5
}
