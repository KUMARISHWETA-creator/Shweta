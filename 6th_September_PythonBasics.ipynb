{
 "cells": [
  {
   "cell_type": "code",
   "execution_count": 1,
   "id": "91ceae78-1658-4ace-be07-63f417d1d299",
   "metadata": {},
   "outputs": [],
   "source": [
    "##Swap the value"
   ]
  },
  {
   "cell_type": "code",
   "execution_count": 3,
   "id": "e720f4da-afdc-4f5f-8e9a-22f762f31c66",
   "metadata": {},
   "outputs": [
    {
     "name": "stdout",
     "output_type": "stream",
     "text": [
      "1st number is 20\n",
      "2nd number is 15\n"
     ]
    }
   ],
   "source": [
    "x=15\n",
    "y=20\n",
    "temp=x\n",
    "x=y\n",
    "y=temp\n",
    "print(\"1st number is {}\".format(x))\n",
    "print(\"2nd number is {}\".format(y))"
   ]
  },
  {
   "cell_type": "code",
   "execution_count": 4,
   "id": "da9e847e-364c-45d1-bb3b-1aad01a2a69f",
   "metadata": {},
   "outputs": [],
   "source": [
    "## Area of Rectangle"
   ]
  },
  {
   "cell_type": "code",
   "execution_count": 7,
   "id": "03113b98-8c4d-4a5d-ae69-e077632ac74d",
   "metadata": {},
   "outputs": [
    {
     "name": "stdin",
     "output_type": "stream",
     "text": [
      "Enter Length of rectangle is 12\n",
      "Enter bredth of rectangle is 13\n"
     ]
    },
    {
     "name": "stdout",
     "output_type": "stream",
     "text": [
      "Area of rectangle is: 156\n"
     ]
    }
   ],
   "source": [
    "a=int(input(\"Enter Length of rectangle is\"))\n",
    "b=int(input(\"Enter bredth of rectangle is\"))\n",
    "print(\"Area of rectangle is:\", a*b)"
   ]
  },
  {
   "cell_type": "code",
   "execution_count": 10,
   "id": "3959dc1f-7dc7-45a1-b733-8365d1d18fa7",
   "metadata": {},
   "outputs": [],
   "source": [
    "## convert number to Celsius to Fahrenheit"
   ]
  },
  {
   "cell_type": "code",
   "execution_count": 11,
   "id": "78d5ed34-b422-4005-b723-6d7f8dacf1f4",
   "metadata": {},
   "outputs": [
    {
     "name": "stdin",
     "output_type": "stream",
     "text": [
      "Enter Temprature in Celsius 50\n"
     ]
    },
    {
     "name": "stdout",
     "output_type": "stream",
     "text": [
      "Convert Temparature in celcius to Farenhit is 122.0\n"
     ]
    }
   ],
   "source": [
    "Celsius=int(input(\"Enter Temprature in Celsius\"))\n",
    "fahrenheit=(1.8*Celsius)+32\n",
    "print(\"Convert Temparature in celcius to Farenhit is\",fahrenheit)"
   ]
  },
  {
   "cell_type": "code",
   "execution_count": 12,
   "id": "0964ac3b-280d-42c8-a25c-3e733e7df3e4",
   "metadata": {},
   "outputs": [],
   "source": [
    "## Length of String"
   ]
  },
  {
   "cell_type": "code",
   "execution_count": 13,
   "id": "61dbf9f3-682c-40f2-94d4-8f97a5ae1022",
   "metadata": {},
   "outputs": [
    {
     "name": "stdin",
     "output_type": "stream",
     "text": [
      "Enter a string Kumari Shweta\n"
     ]
    },
    {
     "name": "stdout",
     "output_type": "stream",
     "text": [
      "Length of string is 13\n"
     ]
    }
   ],
   "source": [
    "a=input(\"Enter a string\")\n",
    "print(\"Length of string is\",len(a))"
   ]
  },
  {
   "cell_type": "code",
   "execution_count": 15,
   "id": "0587e982-fa9a-4b36-867e-661c0eb6e1fd",
   "metadata": {},
   "outputs": [],
   "source": [
    "## How many vowels are available in a string"
   ]
  },
  {
   "cell_type": "code",
   "execution_count": 16,
   "id": "90a33bda-4eab-4b6c-ae95-9f8da400ae62",
   "metadata": {},
   "outputs": [
    {
     "name": "stdin",
     "output_type": "stream",
     "text": [
      "Enter a string Shweta Shrivastava\n"
     ]
    },
    {
     "name": "stdout",
     "output_type": "stream",
     "text": [
      "Length of string is 18\n"
     ]
    },
    {
     "name": "stdin",
     "output_type": "stream",
     "text": [
      "Enter a string Kumari Puja\n"
     ]
    },
    {
     "name": "stdout",
     "output_type": "stream",
     "text": [
      "Number of vowels are 0\n",
      "Number of vowels are 1\n",
      "Number of vowels are 1\n",
      "Number of vowels are 2\n",
      "Number of vowels are 2\n",
      "Number of vowels are 3\n",
      "Number of vowels are 3\n",
      "Number of vowels are 3\n",
      "Number of vowels are 4\n",
      "Number of vowels are 4\n",
      "Number of vowels are 5\n"
     ]
    }
   ],
   "source": [
    "a=input(\"Enter a string\")\n",
    "print(\"Length of string is\",len(a))\n",
    "\n",
    "a=input(\"Enter a string\")\n",
    "vowel=0\n",
    "for i in a:\n",
    "    if(i==\"a\"or i==\"e\" or i==\"i\" or i==\"o\" or i==\"u\"):\n",
    "        vowel=vowel+1\n",
    "    print(\"Number of vowels are\",vowel)"
   ]
  },
  {
   "cell_type": "code",
   "execution_count": 17,
   "id": "8f9ad084-8da0-4542-8b4b-b0831a51a221",
   "metadata": {},
   "outputs": [],
   "source": [
    "## Reverse a string"
   ]
  },
  {
   "cell_type": "code",
   "execution_count": 18,
   "id": "0d3d9f1c-9431-41bd-8b2c-d01d3b407200",
   "metadata": {},
   "outputs": [
    {
     "name": "stdin",
     "output_type": "stream",
     "text": [
      "Enter a string Shweta\n"
     ]
    },
    {
     "name": "stdout",
     "output_type": "stream",
     "text": [
      "atewhS\n"
     ]
    }
   ],
   "source": [
    "txt =input(\"Enter a string\")\n",
    "print(txt[::-1])"
   ]
  },
  {
   "cell_type": "code",
   "execution_count": 19,
   "id": "98db7874-8ad6-4dde-b7f5-4cb79e245b77",
   "metadata": {},
   "outputs": [],
   "source": [
    "## Number is palindrome or not"
   ]
  },
  {
   "cell_type": "code",
   "execution_count": 21,
   "id": "55a58f5f-8b87-4ef2-9f94-d5dd4d0c406c",
   "metadata": {},
   "outputs": [
    {
     "name": "stdin",
     "output_type": "stream",
     "text": [
      "Enter number: 121\n"
     ]
    },
    {
     "name": "stdout",
     "output_type": "stream",
     "text": [
      "The number is a palindrome!\n"
     ]
    }
   ],
   "source": [
    "n=int(input(\"Enter number:\"))\n",
    "temp=n\n",
    "rev=0\n",
    "while(n>0):\n",
    "    dig=n%10\n",
    "    rev=rev*10+dig\n",
    "    n=n//10\n",
    "if(temp==rev):\n",
    "    print(\"The number is a palindrome!\")\n",
    "else:\n",
    "    print(\"The number isn't a palindrome!\")"
   ]
  },
  {
   "cell_type": "code",
   "execution_count": null,
   "id": "ec04d61a-7820-4ee4-9222-5b8073a2f8ce",
   "metadata": {},
   "outputs": [],
   "source": []
  }
 ],
 "metadata": {
  "kernelspec": {
   "display_name": "Python 3 (ipykernel)",
   "language": "python",
   "name": "python3"
  },
  "language_info": {
   "codemirror_mode": {
    "name": "ipython",
    "version": 3
   },
   "file_extension": ".py",
   "mimetype": "text/x-python",
   "name": "python",
   "nbconvert_exporter": "python",
   "pygments_lexer": "ipython3",
   "version": "3.10.8"
  }
 },
 "nbformat": 4,
 "nbformat_minor": 5
}
