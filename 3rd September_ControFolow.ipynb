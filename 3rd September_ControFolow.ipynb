{
 "cells": [
  {
   "cell_type": "code",
   "execution_count": 1,
   "id": "51a75b6f-6be0-4824-ae62-882211786eda",
   "metadata": {},
   "outputs": [
    {
     "name": "stdin",
     "output_type": "stream",
     "text": [
      "Enter a number 23\n"
     ]
    },
    {
     "name": "stdout",
     "output_type": "stream",
     "text": [
      "Number is positive\n"
     ]
    }
   ],
   "source": [
    "## Write a Python program to check if a given number is positive or negative.\n",
    "num=int(input(\"Enter a number\"))\n",
    "if num>=0:\n",
    "    print(\"Number is positive\")\n",
    "else:\n",
    "    print(\"Number is Negative\")"
   ]
  },
  {
   "cell_type": "code",
   "execution_count": 2,
   "id": "b48b47a0-2e89-4dd7-8816-a6d9971a1ef2",
   "metadata": {},
   "outputs": [
    {
     "name": "stdin",
     "output_type": "stream",
     "text": [
      "Enter age of person 34\n"
     ]
    },
    {
     "name": "stdout",
     "output_type": "stream",
     "text": [
      "Person is eligible to vote\n"
     ]
    }
   ],
   "source": [
    "## Create a program that determines if a person is eligible to vote based on their age.\n",
    "age=int(input(\"Enter age of person\"))\n",
    "if age>=18:\n",
    "    print(\"Person is eligible to vote\")\n",
    "else:\n",
    "    print(\"Person is not eligible to vote\")"
   ]
  },
  {
   "cell_type": "code",
   "execution_count": 3,
   "id": "49c1678a-c7b0-453e-b042-4ece1a1e6aeb",
   "metadata": {},
   "outputs": [
    {
     "name": "stdin",
     "output_type": "stream",
     "text": [
      "Enter 1st number 23\n",
      "Enter 2nd number 45\n"
     ]
    },
    {
     "name": "stdout",
     "output_type": "stream",
     "text": [
      "Maximum number is: 45\n"
     ]
    }
   ],
   "source": [
    "## Develop a program to find the maximum of two numbers using if-else statements.\n",
    "a=int(input(\"Enter 1st number\"))\n",
    "b=int(input(\"Enter 2nd number\"))\n",
    "if a>b:\n",
    "    print(\"Maximum number is:\",a)\n",
    "else:\n",
    "    print(\"Maximum number is:\",b)"
   ]
  },
  {
   "cell_type": "code",
   "execution_count": 4,
   "id": "8d73862c-5b19-4b40-8b90-c544cfbd6f9e",
   "metadata": {},
   "outputs": [
    {
     "name": "stdin",
     "output_type": "stream",
     "text": [
      "Enter year 2024\n"
     ]
    },
    {
     "name": "stdout",
     "output_type": "stream",
     "text": [
      "Year is a Leap Year\n"
     ]
    }
   ],
   "source": [
    "## Write a Python script to classify a given year as a leap year or not.\n",
    "year=int(input(\"Enter year\"))\n",
    "if year%4==0 or year%400==0:\n",
    "    print(\"Year is a Leap Year\")\n",
    "else:\n",
    "    print(\"Year is not a Leap Year\")"
   ]
  },
  {
   "cell_type": "code",
   "execution_count": 5,
   "id": "a78ec2de-039b-4b1f-97a9-1c0cdcd544b0",
   "metadata": {},
   "outputs": [
    {
     "name": "stdin",
     "output_type": "stream",
     "text": [
      "Enter character B\n"
     ]
    },
    {
     "name": "stdout",
     "output_type": "stream",
     "text": [
      "Character is a constant\n"
     ]
    }
   ],
   "source": [
    "## Create a program that checks whether a character is a vowel or a consonant\n",
    "character=input(\"Enter character\")\n",
    "if character=='A' or character=='E' or character=='I' or character=='O' or character=='U' or character=='a' or character=='e' or character=='i' or character=='o' or character=='u':\n",
    "    print(\"Character is a vowel\")\n",
    "else:\n",
    "    print(\"Character is a constant\")"
   ]
  },
  {
   "cell_type": "code",
   "execution_count": 6,
   "id": "4b2ea294-5d2e-46f4-96f3-e6debe710dc9",
   "metadata": {},
   "outputs": [
    {
     "name": "stdin",
     "output_type": "stream",
     "text": [
      "Enter a number 21\n"
     ]
    },
    {
     "name": "stdout",
     "output_type": "stream",
     "text": [
      "Number is odd\n"
     ]
    }
   ],
   "source": [
    "## Implement a program to determine whether a given number is even or odd.\n",
    "num=int(input(\"Enter a number\"))\n",
    "if num%2==0:\n",
    "    print(\"Number is even\")\n",
    "else:\n",
    "    print(\"Number is odd\")"
   ]
  },
  {
   "cell_type": "code",
   "execution_count": 7,
   "id": "a3c95279-5d18-4715-bbdf-eeee259dd051",
   "metadata": {},
   "outputs": [
    {
     "name": "stdin",
     "output_type": "stream",
     "text": [
      "Enter a number -21\n"
     ]
    },
    {
     "name": "stdout",
     "output_type": "stream",
     "text": [
      "absolute number is: 21\n"
     ]
    }
   ],
   "source": [
    "\n",
    "## Write a Python function to calculate the absolute value of a number without using the `abs()` function.\n",
    "a=int(input(\"Enter a number\"))\n",
    "if a>=0 or a<=0:\n",
    "    print(\"absolute number is:\",abs(a))"
   ]
  },
  {
   "cell_type": "code",
   "execution_count": 8,
   "id": "c79db0bd-689d-4e23-9e9f-0ead1dd1aacf",
   "metadata": {},
   "outputs": [
    {
     "name": "stdin",
     "output_type": "stream",
     "text": [
      "Enter 1st number 23\n",
      "Enter 2nd number 45\n",
      "Enter 3rd number 25\n"
     ]
    },
    {
     "name": "stdout",
     "output_type": "stream",
     "text": [
      "greatest number is: 45\n"
     ]
    }
   ],
   "source": [
    "## Develop a program that determines the largest of three given numbers using if-else statements\n",
    "a=int(input(\"Enter 1st number\"))\n",
    "b=int(input(\"Enter 2nd number\"))\n",
    "c=int(input(\"Enter 3rd number\"))\n",
    "if ((a>b) and (a>c)):\n",
    "    print(\"Greatest number is:\",a)\n",
    "elif ((b>a) and (b>c)):\n",
    "    print(\"greatest number is:\",b)\n",
    "else:\n",
    "    print(\"greatest number is:\",c)"
   ]
  },
  {
   "cell_type": "code",
   "execution_count": 9,
   "id": "a0edc425-6772-4ff4-800b-73b3af857dae",
   "metadata": {},
   "outputs": [
    {
     "name": "stdin",
     "output_type": "stream",
     "text": [
      "Enter grade of a student B\n"
     ]
    },
    {
     "name": "stdout",
     "output_type": "stream",
     "text": [
      "Student got good score in Physics\n"
     ]
    }
   ],
   "source": [
    "## Write a Python program to calculate the grade based on a student's score.\n",
    "grade=input(\"Enter grade of a student\")\n",
    "if grade=='A':\n",
    "    print(\"Student got good score in Math\")\n",
    "elif grade=='B':\n",
    "    print(\"Student got good score in Physics\")\n",
    "elif grade=='C':\n",
    "    print(\"Student got good score in Chemestry\")\n",
    "else:\n",
    "    print(\"Student got good score in Biology\")"
   ]
  },
  {
   "cell_type": "code",
   "execution_count": 10,
   "id": "4f31730a-02c8-4ecd-9f62-aef8893d4063",
   "metadata": {},
   "outputs": [
    {
     "name": "stdin",
     "output_type": "stream",
     "text": [
      "Enter 1st number 34\n",
      "Enter 2nd number 45\n",
      "Enter 3rd number 65\n"
     ]
    },
    {
     "name": "stdout",
     "output_type": "stream",
     "text": [
      "Scalene Triangle\n"
     ]
    }
   ],
   "source": [
    "## Implement a program to determine if a triangle is equilateral, isosceles, or scalene.\n",
    "x=int(input(\"Enter 1st number\"))\n",
    "y=int(input(\"Enter 2nd number\"))\n",
    "z=int(input(\"Enter 3rd number\"))\n",
    "if (x == y and y == z):\n",
    "    print(\"Equilateral Triangle\")\n",
    "elif (x == y or y == z or z == x):\n",
    "    print(\"Isosceles Triangle\")\n",
    "else:\n",
    "    print(\"Scalene Triangle\")"
   ]
  },
  {
   "cell_type": "code",
   "execution_count": 11,
   "id": "5491aeec-4aba-4f6e-9a4c-eade10ee619e",
   "metadata": {},
   "outputs": [
    {
     "name": "stdin",
     "output_type": "stream",
     "text": [
      "Enter a number 18\n"
     ]
    },
    {
     "name": "stdout",
     "output_type": "stream",
     "text": [
      "person is teenager\n"
     ]
    }
   ],
   "source": [
    "## Create a program to check if a person is a teenager (between 13 and 19 years old).\n",
    "num=int(input(\"Enter a number\"))\n",
    "if num>=13 and num<=19:\n",
    "    print(\"person is teenager\")\n",
    "else:\n",
    "    print(\"person is not teenager\")"
   ]
  },
  {
   "cell_type": "code",
   "execution_count": 13,
   "id": "34f3d123-1315-4549-9d56-43897136b7a2",
   "metadata": {},
   "outputs": [
    {
     "name": "stdout",
     "output_type": "stream",
     "text": [
      "Equation: ax^2 + bx + c \n"
     ]
    },
    {
     "name": "stdin",
     "output_type": "stream",
     "text": [
      "Enter a:  2\n",
      "Enter b:  3\n",
      "Enter c:  4\n"
     ]
    },
    {
     "name": "stdout",
     "output_type": "stream",
     "text": [
      "The roots are imaginary. \n"
     ]
    }
   ],
   "source": [
    "## Develop a program that determines the type of angle based on its measure (acute, obtuse, or right).\n",
    "print(\"Equation: ax^2 + bx + c \")\n",
    "a=int(input(\"Enter a: \"))\n",
    "b=int(input(\"Enter b: \"))\n",
    "c=int(input(\"Enter c: \"))\n",
    "d=b**2-4*a*c\n",
    "d1=d**0.5\n",
    "if(d<0):\n",
    "    print(\"The roots are imaginary. \")\n",
    "else:\n",
    "    r1=(-b+d1)/2*a\n",
    "    r2=(-b-d1)/2*a\n",
    "    print(\"The first root: \",round(r1,2))\n",
    "    print(\"The second root: \",round(r2,2))"
   ]
  },
  {
   "cell_type": "code",
   "execution_count": 14,
   "id": "2606481c-e215-4cfa-a88a-f528cb7cf113",
   "metadata": {},
   "outputs": [
    {
     "name": "stdin",
     "output_type": "stream",
     "text": [
      "Enter the day of the week 7\n"
     ]
    },
    {
     "name": "stdout",
     "output_type": "stream",
     "text": [
      "Sunday\n"
     ]
    }
   ],
   "source": [
    "## Implement a program to determine the day of the week based on a user-provided number (1 for Monday, 2 for tuesday.....)\n",
    "day=int(input(\"Enter the day of the week\"))\n",
    "if day==1:\n",
    "    print(\"Monday\")\n",
    "elif day==2:\n",
    "    print(\"Tuesday\")\n",
    "elif day==3:\n",
    "    print(\"Wednesday\")\n",
    "elif day==4:\n",
    "    print(\"Thursday\")\n",
    "elif day==5:\n",
    "    print(\"Friday\")\n",
    "elif day==6:\n",
    "    print(\"Saturday\")\n",
    "else:\n",
    "    print(\"Sunday\")"
   ]
  },
  {
   "cell_type": "code",
   "execution_count": 15,
   "id": "2ccfdff2-6c2c-4724-b353-f8b42858a88a",
   "metadata": {},
   "outputs": [
    {
     "name": "stdin",
     "output_type": "stream",
     "text": [
      "Enter a number 16000\n"
     ]
    },
    {
     "name": "stdout",
     "output_type": "stream",
     "text": [
      "Year is a leap year\n"
     ]
    }
   ],
   "source": [
    "## Create a program that determines if a year is a leap year and also if it is evenly divisible by 400.\n",
    "num=int(input(\"Enter a number\"))\n",
    "if num%400==0:\n",
    "    print(\"Year is a leap year\")\n",
    "else:\n",
    "    print(\"Year is not a leap year\")"
   ]
  },
  {
   "cell_type": "code",
   "execution_count": 16,
   "id": "e7b9990f-6ef6-4b2f-863a-c2f6b3dc86ec",
   "metadata": {},
   "outputs": [
    {
     "name": "stdout",
     "output_type": "stream",
     "text": [
      "Enter Marks Obtained in 5 Subjects: \n"
     ]
    },
    {
     "name": "stdin",
     "output_type": "stream",
     "text": [
      " 34\n",
      " 45\n",
      " 65\n",
      " 78\n",
      " 89\n"
     ]
    },
    {
     "name": "stdout",
     "output_type": "stream",
     "text": [
      "Your Grade is B2\n"
     ]
    }
   ],
   "source": [
    "## Write a Python program to assign grades based on different ranges of scores using elif statements.\n",
    "print(\"Enter Marks Obtained in 5 Subjects: \")\n",
    "markOne = int(input())\n",
    "markTwo = int(input())\n",
    "markThree = int(input())\n",
    "markFour = int(input())\n",
    "markFive = int(input())\n",
    "tot = markOne+markTwo+markThree+markFour+markFive\n",
    "avg = tot/5\n",
    "if avg>=91 and avg<=100:\n",
    "    print(\"Your Grade is A1\")\n",
    "elif avg>=81 and avg<91:\n",
    "    print(\"Your Grade is A2\")\n",
    "elif avg>=71 and avg<81:\n",
    "    print(\"Your Grade is B1\")\n",
    "elif avg>=61 and avg<71:\n",
    "    print(\"Your Grade is B2\")\n",
    "elif avg>=51 and avg<61:\n",
    "    print(\"Your Grade is C1\")\n",
    "elif avg>=41 and avg<51:\n",
    "    print(\"Your Grade is C2\")\n",
    "elif avg>=33 and avg<41:\n",
    "    print(\"Your Grade is D\")\n",
    "elif avg>=21 and avg<33:\n",
    "    print(\"Your Grade is E1\")\n",
    "elif avg>=0 and avg<21:\n",
    "    print(\"Your Grade is E2\")\n",
    "else:\n",
    "    print(\"Invalid Input!\")"
   ]
  },
  {
   "cell_type": "code",
   "execution_count": 17,
   "id": "bcf5efae-6231-4695-8bf0-cf7179082f42",
   "metadata": {},
   "outputs": [
    {
     "name": "stdin",
     "output_type": "stream",
     "text": [
      "Enter your height in meters:  40\n",
      "Enter your weight in kg:  34\n"
     ]
    },
    {
     "name": "stdout",
     "output_type": "stream",
     "text": [
      "Welcome to the BMI calculator.\n",
      "Your BMI is:  0.02\n",
      "You are underweight.\n"
     ]
    }
   ],
   "source": [
    "## Develop a program to categorize a given person's BMI into underweight, normal, overweight, or obese using\n",
    "def bodymassindex(height, weight):\n",
    "    return round((weight / height**2),2)\n",
    "h = float(input(\"Enter your height in meters: \"))\n",
    "w = float(input(\"Enter your weight in kg: \"))\n",
    "print(\"Welcome to the BMI calculator.\")\n",
    "bmi = bodymassindex(h, w)\n",
    "print(\"Your BMI is: \", bmi)\n",
    "if bmi <= 18.5:\n",
    "    print(\"You are underweight.\")\n",
    "elif 18.5 < bmi <= 24.9:\n",
    "    print(\"Your weight is normal.\")\n",
    "elif 25 < bmi <= 29.29:\n",
    "    print(\"You are overweight.\")\n",
    "else:\n",
    "    print(\"You are obese.\")"
   ]
  },
  {
   "cell_type": "code",
   "execution_count": 18,
   "id": "6a046344-217b-4a12-8fa8-0e2be6d1a784",
   "metadata": {},
   "outputs": [
    {
     "name": "stdin",
     "output_type": "stream",
     "text": [
      "Input a number:  45\n"
     ]
    },
    {
     "name": "stdout",
     "output_type": "stream",
     "text": [
      "It is positive number\n"
     ]
    }
   ],
   "source": [
    "## Create a program that determines whether a given number is positive, negative, or zero using elif statements\n",
    "num = int(input(\"Input a number: \"))\n",
    "if num > 0:\n",
    "   print(\"It is positive number\")\n",
    "elif num == 0:\n",
    "   print(\"It is Zero\")\n",
    "else:\n",
    "   print(\"It is a negative number\")"
   ]
  },
  {
   "cell_type": "code",
   "execution_count": 19,
   "id": "4821c5d6-7528-4a06-8ed5-c17bc9bcefa4",
   "metadata": {},
   "outputs": [
    {
     "name": "stdin",
     "output_type": "stream",
     "text": [
      "Enter a character:  C\n"
     ]
    },
    {
     "name": "stdout",
     "output_type": "stream",
     "text": [
      "C is a lower case letter.\n"
     ]
    }
   ],
   "source": [
    "## Write a Python script to determine the type of a character (uppercase, lowercase, or special) using elif statements.\n",
    "character = input(\"Enter a character: \")\n",
    "\n",
    "lowerLetters = \"abcdefghijklmnopqrstuvwxyz\"\n",
    "upperLetters = \"ABCDEFGHIJKLMNOPQRSTUVWXYZ\"\n",
    "digits = \"0123456789\"\n",
    "lowerCount = 0\n",
    "upperCount = 0\n",
    "digitCount = 0\n",
    "nonAlphaCount = 0\n",
    "\n",
    "for ch in character:\n",
    "    for ch in lowerLetters:\n",
    "        lowerCount += 1\n",
    "    for ch in upperLetters:\n",
    "        upperCount += 1\n",
    "    for ch in digits:\n",
    "        digitCount += 1\n",
    "    else:\n",
    "        nonAlphaCount += 1\n",
    "\n",
    "if lowerCount > 0:\n",
    "    print(character, \"is a lower case letter.\")\n",
    "elif upperCount > 0:\n",
    "    print(character, \"is an upper case letter.\")\n",
    "elif digitCount > 0:\n",
    "    print(character, \"is a digit.\")\n",
    "elif nonAlphaCount > 0:\n",
    "    print(character, \"is a non-alphanumeric character.\")"
   ]
  },
  {
   "cell_type": "code",
   "execution_count": 20,
   "id": "20a1a1a0-456b-481b-821d-7394df47ac1d",
   "metadata": {},
   "outputs": [
    {
     "name": "stdin",
     "output_type": "stream",
     "text": [
      "Enter Sale Amount:  20000\n"
     ]
    },
    {
     "name": "stdout",
     "output_type": "stream",
     "text": [
      "Discount :  4000.0\n",
      "Net Pay  :  16000.0\n"
     ]
    }
   ],
   "source": [
    "## Implement a program to calculate the discounted price based on different purchase amounts using elif statements.\n",
    "amt = int(input(\"Enter Sale Amount: \"))\n",
    "\n",
    "# checking conditions and calculating discount\n",
    "if(amt>0):\n",
    "    if amt<=5000:\n",
    "       disc = amt*0.05\n",
    "    elif amt<=15000:\n",
    "        disc=amt*0.12\n",
    "    elif amt<=25000:\n",
    "        disc=0.2 * amt\n",
    "    else:\n",
    "         disc=0.3 * amt\n",
    "\n",
    "    print(\"Discount : \",disc)\n",
    "    print(\"Net Pay  : \",amt-disc)\n",
    "else:\n",
    "    print(\"Invalid Amount\")"
   ]
  },
  {
   "cell_type": "code",
   "execution_count": 21,
   "id": "67ae78c5-f0d3-4179-ad9c-2db0fd111e43",
   "metadata": {},
   "outputs": [
    {
     "name": "stdin",
     "output_type": "stream",
     "text": [
      "please enter the number of units you consumed in a month 11\n"
     ]
    },
    {
     "name": "stdout",
     "output_type": "stream",
     "text": [
      "\n",
      "Electicity bill=41.50\n"
     ]
    }
   ],
   "source": [
    "## Develop a program to calculate the electricity bill based on different consumption slabs using elif statements.\n",
    "#program for calculating electricity bill in Python\n",
    "units=int(input(\"please enter the number of units you consumed in a month\"))\n",
    "if(units<=100):\n",
    "    payAmount=units*1.5\n",
    "    fixedcharge=25.00\n",
    "elif(units<=200):\n",
    "    payAmount=(100*1.5)+(units-100)*2.5\n",
    "    fixedcharge=50.00\n",
    "elif(units<=300):\n",
    "    payAmount=(100*1.5)+(200-100)*2.5+(units-200)*4\n",
    "    fixedcharge=75.00\n",
    "elif(units<=350):\n",
    "    payAmount=(100*1.5)+(200-100)*2.5+(300-200)*4+(units-300)*5\n",
    "    fixedcharge=100.00\n",
    "else:\n",
    "    payAmount=0\n",
    "    fixedcharge=1500.00\n",
    "Total=payAmount+fixedcharge;\n",
    "print(\"\\nElecticity bill=%.2f\" %Total)"
   ]
  },
  {
   "cell_type": "code",
   "execution_count": 22,
   "id": "9487bcc6-3086-40cd-91b3-4ff2e144b319",
   "metadata": {},
   "outputs": [
    {
     "name": "stdin",
     "output_type": "stream",
     "text": [
      "Input the month (e.g. January, February etc.):  March\n",
      "Input the day:  6\n"
     ]
    },
    {
     "name": "stdout",
     "output_type": "stream",
     "text": [
      "Season is winter\n"
     ]
    }
   ],
   "source": [
    "## Write a Python script to determine the season based on a user-provided month using elif statements.\n",
    "month = input(\"Input the month (e.g. January, February etc.): \")\n",
    "day = int(input(\"Input the day: \"))\n",
    "if month in ('January', 'February', 'March'):\n",
    "\tseason = 'winter'\n",
    "elif month in ('April', 'May', 'June'):\n",
    "\tseason = 'spring'\n",
    "elif month in ('July', 'August', 'September'):\n",
    "\tseason = 'summer'\n",
    "else:\n",
    "\tseason = 'autumn'\n",
    "if (month == 'March') and (day > 19):\n",
    "\tseason = 'spring'\n",
    "elif (month == 'June') and (day > 20):\n",
    "\tseason = 'summer'\n",
    "elif (month == 'September') and (day > 21):\n",
    "\tseason = 'autumn'\n",
    "elif (month == 'December') and (day > 20):\n",
    "\tseason = 'winter'\n",
    "print(\"Season is\",season)"
   ]
  },
  {
   "cell_type": "code",
   "execution_count": 23,
   "id": "bb422581-9bd8-4888-8ad4-54b44e368060",
   "metadata": {},
   "outputs": [
    {
     "name": "stdout",
     "output_type": "stream",
     "text": [
      "2000 is a leap year\n",
      "2016 is a leap year\n",
      "2100 is not a leap year\n"
     ]
    }
   ],
   "source": [
    "\n",
    "## Implement a program to determine the type of a year (leap or common) and month (30 or 31 days) using elif statements.\n",
    "def check_leap_year(year):\n",
    "    \"\"\"\n",
    "    Check if the given year is a leap year or not.\n",
    "    \"\"\"\n",
    "    if year % 4 == 0:\n",
    "        if year % 100 == 0:\n",
    "            if year % 400 == 0:\n",
    "                print(f\"{year} is a leap year\")\n",
    "            else:\n",
    "                print(f\"{year} is not a leap year\")\n",
    "        else:\n",
    "            print(f\"{year} is a leap year\")\n",
    "    else:\n",
    "        print(f\"{year} is not a leap year\")\n",
    "check_leap_year(2000)  # This 2000 is a leap year\n",
    "check_leap_year(2016)  # This 2016 is a leap year\n",
    "check_leap_year(2100)  # This 2100 is not a leap year"
   ]
  },
  {
   "cell_type": "code",
   "execution_count": 24,
   "id": "fc087849-909c-4cfb-a865-9c05d8e7e551",
   "metadata": {},
   "outputs": [
    {
     "name": "stdin",
     "output_type": "stream",
     "text": [
      "Length of side a =  34\n",
      "Length of side b =  45\n",
      "Length of side c =  65\n"
     ]
    },
    {
     "name": "stdout",
     "output_type": "stream",
     "text": [
      "This is a a Scalene triangle\n",
      "Is this a valid triangle? True\n"
     ]
    }
   ],
   "source": [
    "## Write a program to classify a triangle based on its sides' lengths.\n",
    "from decimal import *\n",
    "\n",
    "getcontext().prec = 3\n",
    "getcontext().rounding = ROUND_HALF_UP\n",
    "\n",
    "#Needs to be divided to re-set decimal place I think\n",
    "a = Decimal(input(\"Length of side a = \")) / 1\n",
    "b = Decimal(input(\"Length of side b = \")) / 1\n",
    "c = Decimal(input(\"Length of side c = \")) / 1\n",
    "\n",
    "if a != b and b != c and a != c:\n",
    "    print(\"This is a a Scalene triangle\")\n",
    "    triangle_type = 'Scalene'\n",
    "elif a == b and c == b:\n",
    "    print(\"This is an Equilateral triangle\")\n",
    "    triangle_type = 'Equilateral'\n",
    "else:\n",
    "    print(\"This is an Isosceles triangle\")\n",
    "    triangle_type = 'Isosceles'\n",
    "\n",
    "def is_valid_triangle(a, b, c,triangle_type):\n",
    "    if triangle_type == 'Equilateral':\n",
    "        return True #all same lengths will be a valid triangle\n",
    "    elif triangle_type == 'Isosceles' or triangle_type == 'Scalene':\n",
    "        if a == b:\n",
    "            return a + b > c\n",
    "        elif b == c:\n",
    "            return b + c > a\n",
    "        elif a == c:\n",
    "            return a + c > b\n",
    "        else: #This will be the scalene triangle\n",
    "                        return a + b > c\n",
    "    else:\n",
    "        return False \n",
    "print('Is this a valid triangle?', is_valid_triangle(a,b,c,triangle_type))"
   ]
  },
  {
   "cell_type": "code",
   "execution_count": null,
   "id": "267b4cb1-44cf-4453-ac5b-0b8872653f5b",
   "metadata": {},
   "outputs": [],
   "source": []
  }
 ],
 "metadata": {
  "kernelspec": {
   "display_name": "Python 3 (ipykernel)",
   "language": "python",
   "name": "python3"
  },
  "language_info": {
   "codemirror_mode": {
    "name": "ipython",
    "version": 3
   },
   "file_extension": ".py",
   "mimetype": "text/x-python",
   "name": "python",
   "nbconvert_exporter": "python",
   "pygments_lexer": "ipython3",
   "version": "3.10.8"
  }
 },
 "nbformat": 4,
 "nbformat_minor": 5
}
